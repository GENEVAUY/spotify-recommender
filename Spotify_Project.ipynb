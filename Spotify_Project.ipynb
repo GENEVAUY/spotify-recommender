{
 "cells": [
  {
   "cell_type": "code",
   "execution_count": 1,
   "id": "1dfba6a9",
   "metadata": {},
   "outputs": [],
   "source": [
    "import numpy as np\n",
    "import pandas as pd\n",
    "import spotipy as sp\n",
    "import pickle\n",
    "from sklearn import datasets # sklearn comes with some toy datasets to practice\n",
    "from sklearn.preprocessing import StandardScaler\n",
    "from sklearn.cluster import KMeans\n",
    "from matplotlib import pyplot\n",
    "from sklearn.metrics import silhouette_score\n",
    "##!conda install -c conda-forge spotipy\n",
    "import config\n",
    "import pandas\n",
    "import spotipy\n",
    "import json\n",
    "from spotipy.oauth2 import SpotifyClientCredentials\n",
    "import pprint\n",
    "#Initialize SpotiPy with user credentials\n",
    "sp = spotipy.Spotify(auth_manager=SpotifyClientCredentials(client_id= config.client_id,\n",
    "                                                           client_secret= config.client_secret))"
   ]
  },
  {
   "cell_type": "code",
   "execution_count": 2,
   "id": "4e630e61",
   "metadata": {},
   "outputs": [],
   "source": [
    "audio = pd.read_csv (\"combined.csv\")"
   ]
  },
  {
   "cell_type": "code",
   "execution_count": 3,
   "id": "db37ffa2",
   "metadata": {},
   "outputs": [
    {
     "data": {
      "text/html": [
       "<div>\n",
       "<style scoped>\n",
       "    .dataframe tbody tr th:only-of-type {\n",
       "        vertical-align: middle;\n",
       "    }\n",
       "\n",
       "    .dataframe tbody tr th {\n",
       "        vertical-align: top;\n",
       "    }\n",
       "\n",
       "    .dataframe thead th {\n",
       "        text-align: right;\n",
       "    }\n",
       "</style>\n",
       "<table border=\"1\" class=\"dataframe\">\n",
       "  <thead>\n",
       "    <tr style=\"text-align: right;\">\n",
       "      <th></th>\n",
       "      <th>danceability</th>\n",
       "      <th>energy</th>\n",
       "      <th>key</th>\n",
       "      <th>loudness</th>\n",
       "      <th>mode</th>\n",
       "      <th>speechiness</th>\n",
       "      <th>acousticness</th>\n",
       "      <th>instrumentalness</th>\n",
       "      <th>liveness</th>\n",
       "      <th>valence</th>\n",
       "      <th>tempo</th>\n",
       "      <th>type</th>\n",
       "      <th>id</th>\n",
       "      <th>uri</th>\n",
       "      <th>track_href</th>\n",
       "      <th>analysis_url</th>\n",
       "      <th>duration_ms</th>\n",
       "      <th>time_signature</th>\n",
       "    </tr>\n",
       "  </thead>\n",
       "  <tbody>\n",
       "    <tr>\n",
       "      <th>0</th>\n",
       "      <td>0.552</td>\n",
       "      <td>0.702</td>\n",
       "      <td>9</td>\n",
       "      <td>-5.707</td>\n",
       "      <td>1</td>\n",
       "      <td>0.1570</td>\n",
       "      <td>0.11700</td>\n",
       "      <td>0.000021</td>\n",
       "      <td>0.1050</td>\n",
       "      <td>0.564</td>\n",
       "      <td>169.994</td>\n",
       "      <td>audio_features</td>\n",
       "      <td>1BxfuPKGuaTgP7aM0Bbdwr</td>\n",
       "      <td>spotify:track:1BxfuPKGuaTgP7aM0Bbdwr</td>\n",
       "      <td>https://api.spotify.com/v1/tracks/1BxfuPKGuaTg...</td>\n",
       "      <td>https://api.spotify.com/v1/audio-analysis/1Bxf...</td>\n",
       "      <td>178427</td>\n",
       "      <td>4</td>\n",
       "    </tr>\n",
       "    <tr>\n",
       "      <th>1</th>\n",
       "      <td>0.511</td>\n",
       "      <td>0.532</td>\n",
       "      <td>5</td>\n",
       "      <td>-5.745</td>\n",
       "      <td>1</td>\n",
       "      <td>0.0560</td>\n",
       "      <td>0.16900</td>\n",
       "      <td>0.000000</td>\n",
       "      <td>0.3110</td>\n",
       "      <td>0.322</td>\n",
       "      <td>137.827</td>\n",
       "      <td>audio_features</td>\n",
       "      <td>3k79jB4aGmMDUQzEwa46Rz</td>\n",
       "      <td>spotify:track:3k79jB4aGmMDUQzEwa46Rz</td>\n",
       "      <td>https://api.spotify.com/v1/tracks/3k79jB4aGmMD...</td>\n",
       "      <td>https://api.spotify.com/v1/audio-analysis/3k79...</td>\n",
       "      <td>219724</td>\n",
       "      <td>4</td>\n",
       "    </tr>\n",
       "    <tr>\n",
       "      <th>2</th>\n",
       "      <td>0.855</td>\n",
       "      <td>0.678</td>\n",
       "      <td>1</td>\n",
       "      <td>-6.276</td>\n",
       "      <td>1</td>\n",
       "      <td>0.1890</td>\n",
       "      <td>0.05690</td>\n",
       "      <td>0.000037</td>\n",
       "      <td>0.4120</td>\n",
       "      <td>0.852</td>\n",
       "      <td>99.029</td>\n",
       "      <td>audio_features</td>\n",
       "      <td>6WzRpISELf3YglGAh7TXcG</td>\n",
       "      <td>spotify:track:6WzRpISELf3YglGAh7TXcG</td>\n",
       "      <td>https://api.spotify.com/v1/tracks/6WzRpISELf3Y...</td>\n",
       "      <td>https://api.spotify.com/v1/audio-analysis/6WzR...</td>\n",
       "      <td>215467</td>\n",
       "      <td>4</td>\n",
       "    </tr>\n",
       "    <tr>\n",
       "      <th>3</th>\n",
       "      <td>0.671</td>\n",
       "      <td>0.845</td>\n",
       "      <td>11</td>\n",
       "      <td>-4.930</td>\n",
       "      <td>0</td>\n",
       "      <td>0.0480</td>\n",
       "      <td>0.02070</td>\n",
       "      <td>0.000000</td>\n",
       "      <td>0.3290</td>\n",
       "      <td>0.775</td>\n",
       "      <td>110.056</td>\n",
       "      <td>audio_features</td>\n",
       "      <td>1vYXt7VSjH9JIM5oRRo7vA</td>\n",
       "      <td>spotify:track:1vYXt7VSjH9JIM5oRRo7vA</td>\n",
       "      <td>https://api.spotify.com/v1/tracks/1vYXt7VSjH9J...</td>\n",
       "      <td>https://api.spotify.com/v1/audio-analysis/1vYX...</td>\n",
       "      <td>176579</td>\n",
       "      <td>4</td>\n",
       "    </tr>\n",
       "    <tr>\n",
       "      <th>4</th>\n",
       "      <td>0.652</td>\n",
       "      <td>0.800</td>\n",
       "      <td>9</td>\n",
       "      <td>-4.019</td>\n",
       "      <td>0</td>\n",
       "      <td>0.0614</td>\n",
       "      <td>0.14300</td>\n",
       "      <td>0.629000</td>\n",
       "      <td>0.1120</td>\n",
       "      <td>0.234</td>\n",
       "      <td>143.978</td>\n",
       "      <td>audio_features</td>\n",
       "      <td>7ro0hRteUMfnOioTFI5TG1</td>\n",
       "      <td>spotify:track:7ro0hRteUMfnOioTFI5TG1</td>\n",
       "      <td>https://api.spotify.com/v1/tracks/7ro0hRteUMfn...</td>\n",
       "      <td>https://api.spotify.com/v1/audio-analysis/7ro0...</td>\n",
       "      <td>231704</td>\n",
       "      <td>4</td>\n",
       "    </tr>\n",
       "    <tr>\n",
       "      <th>...</th>\n",
       "      <td>...</td>\n",
       "      <td>...</td>\n",
       "      <td>...</td>\n",
       "      <td>...</td>\n",
       "      <td>...</td>\n",
       "      <td>...</td>\n",
       "      <td>...</td>\n",
       "      <td>...</td>\n",
       "      <td>...</td>\n",
       "      <td>...</td>\n",
       "      <td>...</td>\n",
       "      <td>...</td>\n",
       "      <td>...</td>\n",
       "      <td>...</td>\n",
       "      <td>...</td>\n",
       "      <td>...</td>\n",
       "      <td>...</td>\n",
       "      <td>...</td>\n",
       "    </tr>\n",
       "    <tr>\n",
       "      <th>5772</th>\n",
       "      <td>0.700</td>\n",
       "      <td>0.829</td>\n",
       "      <td>8</td>\n",
       "      <td>-6.846</td>\n",
       "      <td>1</td>\n",
       "      <td>0.0669</td>\n",
       "      <td>0.00218</td>\n",
       "      <td>0.000472</td>\n",
       "      <td>0.1200</td>\n",
       "      <td>0.886</td>\n",
       "      <td>148.068</td>\n",
       "      <td>audio_features</td>\n",
       "      <td>5sL7LWGCUUEcP4gLBkFW3N</td>\n",
       "      <td>spotify:track:5sL7LWGCUUEcP4gLBkFW3N</td>\n",
       "      <td>https://api.spotify.com/v1/tracks/5sL7LWGCUUEc...</td>\n",
       "      <td>https://api.spotify.com/v1/audio-analysis/5sL7...</td>\n",
       "      <td>120440</td>\n",
       "      <td>3</td>\n",
       "    </tr>\n",
       "    <tr>\n",
       "      <th>5773</th>\n",
       "      <td>0.555</td>\n",
       "      <td>0.614</td>\n",
       "      <td>0</td>\n",
       "      <td>-8.679</td>\n",
       "      <td>1</td>\n",
       "      <td>0.0997</td>\n",
       "      <td>0.81800</td>\n",
       "      <td>0.002410</td>\n",
       "      <td>0.3160</td>\n",
       "      <td>0.244</td>\n",
       "      <td>155.556</td>\n",
       "      <td>audio_features</td>\n",
       "      <td>3FkE7rIbfrkD5JluAGZtlt</td>\n",
       "      <td>spotify:track:3FkE7rIbfrkD5JluAGZtlt</td>\n",
       "      <td>https://api.spotify.com/v1/tracks/3FkE7rIbfrkD...</td>\n",
       "      <td>https://api.spotify.com/v1/audio-analysis/3FkE...</td>\n",
       "      <td>135915</td>\n",
       "      <td>4</td>\n",
       "    </tr>\n",
       "    <tr>\n",
       "      <th>5774</th>\n",
       "      <td>0.396</td>\n",
       "      <td>0.594</td>\n",
       "      <td>9</td>\n",
       "      <td>-5.267</td>\n",
       "      <td>0</td>\n",
       "      <td>0.1140</td>\n",
       "      <td>0.38400</td>\n",
       "      <td>0.000000</td>\n",
       "      <td>0.1350</td>\n",
       "      <td>0.211</td>\n",
       "      <td>163.932</td>\n",
       "      <td>audio_features</td>\n",
       "      <td>41v1NkuMJPYcDhM9j2S2v5</td>\n",
       "      <td>spotify:track:41v1NkuMJPYcDhM9j2S2v5</td>\n",
       "      <td>https://api.spotify.com/v1/tracks/41v1NkuMJPYc...</td>\n",
       "      <td>https://api.spotify.com/v1/audio-analysis/41v1...</td>\n",
       "      <td>184756</td>\n",
       "      <td>4</td>\n",
       "    </tr>\n",
       "    <tr>\n",
       "      <th>5775</th>\n",
       "      <td>0.570</td>\n",
       "      <td>0.450</td>\n",
       "      <td>2</td>\n",
       "      <td>-7.241</td>\n",
       "      <td>1</td>\n",
       "      <td>0.0271</td>\n",
       "      <td>0.41500</td>\n",
       "      <td>0.000234</td>\n",
       "      <td>0.0793</td>\n",
       "      <td>0.256</td>\n",
       "      <td>125.987</td>\n",
       "      <td>audio_features</td>\n",
       "      <td>29MyBEvj2JpRQD4oDjk7Wa</td>\n",
       "      <td>spotify:track:29MyBEvj2JpRQD4oDjk7Wa</td>\n",
       "      <td>https://api.spotify.com/v1/tracks/29MyBEvj2JpR...</td>\n",
       "      <td>https://api.spotify.com/v1/audio-analysis/29My...</td>\n",
       "      <td>175238</td>\n",
       "      <td>4</td>\n",
       "    </tr>\n",
       "    <tr>\n",
       "      <th>5776</th>\n",
       "      <td>0.718</td>\n",
       "      <td>0.663</td>\n",
       "      <td>9</td>\n",
       "      <td>-7.499</td>\n",
       "      <td>1</td>\n",
       "      <td>0.0956</td>\n",
       "      <td>0.01140</td>\n",
       "      <td>0.001730</td>\n",
       "      <td>0.3170</td>\n",
       "      <td>0.532</td>\n",
       "      <td>101.004</td>\n",
       "      <td>audio_features</td>\n",
       "      <td>3Hu3EPU5S3ftac3ulsEw7d</td>\n",
       "      <td>spotify:track:3Hu3EPU5S3ftac3ulsEw7d</td>\n",
       "      <td>https://api.spotify.com/v1/tracks/3Hu3EPU5S3ft...</td>\n",
       "      <td>https://api.spotify.com/v1/audio-analysis/3Hu3...</td>\n",
       "      <td>211876</td>\n",
       "      <td>4</td>\n",
       "    </tr>\n",
       "  </tbody>\n",
       "</table>\n",
       "<p>5777 rows × 18 columns</p>\n",
       "</div>"
      ],
      "text/plain": [
       "      danceability  energy  key  loudness  mode  speechiness  acousticness  \\\n",
       "0            0.552   0.702    9    -5.707     1       0.1570       0.11700   \n",
       "1            0.511   0.532    5    -5.745     1       0.0560       0.16900   \n",
       "2            0.855   0.678    1    -6.276     1       0.1890       0.05690   \n",
       "3            0.671   0.845   11    -4.930     0       0.0480       0.02070   \n",
       "4            0.652   0.800    9    -4.019     0       0.0614       0.14300   \n",
       "...            ...     ...  ...       ...   ...          ...           ...   \n",
       "5772         0.700   0.829    8    -6.846     1       0.0669       0.00218   \n",
       "5773         0.555   0.614    0    -8.679     1       0.0997       0.81800   \n",
       "5774         0.396   0.594    9    -5.267     0       0.1140       0.38400   \n",
       "5775         0.570   0.450    2    -7.241     1       0.0271       0.41500   \n",
       "5776         0.718   0.663    9    -7.499     1       0.0956       0.01140   \n",
       "\n",
       "      instrumentalness  liveness  valence    tempo            type  \\\n",
       "0             0.000021    0.1050    0.564  169.994  audio_features   \n",
       "1             0.000000    0.3110    0.322  137.827  audio_features   \n",
       "2             0.000037    0.4120    0.852   99.029  audio_features   \n",
       "3             0.000000    0.3290    0.775  110.056  audio_features   \n",
       "4             0.629000    0.1120    0.234  143.978  audio_features   \n",
       "...                ...       ...      ...      ...             ...   \n",
       "5772          0.000472    0.1200    0.886  148.068  audio_features   \n",
       "5773          0.002410    0.3160    0.244  155.556  audio_features   \n",
       "5774          0.000000    0.1350    0.211  163.932  audio_features   \n",
       "5775          0.000234    0.0793    0.256  125.987  audio_features   \n",
       "5776          0.001730    0.3170    0.532  101.004  audio_features   \n",
       "\n",
       "                          id                                   uri  \\\n",
       "0     1BxfuPKGuaTgP7aM0Bbdwr  spotify:track:1BxfuPKGuaTgP7aM0Bbdwr   \n",
       "1     3k79jB4aGmMDUQzEwa46Rz  spotify:track:3k79jB4aGmMDUQzEwa46Rz   \n",
       "2     6WzRpISELf3YglGAh7TXcG  spotify:track:6WzRpISELf3YglGAh7TXcG   \n",
       "3     1vYXt7VSjH9JIM5oRRo7vA  spotify:track:1vYXt7VSjH9JIM5oRRo7vA   \n",
       "4     7ro0hRteUMfnOioTFI5TG1  spotify:track:7ro0hRteUMfnOioTFI5TG1   \n",
       "...                      ...                                   ...   \n",
       "5772  5sL7LWGCUUEcP4gLBkFW3N  spotify:track:5sL7LWGCUUEcP4gLBkFW3N   \n",
       "5773  3FkE7rIbfrkD5JluAGZtlt  spotify:track:3FkE7rIbfrkD5JluAGZtlt   \n",
       "5774  41v1NkuMJPYcDhM9j2S2v5  spotify:track:41v1NkuMJPYcDhM9j2S2v5   \n",
       "5775  29MyBEvj2JpRQD4oDjk7Wa  spotify:track:29MyBEvj2JpRQD4oDjk7Wa   \n",
       "5776  3Hu3EPU5S3ftac3ulsEw7d  spotify:track:3Hu3EPU5S3ftac3ulsEw7d   \n",
       "\n",
       "                                             track_href  \\\n",
       "0     https://api.spotify.com/v1/tracks/1BxfuPKGuaTg...   \n",
       "1     https://api.spotify.com/v1/tracks/3k79jB4aGmMD...   \n",
       "2     https://api.spotify.com/v1/tracks/6WzRpISELf3Y...   \n",
       "3     https://api.spotify.com/v1/tracks/1vYXt7VSjH9J...   \n",
       "4     https://api.spotify.com/v1/tracks/7ro0hRteUMfn...   \n",
       "...                                                 ...   \n",
       "5772  https://api.spotify.com/v1/tracks/5sL7LWGCUUEc...   \n",
       "5773  https://api.spotify.com/v1/tracks/3FkE7rIbfrkD...   \n",
       "5774  https://api.spotify.com/v1/tracks/41v1NkuMJPYc...   \n",
       "5775  https://api.spotify.com/v1/tracks/29MyBEvj2JpR...   \n",
       "5776  https://api.spotify.com/v1/tracks/3Hu3EPU5S3ft...   \n",
       "\n",
       "                                           analysis_url  duration_ms  \\\n",
       "0     https://api.spotify.com/v1/audio-analysis/1Bxf...       178427   \n",
       "1     https://api.spotify.com/v1/audio-analysis/3k79...       219724   \n",
       "2     https://api.spotify.com/v1/audio-analysis/6WzR...       215467   \n",
       "3     https://api.spotify.com/v1/audio-analysis/1vYX...       176579   \n",
       "4     https://api.spotify.com/v1/audio-analysis/7ro0...       231704   \n",
       "...                                                 ...          ...   \n",
       "5772  https://api.spotify.com/v1/audio-analysis/5sL7...       120440   \n",
       "5773  https://api.spotify.com/v1/audio-analysis/3FkE...       135915   \n",
       "5774  https://api.spotify.com/v1/audio-analysis/41v1...       184756   \n",
       "5775  https://api.spotify.com/v1/audio-analysis/29My...       175238   \n",
       "5776  https://api.spotify.com/v1/audio-analysis/3Hu3...       211876   \n",
       "\n",
       "      time_signature  \n",
       "0                  4  \n",
       "1                  4  \n",
       "2                  4  \n",
       "3                  4  \n",
       "4                  4  \n",
       "...              ...  \n",
       "5772               3  \n",
       "5773               4  \n",
       "5774               4  \n",
       "5775               4  \n",
       "5776               4  \n",
       "\n",
       "[5777 rows x 18 columns]"
      ]
     },
     "execution_count": 3,
     "metadata": {},
     "output_type": "execute_result"
    }
   ],
   "source": [
    "audio"
   ]
  },
  {
   "cell_type": "code",
   "execution_count": 4,
   "id": "210fef69",
   "metadata": {},
   "outputs": [],
   "source": [
    "\n",
    "# Create a list of columns to exclude\n",
    "exclude_columns = ['id','type', 'uri', 'track_href', 'analysis_url', 'duration_ms', 'time_signature']\n",
    "\n",
    "# Create a new dataframe \"audio_x\" by dropping the specified columns\n",
    "audio_x = audio.drop(columns=exclude_columns)"
   ]
  },
  {
   "cell_type": "code",
   "execution_count": 5,
   "id": "22f1c29e",
   "metadata": {},
   "outputs": [
    {
     "data": {
      "text/html": [
       "<div>\n",
       "<style scoped>\n",
       "    .dataframe tbody tr th:only-of-type {\n",
       "        vertical-align: middle;\n",
       "    }\n",
       "\n",
       "    .dataframe tbody tr th {\n",
       "        vertical-align: top;\n",
       "    }\n",
       "\n",
       "    .dataframe thead th {\n",
       "        text-align: right;\n",
       "    }\n",
       "</style>\n",
       "<table border=\"1\" class=\"dataframe\">\n",
       "  <thead>\n",
       "    <tr style=\"text-align: right;\">\n",
       "      <th></th>\n",
       "      <th>danceability</th>\n",
       "      <th>energy</th>\n",
       "      <th>key</th>\n",
       "      <th>loudness</th>\n",
       "      <th>mode</th>\n",
       "      <th>speechiness</th>\n",
       "      <th>acousticness</th>\n",
       "      <th>instrumentalness</th>\n",
       "      <th>liveness</th>\n",
       "      <th>valence</th>\n",
       "      <th>tempo</th>\n",
       "    </tr>\n",
       "  </thead>\n",
       "  <tbody>\n",
       "    <tr>\n",
       "      <th>0</th>\n",
       "      <td>0.552</td>\n",
       "      <td>0.702</td>\n",
       "      <td>9</td>\n",
       "      <td>-5.707</td>\n",
       "      <td>1</td>\n",
       "      <td>0.1570</td>\n",
       "      <td>0.11700</td>\n",
       "      <td>0.000021</td>\n",
       "      <td>0.1050</td>\n",
       "      <td>0.564</td>\n",
       "      <td>169.994</td>\n",
       "    </tr>\n",
       "    <tr>\n",
       "      <th>1</th>\n",
       "      <td>0.511</td>\n",
       "      <td>0.532</td>\n",
       "      <td>5</td>\n",
       "      <td>-5.745</td>\n",
       "      <td>1</td>\n",
       "      <td>0.0560</td>\n",
       "      <td>0.16900</td>\n",
       "      <td>0.000000</td>\n",
       "      <td>0.3110</td>\n",
       "      <td>0.322</td>\n",
       "      <td>137.827</td>\n",
       "    </tr>\n",
       "    <tr>\n",
       "      <th>2</th>\n",
       "      <td>0.855</td>\n",
       "      <td>0.678</td>\n",
       "      <td>1</td>\n",
       "      <td>-6.276</td>\n",
       "      <td>1</td>\n",
       "      <td>0.1890</td>\n",
       "      <td>0.05690</td>\n",
       "      <td>0.000037</td>\n",
       "      <td>0.4120</td>\n",
       "      <td>0.852</td>\n",
       "      <td>99.029</td>\n",
       "    </tr>\n",
       "    <tr>\n",
       "      <th>3</th>\n",
       "      <td>0.671</td>\n",
       "      <td>0.845</td>\n",
       "      <td>11</td>\n",
       "      <td>-4.930</td>\n",
       "      <td>0</td>\n",
       "      <td>0.0480</td>\n",
       "      <td>0.02070</td>\n",
       "      <td>0.000000</td>\n",
       "      <td>0.3290</td>\n",
       "      <td>0.775</td>\n",
       "      <td>110.056</td>\n",
       "    </tr>\n",
       "    <tr>\n",
       "      <th>4</th>\n",
       "      <td>0.652</td>\n",
       "      <td>0.800</td>\n",
       "      <td>9</td>\n",
       "      <td>-4.019</td>\n",
       "      <td>0</td>\n",
       "      <td>0.0614</td>\n",
       "      <td>0.14300</td>\n",
       "      <td>0.629000</td>\n",
       "      <td>0.1120</td>\n",
       "      <td>0.234</td>\n",
       "      <td>143.978</td>\n",
       "    </tr>\n",
       "    <tr>\n",
       "      <th>...</th>\n",
       "      <td>...</td>\n",
       "      <td>...</td>\n",
       "      <td>...</td>\n",
       "      <td>...</td>\n",
       "      <td>...</td>\n",
       "      <td>...</td>\n",
       "      <td>...</td>\n",
       "      <td>...</td>\n",
       "      <td>...</td>\n",
       "      <td>...</td>\n",
       "      <td>...</td>\n",
       "    </tr>\n",
       "    <tr>\n",
       "      <th>5772</th>\n",
       "      <td>0.700</td>\n",
       "      <td>0.829</td>\n",
       "      <td>8</td>\n",
       "      <td>-6.846</td>\n",
       "      <td>1</td>\n",
       "      <td>0.0669</td>\n",
       "      <td>0.00218</td>\n",
       "      <td>0.000472</td>\n",
       "      <td>0.1200</td>\n",
       "      <td>0.886</td>\n",
       "      <td>148.068</td>\n",
       "    </tr>\n",
       "    <tr>\n",
       "      <th>5773</th>\n",
       "      <td>0.555</td>\n",
       "      <td>0.614</td>\n",
       "      <td>0</td>\n",
       "      <td>-8.679</td>\n",
       "      <td>1</td>\n",
       "      <td>0.0997</td>\n",
       "      <td>0.81800</td>\n",
       "      <td>0.002410</td>\n",
       "      <td>0.3160</td>\n",
       "      <td>0.244</td>\n",
       "      <td>155.556</td>\n",
       "    </tr>\n",
       "    <tr>\n",
       "      <th>5774</th>\n",
       "      <td>0.396</td>\n",
       "      <td>0.594</td>\n",
       "      <td>9</td>\n",
       "      <td>-5.267</td>\n",
       "      <td>0</td>\n",
       "      <td>0.1140</td>\n",
       "      <td>0.38400</td>\n",
       "      <td>0.000000</td>\n",
       "      <td>0.1350</td>\n",
       "      <td>0.211</td>\n",
       "      <td>163.932</td>\n",
       "    </tr>\n",
       "    <tr>\n",
       "      <th>5775</th>\n",
       "      <td>0.570</td>\n",
       "      <td>0.450</td>\n",
       "      <td>2</td>\n",
       "      <td>-7.241</td>\n",
       "      <td>1</td>\n",
       "      <td>0.0271</td>\n",
       "      <td>0.41500</td>\n",
       "      <td>0.000234</td>\n",
       "      <td>0.0793</td>\n",
       "      <td>0.256</td>\n",
       "      <td>125.987</td>\n",
       "    </tr>\n",
       "    <tr>\n",
       "      <th>5776</th>\n",
       "      <td>0.718</td>\n",
       "      <td>0.663</td>\n",
       "      <td>9</td>\n",
       "      <td>-7.499</td>\n",
       "      <td>1</td>\n",
       "      <td>0.0956</td>\n",
       "      <td>0.01140</td>\n",
       "      <td>0.001730</td>\n",
       "      <td>0.3170</td>\n",
       "      <td>0.532</td>\n",
       "      <td>101.004</td>\n",
       "    </tr>\n",
       "  </tbody>\n",
       "</table>\n",
       "<p>5777 rows × 11 columns</p>\n",
       "</div>"
      ],
      "text/plain": [
       "      danceability  energy  key  loudness  mode  speechiness  acousticness  \\\n",
       "0            0.552   0.702    9    -5.707     1       0.1570       0.11700   \n",
       "1            0.511   0.532    5    -5.745     1       0.0560       0.16900   \n",
       "2            0.855   0.678    1    -6.276     1       0.1890       0.05690   \n",
       "3            0.671   0.845   11    -4.930     0       0.0480       0.02070   \n",
       "4            0.652   0.800    9    -4.019     0       0.0614       0.14300   \n",
       "...            ...     ...  ...       ...   ...          ...           ...   \n",
       "5772         0.700   0.829    8    -6.846     1       0.0669       0.00218   \n",
       "5773         0.555   0.614    0    -8.679     1       0.0997       0.81800   \n",
       "5774         0.396   0.594    9    -5.267     0       0.1140       0.38400   \n",
       "5775         0.570   0.450    2    -7.241     1       0.0271       0.41500   \n",
       "5776         0.718   0.663    9    -7.499     1       0.0956       0.01140   \n",
       "\n",
       "      instrumentalness  liveness  valence    tempo  \n",
       "0             0.000021    0.1050    0.564  169.994  \n",
       "1             0.000000    0.3110    0.322  137.827  \n",
       "2             0.000037    0.4120    0.852   99.029  \n",
       "3             0.000000    0.3290    0.775  110.056  \n",
       "4             0.629000    0.1120    0.234  143.978  \n",
       "...                ...       ...      ...      ...  \n",
       "5772          0.000472    0.1200    0.886  148.068  \n",
       "5773          0.002410    0.3160    0.244  155.556  \n",
       "5774          0.000000    0.1350    0.211  163.932  \n",
       "5775          0.000234    0.0793    0.256  125.987  \n",
       "5776          0.001730    0.3170    0.532  101.004  \n",
       "\n",
       "[5777 rows x 11 columns]"
      ]
     },
     "execution_count": 5,
     "metadata": {},
     "output_type": "execute_result"
    }
   ],
   "source": [
    "audio_x"
   ]
  },
  {
   "cell_type": "code",
   "execution_count": 6,
   "id": "34a52c9c",
   "metadata": {},
   "outputs": [],
   "source": [
    "X = audio_x"
   ]
  },
  {
   "cell_type": "code",
   "execution_count": 7,
   "id": "488e21ba",
   "metadata": {},
   "outputs": [],
   "source": [
    "#scaling"
   ]
  },
  {
   "cell_type": "code",
   "execution_count": 8,
   "id": "78befc5f",
   "metadata": {},
   "outputs": [
    {
     "data": {
      "text/html": [
       "<div>\n",
       "<style scoped>\n",
       "    .dataframe tbody tr th:only-of-type {\n",
       "        vertical-align: middle;\n",
       "    }\n",
       "\n",
       "    .dataframe tbody tr th {\n",
       "        vertical-align: top;\n",
       "    }\n",
       "\n",
       "    .dataframe thead th {\n",
       "        text-align: right;\n",
       "    }\n",
       "</style>\n",
       "<table border=\"1\" class=\"dataframe\">\n",
       "  <thead>\n",
       "    <tr style=\"text-align: right;\">\n",
       "      <th></th>\n",
       "      <th>danceability</th>\n",
       "      <th>energy</th>\n",
       "      <th>key</th>\n",
       "      <th>loudness</th>\n",
       "      <th>mode</th>\n",
       "      <th>speechiness</th>\n",
       "      <th>acousticness</th>\n",
       "      <th>instrumentalness</th>\n",
       "      <th>liveness</th>\n",
       "      <th>valence</th>\n",
       "      <th>tempo</th>\n",
       "    </tr>\n",
       "  </thead>\n",
       "  <tbody>\n",
       "    <tr>\n",
       "      <th>0</th>\n",
       "      <td>0.552</td>\n",
       "      <td>0.702</td>\n",
       "      <td>9</td>\n",
       "      <td>-5.707</td>\n",
       "      <td>1</td>\n",
       "      <td>0.1570</td>\n",
       "      <td>0.1170</td>\n",
       "      <td>0.000021</td>\n",
       "      <td>0.105</td>\n",
       "      <td>0.564</td>\n",
       "      <td>169.994</td>\n",
       "    </tr>\n",
       "    <tr>\n",
       "      <th>1</th>\n",
       "      <td>0.511</td>\n",
       "      <td>0.532</td>\n",
       "      <td>5</td>\n",
       "      <td>-5.745</td>\n",
       "      <td>1</td>\n",
       "      <td>0.0560</td>\n",
       "      <td>0.1690</td>\n",
       "      <td>0.000000</td>\n",
       "      <td>0.311</td>\n",
       "      <td>0.322</td>\n",
       "      <td>137.827</td>\n",
       "    </tr>\n",
       "    <tr>\n",
       "      <th>2</th>\n",
       "      <td>0.855</td>\n",
       "      <td>0.678</td>\n",
       "      <td>1</td>\n",
       "      <td>-6.276</td>\n",
       "      <td>1</td>\n",
       "      <td>0.1890</td>\n",
       "      <td>0.0569</td>\n",
       "      <td>0.000037</td>\n",
       "      <td>0.412</td>\n",
       "      <td>0.852</td>\n",
       "      <td>99.029</td>\n",
       "    </tr>\n",
       "    <tr>\n",
       "      <th>3</th>\n",
       "      <td>0.671</td>\n",
       "      <td>0.845</td>\n",
       "      <td>11</td>\n",
       "      <td>-4.930</td>\n",
       "      <td>0</td>\n",
       "      <td>0.0480</td>\n",
       "      <td>0.0207</td>\n",
       "      <td>0.000000</td>\n",
       "      <td>0.329</td>\n",
       "      <td>0.775</td>\n",
       "      <td>110.056</td>\n",
       "    </tr>\n",
       "    <tr>\n",
       "      <th>4</th>\n",
       "      <td>0.652</td>\n",
       "      <td>0.800</td>\n",
       "      <td>9</td>\n",
       "      <td>-4.019</td>\n",
       "      <td>0</td>\n",
       "      <td>0.0614</td>\n",
       "      <td>0.1430</td>\n",
       "      <td>0.629000</td>\n",
       "      <td>0.112</td>\n",
       "      <td>0.234</td>\n",
       "      <td>143.978</td>\n",
       "    </tr>\n",
       "  </tbody>\n",
       "</table>\n",
       "</div>"
      ],
      "text/plain": [
       "   danceability  energy  key  loudness  mode  speechiness  acousticness  \\\n",
       "0         0.552   0.702    9    -5.707     1       0.1570        0.1170   \n",
       "1         0.511   0.532    5    -5.745     1       0.0560        0.1690   \n",
       "2         0.855   0.678    1    -6.276     1       0.1890        0.0569   \n",
       "3         0.671   0.845   11    -4.930     0       0.0480        0.0207   \n",
       "4         0.652   0.800    9    -4.019     0       0.0614        0.1430   \n",
       "\n",
       "   instrumentalness  liveness  valence    tempo  \n",
       "0          0.000021     0.105    0.564  169.994  \n",
       "1          0.000000     0.311    0.322  137.827  \n",
       "2          0.000037     0.412    0.852   99.029  \n",
       "3          0.000000     0.329    0.775  110.056  \n",
       "4          0.629000     0.112    0.234  143.978  "
      ]
     },
     "metadata": {},
     "output_type": "display_data"
    },
    {
     "name": "stdout",
     "output_type": "stream",
     "text": [
      "\n"
     ]
    },
    {
     "data": {
      "text/html": [
       "<div>\n",
       "<style scoped>\n",
       "    .dataframe tbody tr th:only-of-type {\n",
       "        vertical-align: middle;\n",
       "    }\n",
       "\n",
       "    .dataframe tbody tr th {\n",
       "        vertical-align: top;\n",
       "    }\n",
       "\n",
       "    .dataframe thead th {\n",
       "        text-align: right;\n",
       "    }\n",
       "</style>\n",
       "<table border=\"1\" class=\"dataframe\">\n",
       "  <thead>\n",
       "    <tr style=\"text-align: right;\">\n",
       "      <th></th>\n",
       "      <th>danceability</th>\n",
       "      <th>energy</th>\n",
       "      <th>key</th>\n",
       "      <th>loudness</th>\n",
       "      <th>mode</th>\n",
       "      <th>speechiness</th>\n",
       "      <th>acousticness</th>\n",
       "      <th>instrumentalness</th>\n",
       "      <th>liveness</th>\n",
       "      <th>valence</th>\n",
       "      <th>tempo</th>\n",
       "    </tr>\n",
       "  </thead>\n",
       "  <tbody>\n",
       "    <tr>\n",
       "      <th>0</th>\n",
       "      <td>-0.338101</td>\n",
       "      <td>0.352414</td>\n",
       "      <td>1.015613</td>\n",
       "      <td>0.568668</td>\n",
       "      <td>0.783094</td>\n",
       "      <td>1.037148</td>\n",
       "      <td>-0.536319</td>\n",
       "      <td>-0.580897</td>\n",
       "      <td>-0.515440</td>\n",
       "      <td>0.373190</td>\n",
       "      <td>1.732874</td>\n",
       "    </tr>\n",
       "    <tr>\n",
       "      <th>1</th>\n",
       "      <td>-0.589228</td>\n",
       "      <td>-0.357471</td>\n",
       "      <td>-0.095020</td>\n",
       "      <td>0.560057</td>\n",
       "      <td>0.783094</td>\n",
       "      <td>-0.290393</td>\n",
       "      <td>-0.368440</td>\n",
       "      <td>-0.580957</td>\n",
       "      <td>0.795962</td>\n",
       "      <td>-0.584580</td>\n",
       "      <td>0.603145</td>\n",
       "    </tr>\n",
       "    <tr>\n",
       "      <th>2</th>\n",
       "      <td>1.517791</td>\n",
       "      <td>0.252195</td>\n",
       "      <td>-1.205653</td>\n",
       "      <td>0.439725</td>\n",
       "      <td>0.783094</td>\n",
       "      <td>1.457755</td>\n",
       "      <td>-0.730348</td>\n",
       "      <td>-0.580849</td>\n",
       "      <td>1.438931</td>\n",
       "      <td>1.513016</td>\n",
       "      <td>-0.759469</td>\n",
       "    </tr>\n",
       "    <tr>\n",
       "      <th>3</th>\n",
       "      <td>0.390781</td>\n",
       "      <td>0.949552</td>\n",
       "      <td>1.570929</td>\n",
       "      <td>0.744747</td>\n",
       "      <td>-1.276986</td>\n",
       "      <td>-0.395544</td>\n",
       "      <td>-0.847218</td>\n",
       "      <td>-0.580957</td>\n",
       "      <td>0.910551</td>\n",
       "      <td>1.208271</td>\n",
       "      <td>-0.372193</td>\n",
       "    </tr>\n",
       "    <tr>\n",
       "      <th>4</th>\n",
       "      <td>0.274405</td>\n",
       "      <td>0.761642</td>\n",
       "      <td>1.015613</td>\n",
       "      <td>0.951192</td>\n",
       "      <td>-1.276986</td>\n",
       "      <td>-0.219415</td>\n",
       "      <td>-0.452380</td>\n",
       "      <td>1.266020</td>\n",
       "      <td>-0.470877</td>\n",
       "      <td>-0.932861</td>\n",
       "      <td>0.819172</td>\n",
       "    </tr>\n",
       "  </tbody>\n",
       "</table>\n",
       "</div>"
      ],
      "text/plain": [
       "   danceability    energy       key  loudness      mode  speechiness  \\\n",
       "0     -0.338101  0.352414  1.015613  0.568668  0.783094     1.037148   \n",
       "1     -0.589228 -0.357471 -0.095020  0.560057  0.783094    -0.290393   \n",
       "2      1.517791  0.252195 -1.205653  0.439725  0.783094     1.457755   \n",
       "3      0.390781  0.949552  1.570929  0.744747 -1.276986    -0.395544   \n",
       "4      0.274405  0.761642  1.015613  0.951192 -1.276986    -0.219415   \n",
       "\n",
       "   acousticness  instrumentalness  liveness   valence     tempo  \n",
       "0     -0.536319         -0.580897 -0.515440  0.373190  1.732874  \n",
       "1     -0.368440         -0.580957  0.795962 -0.584580  0.603145  \n",
       "2     -0.730348         -0.580849  1.438931  1.513016 -0.759469  \n",
       "3     -0.847218         -0.580957  0.910551  1.208271 -0.372193  \n",
       "4     -0.452380          1.266020 -0.470877 -0.932861  0.819172  "
      ]
     },
     "metadata": {},
     "output_type": "display_data"
    }
   ],
   "source": [
    "scaler = StandardScaler()\n",
    "scaler.fit(X)\n",
    "X_scaled = scaler.transform(X)\n",
    "X_scaled_df = pd.DataFrame(X_scaled, columns = X.columns)\n",
    "display(X.head())\n",
    "print()\n",
    "display(X_scaled_df.head())"
   ]
  },
  {
   "cell_type": "code",
   "execution_count": 9,
   "id": "d0a1a2a5",
   "metadata": {},
   "outputs": [],
   "source": [
    "#choosing k"
   ]
  },
  {
   "cell_type": "code",
   "execution_count": 10,
   "id": "336e7e78",
   "metadata": {},
   "outputs": [
    {
     "name": "stderr",
     "output_type": "stream",
     "text": [
      "/Users/genevauy/anaconda3/lib/python3.10/site-packages/sklearn/cluster/_kmeans.py:870: FutureWarning: The default value of `n_init` will change from 10 to 'auto' in 1.4. Set the value of `n_init` explicitly to suppress the warning\n",
      "  warnings.warn(\n"
     ]
    },
    {
     "data": {
      "text/html": [
       "<style>#sk-container-id-1 {color: black;background-color: white;}#sk-container-id-1 pre{padding: 0;}#sk-container-id-1 div.sk-toggleable {background-color: white;}#sk-container-id-1 label.sk-toggleable__label {cursor: pointer;display: block;width: 100%;margin-bottom: 0;padding: 0.3em;box-sizing: border-box;text-align: center;}#sk-container-id-1 label.sk-toggleable__label-arrow:before {content: \"▸\";float: left;margin-right: 0.25em;color: #696969;}#sk-container-id-1 label.sk-toggleable__label-arrow:hover:before {color: black;}#sk-container-id-1 div.sk-estimator:hover label.sk-toggleable__label-arrow:before {color: black;}#sk-container-id-1 div.sk-toggleable__content {max-height: 0;max-width: 0;overflow: hidden;text-align: left;background-color: #f0f8ff;}#sk-container-id-1 div.sk-toggleable__content pre {margin: 0.2em;color: black;border-radius: 0.25em;background-color: #f0f8ff;}#sk-container-id-1 input.sk-toggleable__control:checked~div.sk-toggleable__content {max-height: 200px;max-width: 100%;overflow: auto;}#sk-container-id-1 input.sk-toggleable__control:checked~label.sk-toggleable__label-arrow:before {content: \"▾\";}#sk-container-id-1 div.sk-estimator input.sk-toggleable__control:checked~label.sk-toggleable__label {background-color: #d4ebff;}#sk-container-id-1 div.sk-label input.sk-toggleable__control:checked~label.sk-toggleable__label {background-color: #d4ebff;}#sk-container-id-1 input.sk-hidden--visually {border: 0;clip: rect(1px 1px 1px 1px);clip: rect(1px, 1px, 1px, 1px);height: 1px;margin: -1px;overflow: hidden;padding: 0;position: absolute;width: 1px;}#sk-container-id-1 div.sk-estimator {font-family: monospace;background-color: #f0f8ff;border: 1px dotted black;border-radius: 0.25em;box-sizing: border-box;margin-bottom: 0.5em;}#sk-container-id-1 div.sk-estimator:hover {background-color: #d4ebff;}#sk-container-id-1 div.sk-parallel-item::after {content: \"\";width: 100%;border-bottom: 1px solid gray;flex-grow: 1;}#sk-container-id-1 div.sk-label:hover label.sk-toggleable__label {background-color: #d4ebff;}#sk-container-id-1 div.sk-serial::before {content: \"\";position: absolute;border-left: 1px solid gray;box-sizing: border-box;top: 0;bottom: 0;left: 50%;z-index: 0;}#sk-container-id-1 div.sk-serial {display: flex;flex-direction: column;align-items: center;background-color: white;padding-right: 0.2em;padding-left: 0.2em;position: relative;}#sk-container-id-1 div.sk-item {position: relative;z-index: 1;}#sk-container-id-1 div.sk-parallel {display: flex;align-items: stretch;justify-content: center;background-color: white;position: relative;}#sk-container-id-1 div.sk-item::before, #sk-container-id-1 div.sk-parallel-item::before {content: \"\";position: absolute;border-left: 1px solid gray;box-sizing: border-box;top: 0;bottom: 0;left: 50%;z-index: -1;}#sk-container-id-1 div.sk-parallel-item {display: flex;flex-direction: column;z-index: 1;position: relative;background-color: white;}#sk-container-id-1 div.sk-parallel-item:first-child::after {align-self: flex-end;width: 50%;}#sk-container-id-1 div.sk-parallel-item:last-child::after {align-self: flex-start;width: 50%;}#sk-container-id-1 div.sk-parallel-item:only-child::after {width: 0;}#sk-container-id-1 div.sk-dashed-wrapped {border: 1px dashed gray;margin: 0 0.4em 0.5em 0.4em;box-sizing: border-box;padding-bottom: 0.4em;background-color: white;}#sk-container-id-1 div.sk-label label {font-family: monospace;font-weight: bold;display: inline-block;line-height: 1.2em;}#sk-container-id-1 div.sk-label-container {text-align: center;}#sk-container-id-1 div.sk-container {/* jupyter's `normalize.less` sets `[hidden] { display: none; }` but bootstrap.min.css set `[hidden] { display: none !important; }` so we also need the `!important` here to be able to override the default hidden behavior on the sphinx rendered scikit-learn.org. See: https://github.com/scikit-learn/scikit-learn/issues/21755 */display: inline-block !important;position: relative;}#sk-container-id-1 div.sk-text-repr-fallback {display: none;}</style><div id=\"sk-container-id-1\" class=\"sk-top-container\"><div class=\"sk-text-repr-fallback\"><pre>KMeans(n_clusters=4, random_state=1234)</pre><b>In a Jupyter environment, please rerun this cell to show the HTML representation or trust the notebook. <br />On GitHub, the HTML representation is unable to render, please try loading this page with nbviewer.org.</b></div><div class=\"sk-container\" hidden><div class=\"sk-item\"><div class=\"sk-estimator sk-toggleable\"><input class=\"sk-toggleable__control sk-hidden--visually\" id=\"sk-estimator-id-1\" type=\"checkbox\" checked><label for=\"sk-estimator-id-1\" class=\"sk-toggleable__label sk-toggleable__label-arrow\">KMeans</label><div class=\"sk-toggleable__content\"><pre>KMeans(n_clusters=4, random_state=1234)</pre></div></div></div></div></div>"
      ],
      "text/plain": [
       "KMeans(n_clusters=4, random_state=1234)"
      ]
     },
     "execution_count": 10,
     "metadata": {},
     "output_type": "execute_result"
    }
   ],
   "source": [
    "kmeans = KMeans(n_clusters=4, random_state=1234)\n",
    "kmeans.fit(X_scaled_df)"
   ]
  },
  {
   "cell_type": "code",
   "execution_count": 11,
   "id": "abac2ccb",
   "metadata": {},
   "outputs": [
    {
     "data": {
      "text/plain": [
       "array([1, 1, 1, ..., 3, 1, 1], dtype=int32)"
      ]
     },
     "execution_count": 11,
     "metadata": {},
     "output_type": "execute_result"
    }
   ],
   "source": [
    "labels = kmeans.labels_\n",
    "labels"
   ]
  },
  {
   "cell_type": "code",
   "execution_count": 12,
   "id": "dccd2c45",
   "metadata": {},
   "outputs": [
    {
     "data": {
      "text/plain": [
       "0     524\n",
       "1    2318\n",
       "2    1401\n",
       "3    1534\n",
       "dtype: int64"
      ]
     },
     "execution_count": 12,
     "metadata": {},
     "output_type": "execute_result"
    }
   ],
   "source": [
    "clusters = kmeans.predict(X_scaled_df)\n",
    "#clusters\n",
    "pd.Series(clusters).value_counts().sort_index()"
   ]
  },
  {
   "cell_type": "code",
   "execution_count": 13,
   "id": "64262a59",
   "metadata": {},
   "outputs": [
    {
     "data": {
      "text/plain": [
       "array([1, 1, 1, ..., 3, 1, 1], dtype=int32)"
      ]
     },
     "execution_count": 13,
     "metadata": {},
     "output_type": "execute_result"
    }
   ],
   "source": [
    "clusters"
   ]
  },
  {
   "cell_type": "code",
   "execution_count": 14,
   "id": "03fe019b",
   "metadata": {},
   "outputs": [
    {
     "data": {
      "text/html": [
       "<div>\n",
       "<style scoped>\n",
       "    .dataframe tbody tr th:only-of-type {\n",
       "        vertical-align: middle;\n",
       "    }\n",
       "\n",
       "    .dataframe tbody tr th {\n",
       "        vertical-align: top;\n",
       "    }\n",
       "\n",
       "    .dataframe thead th {\n",
       "        text-align: right;\n",
       "    }\n",
       "</style>\n",
       "<table border=\"1\" class=\"dataframe\">\n",
       "  <thead>\n",
       "    <tr style=\"text-align: right;\">\n",
       "      <th></th>\n",
       "      <th>danceability</th>\n",
       "      <th>energy</th>\n",
       "      <th>key</th>\n",
       "      <th>loudness</th>\n",
       "      <th>mode</th>\n",
       "      <th>speechiness</th>\n",
       "      <th>acousticness</th>\n",
       "      <th>instrumentalness</th>\n",
       "      <th>liveness</th>\n",
       "      <th>valence</th>\n",
       "      <th>tempo</th>\n",
       "      <th>cluster</th>\n",
       "    </tr>\n",
       "  </thead>\n",
       "  <tbody>\n",
       "    <tr>\n",
       "      <th>0</th>\n",
       "      <td>0.552</td>\n",
       "      <td>0.702</td>\n",
       "      <td>9</td>\n",
       "      <td>-5.707</td>\n",
       "      <td>1</td>\n",
       "      <td>0.1570</td>\n",
       "      <td>0.11700</td>\n",
       "      <td>0.000021</td>\n",
       "      <td>0.1050</td>\n",
       "      <td>0.564</td>\n",
       "      <td>169.994</td>\n",
       "      <td>1</td>\n",
       "    </tr>\n",
       "    <tr>\n",
       "      <th>1</th>\n",
       "      <td>0.511</td>\n",
       "      <td>0.532</td>\n",
       "      <td>5</td>\n",
       "      <td>-5.745</td>\n",
       "      <td>1</td>\n",
       "      <td>0.0560</td>\n",
       "      <td>0.16900</td>\n",
       "      <td>0.000000</td>\n",
       "      <td>0.3110</td>\n",
       "      <td>0.322</td>\n",
       "      <td>137.827</td>\n",
       "      <td>1</td>\n",
       "    </tr>\n",
       "    <tr>\n",
       "      <th>2</th>\n",
       "      <td>0.855</td>\n",
       "      <td>0.678</td>\n",
       "      <td>1</td>\n",
       "      <td>-6.276</td>\n",
       "      <td>1</td>\n",
       "      <td>0.1890</td>\n",
       "      <td>0.05690</td>\n",
       "      <td>0.000037</td>\n",
       "      <td>0.4120</td>\n",
       "      <td>0.852</td>\n",
       "      <td>99.029</td>\n",
       "      <td>1</td>\n",
       "    </tr>\n",
       "    <tr>\n",
       "      <th>3</th>\n",
       "      <td>0.671</td>\n",
       "      <td>0.845</td>\n",
       "      <td>11</td>\n",
       "      <td>-4.930</td>\n",
       "      <td>0</td>\n",
       "      <td>0.0480</td>\n",
       "      <td>0.02070</td>\n",
       "      <td>0.000000</td>\n",
       "      <td>0.3290</td>\n",
       "      <td>0.775</td>\n",
       "      <td>110.056</td>\n",
       "      <td>3</td>\n",
       "    </tr>\n",
       "    <tr>\n",
       "      <th>4</th>\n",
       "      <td>0.652</td>\n",
       "      <td>0.800</td>\n",
       "      <td>9</td>\n",
       "      <td>-4.019</td>\n",
       "      <td>0</td>\n",
       "      <td>0.0614</td>\n",
       "      <td>0.14300</td>\n",
       "      <td>0.629000</td>\n",
       "      <td>0.1120</td>\n",
       "      <td>0.234</td>\n",
       "      <td>143.978</td>\n",
       "      <td>3</td>\n",
       "    </tr>\n",
       "    <tr>\n",
       "      <th>...</th>\n",
       "      <td>...</td>\n",
       "      <td>...</td>\n",
       "      <td>...</td>\n",
       "      <td>...</td>\n",
       "      <td>...</td>\n",
       "      <td>...</td>\n",
       "      <td>...</td>\n",
       "      <td>...</td>\n",
       "      <td>...</td>\n",
       "      <td>...</td>\n",
       "      <td>...</td>\n",
       "      <td>...</td>\n",
       "    </tr>\n",
       "    <tr>\n",
       "      <th>5772</th>\n",
       "      <td>0.700</td>\n",
       "      <td>0.829</td>\n",
       "      <td>8</td>\n",
       "      <td>-6.846</td>\n",
       "      <td>1</td>\n",
       "      <td>0.0669</td>\n",
       "      <td>0.00218</td>\n",
       "      <td>0.000472</td>\n",
       "      <td>0.1200</td>\n",
       "      <td>0.886</td>\n",
       "      <td>148.068</td>\n",
       "      <td>1</td>\n",
       "    </tr>\n",
       "    <tr>\n",
       "      <th>5773</th>\n",
       "      <td>0.555</td>\n",
       "      <td>0.614</td>\n",
       "      <td>0</td>\n",
       "      <td>-8.679</td>\n",
       "      <td>1</td>\n",
       "      <td>0.0997</td>\n",
       "      <td>0.81800</td>\n",
       "      <td>0.002410</td>\n",
       "      <td>0.3160</td>\n",
       "      <td>0.244</td>\n",
       "      <td>155.556</td>\n",
       "      <td>1</td>\n",
       "    </tr>\n",
       "    <tr>\n",
       "      <th>5774</th>\n",
       "      <td>0.396</td>\n",
       "      <td>0.594</td>\n",
       "      <td>9</td>\n",
       "      <td>-5.267</td>\n",
       "      <td>0</td>\n",
       "      <td>0.1140</td>\n",
       "      <td>0.38400</td>\n",
       "      <td>0.000000</td>\n",
       "      <td>0.1350</td>\n",
       "      <td>0.211</td>\n",
       "      <td>163.932</td>\n",
       "      <td>3</td>\n",
       "    </tr>\n",
       "    <tr>\n",
       "      <th>5775</th>\n",
       "      <td>0.570</td>\n",
       "      <td>0.450</td>\n",
       "      <td>2</td>\n",
       "      <td>-7.241</td>\n",
       "      <td>1</td>\n",
       "      <td>0.0271</td>\n",
       "      <td>0.41500</td>\n",
       "      <td>0.000234</td>\n",
       "      <td>0.0793</td>\n",
       "      <td>0.256</td>\n",
       "      <td>125.987</td>\n",
       "      <td>1</td>\n",
       "    </tr>\n",
       "    <tr>\n",
       "      <th>5776</th>\n",
       "      <td>0.718</td>\n",
       "      <td>0.663</td>\n",
       "      <td>9</td>\n",
       "      <td>-7.499</td>\n",
       "      <td>1</td>\n",
       "      <td>0.0956</td>\n",
       "      <td>0.01140</td>\n",
       "      <td>0.001730</td>\n",
       "      <td>0.3170</td>\n",
       "      <td>0.532</td>\n",
       "      <td>101.004</td>\n",
       "      <td>1</td>\n",
       "    </tr>\n",
       "  </tbody>\n",
       "</table>\n",
       "<p>5777 rows × 12 columns</p>\n",
       "</div>"
      ],
      "text/plain": [
       "      danceability  energy  key  loudness  mode  speechiness  acousticness  \\\n",
       "0            0.552   0.702    9    -5.707     1       0.1570       0.11700   \n",
       "1            0.511   0.532    5    -5.745     1       0.0560       0.16900   \n",
       "2            0.855   0.678    1    -6.276     1       0.1890       0.05690   \n",
       "3            0.671   0.845   11    -4.930     0       0.0480       0.02070   \n",
       "4            0.652   0.800    9    -4.019     0       0.0614       0.14300   \n",
       "...            ...     ...  ...       ...   ...          ...           ...   \n",
       "5772         0.700   0.829    8    -6.846     1       0.0669       0.00218   \n",
       "5773         0.555   0.614    0    -8.679     1       0.0997       0.81800   \n",
       "5774         0.396   0.594    9    -5.267     0       0.1140       0.38400   \n",
       "5775         0.570   0.450    2    -7.241     1       0.0271       0.41500   \n",
       "5776         0.718   0.663    9    -7.499     1       0.0956       0.01140   \n",
       "\n",
       "      instrumentalness  liveness  valence    tempo  cluster  \n",
       "0             0.000021    0.1050    0.564  169.994        1  \n",
       "1             0.000000    0.3110    0.322  137.827        1  \n",
       "2             0.000037    0.4120    0.852   99.029        1  \n",
       "3             0.000000    0.3290    0.775  110.056        3  \n",
       "4             0.629000    0.1120    0.234  143.978        3  \n",
       "...                ...       ...      ...      ...      ...  \n",
       "5772          0.000472    0.1200    0.886  148.068        1  \n",
       "5773          0.002410    0.3160    0.244  155.556        1  \n",
       "5774          0.000000    0.1350    0.211  163.932        3  \n",
       "5775          0.000234    0.0793    0.256  125.987        1  \n",
       "5776          0.001730    0.3170    0.532  101.004        1  \n",
       "\n",
       "[5777 rows x 12 columns]"
      ]
     },
     "execution_count": 14,
     "metadata": {},
     "output_type": "execute_result"
    }
   ],
   "source": [
    "X[\"cluster\"] = clusters\n",
    "X"
   ]
  },
  {
   "cell_type": "code",
   "execution_count": 15,
   "id": "d1c6995d",
   "metadata": {},
   "outputs": [
    {
     "data": {
      "text/plain": [
       "43811.20960117981"
      ]
     },
     "execution_count": 15,
     "metadata": {},
     "output_type": "execute_result"
    }
   ],
   "source": [
    "kmeans.inertia_"
   ]
  },
  {
   "cell_type": "code",
   "execution_count": 16,
   "id": "45bc18eb",
   "metadata": {},
   "outputs": [
    {
     "name": "stdout",
     "output_type": "stream",
     "text": [
      "37815.99946190884\n"
     ]
    }
   ],
   "source": [
    "kmeans2 = KMeans(n_clusters=7,\n",
    "                init=\"k-means++\",\n",
    "                n_init=50,  # try with 1, 4, 8, 20, 30, 100...\n",
    "                max_iter=1,\n",
    "                tol=0,\n",
    "                algorithm=\"elkan\",\n",
    "                random_state=1234)\n",
    "kmeans2.fit(X_scaled_df)\n",
    "print(kmeans2.inertia_)"
   ]
  },
  {
   "cell_type": "code",
   "execution_count": 17,
   "id": "a3008089",
   "metadata": {},
   "outputs": [],
   "source": [
    "#elbow"
   ]
  },
  {
   "cell_type": "code",
   "execution_count": 18,
   "id": "31d8b525",
   "metadata": {},
   "outputs": [
    {
     "name": "stdout",
     "output_type": "stream",
     "text": [
      "Training a K-Means model with 2 clusters! \n",
      "\n"
     ]
    },
    {
     "name": "stderr",
     "output_type": "stream",
     "text": [
      "/Users/genevauy/anaconda3/lib/python3.10/site-packages/sklearn/cluster/_kmeans.py:870: FutureWarning: The default value of `n_init` will change from 10 to 'auto' in 1.4. Set the value of `n_init` explicitly to suppress the warning\n",
      "  warnings.warn(\n"
     ]
    },
    {
     "name": "stdout",
     "output_type": "stream",
     "text": [
      "Training a K-Means model with 3 clusters! \n",
      "\n"
     ]
    },
    {
     "name": "stderr",
     "output_type": "stream",
     "text": [
      "/Users/genevauy/anaconda3/lib/python3.10/site-packages/sklearn/cluster/_kmeans.py:870: FutureWarning: The default value of `n_init` will change from 10 to 'auto' in 1.4. Set the value of `n_init` explicitly to suppress the warning\n",
      "  warnings.warn(\n"
     ]
    },
    {
     "name": "stdout",
     "output_type": "stream",
     "text": [
      "Training a K-Means model with 4 clusters! \n",
      "\n"
     ]
    },
    {
     "name": "stderr",
     "output_type": "stream",
     "text": [
      "/Users/genevauy/anaconda3/lib/python3.10/site-packages/sklearn/cluster/_kmeans.py:870: FutureWarning: The default value of `n_init` will change from 10 to 'auto' in 1.4. Set the value of `n_init` explicitly to suppress the warning\n",
      "  warnings.warn(\n"
     ]
    },
    {
     "name": "stdout",
     "output_type": "stream",
     "text": [
      "Training a K-Means model with 5 clusters! \n",
      "\n"
     ]
    },
    {
     "name": "stderr",
     "output_type": "stream",
     "text": [
      "/Users/genevauy/anaconda3/lib/python3.10/site-packages/sklearn/cluster/_kmeans.py:870: FutureWarning: The default value of `n_init` will change from 10 to 'auto' in 1.4. Set the value of `n_init` explicitly to suppress the warning\n",
      "  warnings.warn(\n"
     ]
    },
    {
     "name": "stdout",
     "output_type": "stream",
     "text": [
      "Training a K-Means model with 6 clusters! \n",
      "\n"
     ]
    },
    {
     "name": "stderr",
     "output_type": "stream",
     "text": [
      "/Users/genevauy/anaconda3/lib/python3.10/site-packages/sklearn/cluster/_kmeans.py:870: FutureWarning: The default value of `n_init` will change from 10 to 'auto' in 1.4. Set the value of `n_init` explicitly to suppress the warning\n",
      "  warnings.warn(\n"
     ]
    },
    {
     "name": "stdout",
     "output_type": "stream",
     "text": [
      "Training a K-Means model with 7 clusters! \n",
      "\n"
     ]
    },
    {
     "name": "stderr",
     "output_type": "stream",
     "text": [
      "/Users/genevauy/anaconda3/lib/python3.10/site-packages/sklearn/cluster/_kmeans.py:870: FutureWarning: The default value of `n_init` will change from 10 to 'auto' in 1.4. Set the value of `n_init` explicitly to suppress the warning\n",
      "  warnings.warn(\n"
     ]
    },
    {
     "name": "stdout",
     "output_type": "stream",
     "text": [
      "Training a K-Means model with 8 clusters! \n",
      "\n"
     ]
    },
    {
     "name": "stderr",
     "output_type": "stream",
     "text": [
      "/Users/genevauy/anaconda3/lib/python3.10/site-packages/sklearn/cluster/_kmeans.py:870: FutureWarning: The default value of `n_init` will change from 10 to 'auto' in 1.4. Set the value of `n_init` explicitly to suppress the warning\n",
      "  warnings.warn(\n"
     ]
    },
    {
     "name": "stdout",
     "output_type": "stream",
     "text": [
      "Training a K-Means model with 9 clusters! \n",
      "\n"
     ]
    },
    {
     "name": "stderr",
     "output_type": "stream",
     "text": [
      "/Users/genevauy/anaconda3/lib/python3.10/site-packages/sklearn/cluster/_kmeans.py:870: FutureWarning: The default value of `n_init` will change from 10 to 'auto' in 1.4. Set the value of `n_init` explicitly to suppress the warning\n",
      "  warnings.warn(\n"
     ]
    },
    {
     "name": "stdout",
     "output_type": "stream",
     "text": [
      "Training a K-Means model with 10 clusters! \n",
      "\n"
     ]
    },
    {
     "name": "stderr",
     "output_type": "stream",
     "text": [
      "/Users/genevauy/anaconda3/lib/python3.10/site-packages/sklearn/cluster/_kmeans.py:870: FutureWarning: The default value of `n_init` will change from 10 to 'auto' in 1.4. Set the value of `n_init` explicitly to suppress the warning\n",
      "  warnings.warn(\n"
     ]
    },
    {
     "name": "stdout",
     "output_type": "stream",
     "text": [
      "Training a K-Means model with 11 clusters! \n",
      "\n"
     ]
    },
    {
     "name": "stderr",
     "output_type": "stream",
     "text": [
      "/Users/genevauy/anaconda3/lib/python3.10/site-packages/sklearn/cluster/_kmeans.py:870: FutureWarning: The default value of `n_init` will change from 10 to 'auto' in 1.4. Set the value of `n_init` explicitly to suppress the warning\n",
      "  warnings.warn(\n"
     ]
    },
    {
     "name": "stdout",
     "output_type": "stream",
     "text": [
      "Training a K-Means model with 12 clusters! \n",
      "\n"
     ]
    },
    {
     "name": "stderr",
     "output_type": "stream",
     "text": [
      "/Users/genevauy/anaconda3/lib/python3.10/site-packages/sklearn/cluster/_kmeans.py:870: FutureWarning: The default value of `n_init` will change from 10 to 'auto' in 1.4. Set the value of `n_init` explicitly to suppress the warning\n",
      "  warnings.warn(\n"
     ]
    },
    {
     "name": "stdout",
     "output_type": "stream",
     "text": [
      "Training a K-Means model with 13 clusters! \n",
      "\n"
     ]
    },
    {
     "name": "stderr",
     "output_type": "stream",
     "text": [
      "/Users/genevauy/anaconda3/lib/python3.10/site-packages/sklearn/cluster/_kmeans.py:870: FutureWarning: The default value of `n_init` will change from 10 to 'auto' in 1.4. Set the value of `n_init` explicitly to suppress the warning\n",
      "  warnings.warn(\n"
     ]
    },
    {
     "name": "stdout",
     "output_type": "stream",
     "text": [
      "Training a K-Means model with 14 clusters! \n",
      "\n"
     ]
    },
    {
     "name": "stderr",
     "output_type": "stream",
     "text": [
      "/Users/genevauy/anaconda3/lib/python3.10/site-packages/sklearn/cluster/_kmeans.py:870: FutureWarning: The default value of `n_init` will change from 10 to 'auto' in 1.4. Set the value of `n_init` explicitly to suppress the warning\n",
      "  warnings.warn(\n"
     ]
    },
    {
     "name": "stdout",
     "output_type": "stream",
     "text": [
      "Training a K-Means model with 15 clusters! \n",
      "\n"
     ]
    },
    {
     "name": "stderr",
     "output_type": "stream",
     "text": [
      "/Users/genevauy/anaconda3/lib/python3.10/site-packages/sklearn/cluster/_kmeans.py:870: FutureWarning: The default value of `n_init` will change from 10 to 'auto' in 1.4. Set the value of `n_init` explicitly to suppress the warning\n",
      "  warnings.warn(\n"
     ]
    },
    {
     "name": "stdout",
     "output_type": "stream",
     "text": [
      "Training a K-Means model with 16 clusters! \n",
      "\n"
     ]
    },
    {
     "name": "stderr",
     "output_type": "stream",
     "text": [
      "/Users/genevauy/anaconda3/lib/python3.10/site-packages/sklearn/cluster/_kmeans.py:870: FutureWarning: The default value of `n_init` will change from 10 to 'auto' in 1.4. Set the value of `n_init` explicitly to suppress the warning\n",
      "  warnings.warn(\n"
     ]
    },
    {
     "name": "stdout",
     "output_type": "stream",
     "text": [
      "Training a K-Means model with 17 clusters! \n",
      "\n"
     ]
    },
    {
     "name": "stderr",
     "output_type": "stream",
     "text": [
      "/Users/genevauy/anaconda3/lib/python3.10/site-packages/sklearn/cluster/_kmeans.py:870: FutureWarning: The default value of `n_init` will change from 10 to 'auto' in 1.4. Set the value of `n_init` explicitly to suppress the warning\n",
      "  warnings.warn(\n"
     ]
    },
    {
     "name": "stdout",
     "output_type": "stream",
     "text": [
      "Training a K-Means model with 18 clusters! \n",
      "\n"
     ]
    },
    {
     "name": "stderr",
     "output_type": "stream",
     "text": [
      "/Users/genevauy/anaconda3/lib/python3.10/site-packages/sklearn/cluster/_kmeans.py:870: FutureWarning: The default value of `n_init` will change from 10 to 'auto' in 1.4. Set the value of `n_init` explicitly to suppress the warning\n",
      "  warnings.warn(\n"
     ]
    },
    {
     "name": "stdout",
     "output_type": "stream",
     "text": [
      "Training a K-Means model with 19 clusters! \n",
      "\n"
     ]
    },
    {
     "name": "stderr",
     "output_type": "stream",
     "text": [
      "/Users/genevauy/anaconda3/lib/python3.10/site-packages/sklearn/cluster/_kmeans.py:870: FutureWarning: The default value of `n_init` will change from 10 to 'auto' in 1.4. Set the value of `n_init` explicitly to suppress the warning\n",
      "  warnings.warn(\n"
     ]
    },
    {
     "name": "stdout",
     "output_type": "stream",
     "text": [
      "Training a K-Means model with 20 clusters! \n",
      "\n"
     ]
    },
    {
     "name": "stderr",
     "output_type": "stream",
     "text": [
      "/Users/genevauy/anaconda3/lib/python3.10/site-packages/sklearn/cluster/_kmeans.py:870: FutureWarning: The default value of `n_init` will change from 10 to 'auto' in 1.4. Set the value of `n_init` explicitly to suppress the warning\n",
      "  warnings.warn(\n"
     ]
    },
    {
     "data": {
      "text/plain": [
       "Text(0.5, 1.0, 'Elbow Method showing the optimal k')"
      ]
     },
     "execution_count": 18,
     "metadata": {},
     "output_type": "execute_result"
    },
    {
     "data": {
      "image/png": "[encoded data removed]",
      "text/plain": [
       "<Figure size 1600x800 with 1 Axes>"
      ]
     },
     "metadata": {},
     "output_type": "display_data"
    }
   ],
   "source": [
    "K = range(2, 21)\n",
    "inertia = []\n",
    "\n",
    "for k in K:\n",
    "    print(\"Training a K-Means model with {} clusters! \".format(k))\n",
    "    print()\n",
    "    kmeans = KMeans(n_clusters=k,\n",
    "                    random_state=1234)\n",
    "    kmeans.fit(X_scaled_df)\n",
    "    inertia.append(kmeans.inertia_)\n",
    "\n",
    "import numpy as np\n",
    "import matplotlib.pyplot as plt\n",
    "%matplotlib inline\n",
    "\n",
    "plt.figure(figsize=(16,8))\n",
    "plt.plot(K, inertia, 'bx-')\n",
    "plt.xlabel('k')\n",
    "plt.ylabel('inertia')\n",
    "plt.xticks(np.arange(min(K), max(K)+1, 1.0))\n",
    "plt.title('Elbow Method showing the optimal k')"
   ]
  },
  {
   "cell_type": "code",
   "execution_count": 19,
   "id": "1dcaf898",
   "metadata": {},
   "outputs": [],
   "source": [
    "#silhouette"
   ]
  },
  {
   "cell_type": "code",
   "execution_count": 20,
   "id": "398a7fa2",
   "metadata": {},
   "outputs": [
    {
     "name": "stdout",
     "output_type": "stream",
     "text": [
      "Calculating silhouette score for K-Means model with 2 clusters! \n",
      "\n"
     ]
    },
    {
     "name": "stderr",
     "output_type": "stream",
     "text": [
      "/Users/genevauy/anaconda3/lib/python3.10/site-packages/sklearn/cluster/_kmeans.py:870: FutureWarning: The default value of `n_init` will change from 10 to 'auto' in 1.4. Set the value of `n_init` explicitly to suppress the warning\n",
      "  warnings.warn(\n"
     ]
    },
    {
     "name": "stdout",
     "output_type": "stream",
     "text": [
      "Calculating silhouette score for K-Means model with 3 clusters! \n",
      "\n"
     ]
    },
    {
     "name": "stderr",
     "output_type": "stream",
     "text": [
      "/Users/genevauy/anaconda3/lib/python3.10/site-packages/sklearn/cluster/_kmeans.py:870: FutureWarning: The default value of `n_init` will change from 10 to 'auto' in 1.4. Set the value of `n_init` explicitly to suppress the warning\n",
      "  warnings.warn(\n"
     ]
    },
    {
     "name": "stdout",
     "output_type": "stream",
     "text": [
      "Calculating silhouette score for K-Means model with 4 clusters! \n",
      "\n"
     ]
    },
    {
     "name": "stderr",
     "output_type": "stream",
     "text": [
      "/Users/genevauy/anaconda3/lib/python3.10/site-packages/sklearn/cluster/_kmeans.py:870: FutureWarning: The default value of `n_init` will change from 10 to 'auto' in 1.4. Set the value of `n_init` explicitly to suppress the warning\n",
      "  warnings.warn(\n"
     ]
    },
    {
     "name": "stdout",
     "output_type": "stream",
     "text": [
      "Calculating silhouette score for K-Means model with 5 clusters! \n",
      "\n"
     ]
    },
    {
     "name": "stderr",
     "output_type": "stream",
     "text": [
      "/Users/genevauy/anaconda3/lib/python3.10/site-packages/sklearn/cluster/_kmeans.py:870: FutureWarning: The default value of `n_init` will change from 10 to 'auto' in 1.4. Set the value of `n_init` explicitly to suppress the warning\n",
      "  warnings.warn(\n"
     ]
    },
    {
     "name": "stdout",
     "output_type": "stream",
     "text": [
      "Calculating silhouette score for K-Means model with 6 clusters! \n",
      "\n"
     ]
    },
    {
     "name": "stderr",
     "output_type": "stream",
     "text": [
      "/Users/genevauy/anaconda3/lib/python3.10/site-packages/sklearn/cluster/_kmeans.py:870: FutureWarning: The default value of `n_init` will change from 10 to 'auto' in 1.4. Set the value of `n_init` explicitly to suppress the warning\n",
      "  warnings.warn(\n"
     ]
    },
    {
     "name": "stdout",
     "output_type": "stream",
     "text": [
      "Calculating silhouette score for K-Means model with 7 clusters! \n",
      "\n"
     ]
    },
    {
     "name": "stderr",
     "output_type": "stream",
     "text": [
      "/Users/genevauy/anaconda3/lib/python3.10/site-packages/sklearn/cluster/_kmeans.py:870: FutureWarning: The default value of `n_init` will change from 10 to 'auto' in 1.4. Set the value of `n_init` explicitly to suppress the warning\n",
      "  warnings.warn(\n"
     ]
    },
    {
     "name": "stdout",
     "output_type": "stream",
     "text": [
      "Calculating silhouette score for K-Means model with 8 clusters! \n",
      "\n"
     ]
    },
    {
     "name": "stderr",
     "output_type": "stream",
     "text": [
      "/Users/genevauy/anaconda3/lib/python3.10/site-packages/sklearn/cluster/_kmeans.py:870: FutureWarning: The default value of `n_init` will change from 10 to 'auto' in 1.4. Set the value of `n_init` explicitly to suppress the warning\n",
      "  warnings.warn(\n"
     ]
    },
    {
     "name": "stdout",
     "output_type": "stream",
     "text": [
      "Calculating silhouette score for K-Means model with 9 clusters! \n",
      "\n"
     ]
    },
    {
     "name": "stderr",
     "output_type": "stream",
     "text": [
      "/Users/genevauy/anaconda3/lib/python3.10/site-packages/sklearn/cluster/_kmeans.py:870: FutureWarning: The default value of `n_init` will change from 10 to 'auto' in 1.4. Set the value of `n_init` explicitly to suppress the warning\n",
      "  warnings.warn(\n"
     ]
    },
    {
     "name": "stdout",
     "output_type": "stream",
     "text": [
      "Calculating silhouette score for K-Means model with 10 clusters! \n",
      "\n"
     ]
    },
    {
     "name": "stderr",
     "output_type": "stream",
     "text": [
      "/Users/genevauy/anaconda3/lib/python3.10/site-packages/sklearn/cluster/_kmeans.py:870: FutureWarning: The default value of `n_init` will change from 10 to 'auto' in 1.4. Set the value of `n_init` explicitly to suppress the warning\n",
      "  warnings.warn(\n"
     ]
    },
    {
     "name": "stdout",
     "output_type": "stream",
     "text": [
      "Calculating silhouette score for K-Means model with 11 clusters! \n",
      "\n"
     ]
    },
    {
     "name": "stderr",
     "output_type": "stream",
     "text": [
      "/Users/genevauy/anaconda3/lib/python3.10/site-packages/sklearn/cluster/_kmeans.py:870: FutureWarning: The default value of `n_init` will change from 10 to 'auto' in 1.4. Set the value of `n_init` explicitly to suppress the warning\n",
      "  warnings.warn(\n"
     ]
    },
    {
     "name": "stdout",
     "output_type": "stream",
     "text": [
      "Calculating silhouette score for K-Means model with 12 clusters! \n",
      "\n"
     ]
    },
    {
     "name": "stderr",
     "output_type": "stream",
     "text": [
      "/Users/genevauy/anaconda3/lib/python3.10/site-packages/sklearn/cluster/_kmeans.py:870: FutureWarning: The default value of `n_init` will change from 10 to 'auto' in 1.4. Set the value of `n_init` explicitly to suppress the warning\n",
      "  warnings.warn(\n"
     ]
    },
    {
     "name": "stdout",
     "output_type": "stream",
     "text": [
      "Calculating silhouette score for K-Means model with 13 clusters! \n",
      "\n"
     ]
    },
    {
     "name": "stderr",
     "output_type": "stream",
     "text": [
      "/Users/genevauy/anaconda3/lib/python3.10/site-packages/sklearn/cluster/_kmeans.py:870: FutureWarning: The default value of `n_init` will change from 10 to 'auto' in 1.4. Set the value of `n_init` explicitly to suppress the warning\n",
      "  warnings.warn(\n"
     ]
    },
    {
     "name": "stdout",
     "output_type": "stream",
     "text": [
      "Calculating silhouette score for K-Means model with 14 clusters! \n",
      "\n"
     ]
    },
    {
     "name": "stderr",
     "output_type": "stream",
     "text": [
      "/Users/genevauy/anaconda3/lib/python3.10/site-packages/sklearn/cluster/_kmeans.py:870: FutureWarning: The default value of `n_init` will change from 10 to 'auto' in 1.4. Set the value of `n_init` explicitly to suppress the warning\n",
      "  warnings.warn(\n"
     ]
    },
    {
     "name": "stdout",
     "output_type": "stream",
     "text": [
      "Calculating silhouette score for K-Means model with 15 clusters! \n",
      "\n"
     ]
    },
    {
     "name": "stderr",
     "output_type": "stream",
     "text": [
      "/Users/genevauy/anaconda3/lib/python3.10/site-packages/sklearn/cluster/_kmeans.py:870: FutureWarning: The default value of `n_init` will change from 10 to 'auto' in 1.4. Set the value of `n_init` explicitly to suppress the warning\n",
      "  warnings.warn(\n"
     ]
    },
    {
     "name": "stdout",
     "output_type": "stream",
     "text": [
      "Calculating silhouette score for K-Means model with 16 clusters! \n",
      "\n"
     ]
    },
    {
     "name": "stderr",
     "output_type": "stream",
     "text": [
      "/Users/genevauy/anaconda3/lib/python3.10/site-packages/sklearn/cluster/_kmeans.py:870: FutureWarning: The default value of `n_init` will change from 10 to 'auto' in 1.4. Set the value of `n_init` explicitly to suppress the warning\n",
      "  warnings.warn(\n"
     ]
    },
    {
     "name": "stdout",
     "output_type": "stream",
     "text": [
      "Calculating silhouette score for K-Means model with 17 clusters! \n",
      "\n"
     ]
    },
    {
     "name": "stderr",
     "output_type": "stream",
     "text": [
      "/Users/genevauy/anaconda3/lib/python3.10/site-packages/sklearn/cluster/_kmeans.py:870: FutureWarning: The default value of `n_init` will change from 10 to 'auto' in 1.4. Set the value of `n_init` explicitly to suppress the warning\n",
      "  warnings.warn(\n"
     ]
    },
    {
     "name": "stdout",
     "output_type": "stream",
     "text": [
      "Calculating silhouette score for K-Means model with 18 clusters! \n",
      "\n"
     ]
    },
    {
     "name": "stderr",
     "output_type": "stream",
     "text": [
      "/Users/genevauy/anaconda3/lib/python3.10/site-packages/sklearn/cluster/_kmeans.py:870: FutureWarning: The default value of `n_init` will change from 10 to 'auto' in 1.4. Set the value of `n_init` explicitly to suppress the warning\n",
      "  warnings.warn(\n"
     ]
    },
    {
     "name": "stdout",
     "output_type": "stream",
     "text": [
      "Calculating silhouette score for K-Means model with 19 clusters! \n",
      "\n"
     ]
    },
    {
     "name": "stderr",
     "output_type": "stream",
     "text": [
      "/Users/genevauy/anaconda3/lib/python3.10/site-packages/sklearn/cluster/_kmeans.py:870: FutureWarning: The default value of `n_init` will change from 10 to 'auto' in 1.4. Set the value of `n_init` explicitly to suppress the warning\n",
      "  warnings.warn(\n"
     ]
    },
    {
     "name": "stdout",
     "output_type": "stream",
     "text": [
      "Calculating silhouette score for K-Means model with 20 clusters! \n",
      "\n"
     ]
    },
    {
     "name": "stderr",
     "output_type": "stream",
     "text": [
      "/Users/genevauy/anaconda3/lib/python3.10/site-packages/sklearn/cluster/_kmeans.py:870: FutureWarning: The default value of `n_init` will change from 10 to 'auto' in 1.4. Set the value of `n_init` explicitly to suppress the warning\n",
      "  warnings.warn(\n"
     ]
    },
    {
     "data": {
      "image/png": "[encoded data removed]",
      "text/plain": [
       "<Figure size 1600x800 with 1 Axes>"
      ]
     },
     "metadata": {},
     "output_type": "display_data"
    }
   ],
   "source": [
    "from sklearn.metrics import silhouette_score\n",
    "\n",
    "silhouette_scores = []\n",
    "\n",
    "for k in K:\n",
    "    print(\"Calculating silhouette score for K-Means model with {} clusters! \".format(k))\n",
    "    print()\n",
    "    kmeans = KMeans(n_clusters=k, random_state=1234)\n",
    "    kmeans.fit(X_scaled_df)\n",
    "    labels = kmeans.labels_\n",
    "    silhouette_scores.append(silhouette_score(X_scaled_df, labels))\n",
    "\n",
    "plt.figure(figsize=(16,8))\n",
    "plt.plot(K, silhouette_scores, 'bx-')\n",
    "plt.xlabel('k')\n",
    "plt.ylabel('Silhouette Score')\n",
    "plt.xticks(np.arange(min(K), max(K)+1, 1.0))\n",
    "plt.title('Silhouette Score for different values of k')\n",
    "plt.show()\n"
   ]
  },
  {
   "cell_type": "code",
   "execution_count": 21,
   "id": "f8cf8d92",
   "metadata": {
    "scrolled": true
   },
   "outputs": [
    {
     "data": {
      "text/html": [
       "<div>\n",
       "<style scoped>\n",
       "    .dataframe tbody tr th:only-of-type {\n",
       "        vertical-align: middle;\n",
       "    }\n",
       "\n",
       "    .dataframe tbody tr th {\n",
       "        vertical-align: top;\n",
       "    }\n",
       "\n",
       "    .dataframe thead th {\n",
       "        text-align: right;\n",
       "    }\n",
       "</style>\n",
       "<table border=\"1\" class=\"dataframe\">\n",
       "  <thead>\n",
       "    <tr style=\"text-align: right;\">\n",
       "      <th></th>\n",
       "      <th>danceability</th>\n",
       "      <th>energy</th>\n",
       "      <th>key</th>\n",
       "      <th>loudness</th>\n",
       "      <th>mode</th>\n",
       "      <th>speechiness</th>\n",
       "      <th>acousticness</th>\n",
       "      <th>instrumentalness</th>\n",
       "      <th>liveness</th>\n",
       "      <th>valence</th>\n",
       "      <th>tempo</th>\n",
       "      <th>cluster</th>\n",
       "    </tr>\n",
       "  </thead>\n",
       "  <tbody>\n",
       "    <tr>\n",
       "      <th>0</th>\n",
       "      <td>0.552</td>\n",
       "      <td>0.702</td>\n",
       "      <td>9</td>\n",
       "      <td>-5.707</td>\n",
       "      <td>1</td>\n",
       "      <td>0.1570</td>\n",
       "      <td>0.11700</td>\n",
       "      <td>0.000021</td>\n",
       "      <td>0.1050</td>\n",
       "      <td>0.564</td>\n",
       "      <td>169.994</td>\n",
       "      <td>1</td>\n",
       "    </tr>\n",
       "    <tr>\n",
       "      <th>1</th>\n",
       "      <td>0.511</td>\n",
       "      <td>0.532</td>\n",
       "      <td>5</td>\n",
       "      <td>-5.745</td>\n",
       "      <td>1</td>\n",
       "      <td>0.0560</td>\n",
       "      <td>0.16900</td>\n",
       "      <td>0.000000</td>\n",
       "      <td>0.3110</td>\n",
       "      <td>0.322</td>\n",
       "      <td>137.827</td>\n",
       "      <td>1</td>\n",
       "    </tr>\n",
       "    <tr>\n",
       "      <th>2</th>\n",
       "      <td>0.855</td>\n",
       "      <td>0.678</td>\n",
       "      <td>1</td>\n",
       "      <td>-6.276</td>\n",
       "      <td>1</td>\n",
       "      <td>0.1890</td>\n",
       "      <td>0.05690</td>\n",
       "      <td>0.000037</td>\n",
       "      <td>0.4120</td>\n",
       "      <td>0.852</td>\n",
       "      <td>99.029</td>\n",
       "      <td>1</td>\n",
       "    </tr>\n",
       "    <tr>\n",
       "      <th>3</th>\n",
       "      <td>0.671</td>\n",
       "      <td>0.845</td>\n",
       "      <td>11</td>\n",
       "      <td>-4.930</td>\n",
       "      <td>0</td>\n",
       "      <td>0.0480</td>\n",
       "      <td>0.02070</td>\n",
       "      <td>0.000000</td>\n",
       "      <td>0.3290</td>\n",
       "      <td>0.775</td>\n",
       "      <td>110.056</td>\n",
       "      <td>3</td>\n",
       "    </tr>\n",
       "    <tr>\n",
       "      <th>4</th>\n",
       "      <td>0.652</td>\n",
       "      <td>0.800</td>\n",
       "      <td>9</td>\n",
       "      <td>-4.019</td>\n",
       "      <td>0</td>\n",
       "      <td>0.0614</td>\n",
       "      <td>0.14300</td>\n",
       "      <td>0.629000</td>\n",
       "      <td>0.1120</td>\n",
       "      <td>0.234</td>\n",
       "      <td>143.978</td>\n",
       "      <td>3</td>\n",
       "    </tr>\n",
       "    <tr>\n",
       "      <th>...</th>\n",
       "      <td>...</td>\n",
       "      <td>...</td>\n",
       "      <td>...</td>\n",
       "      <td>...</td>\n",
       "      <td>...</td>\n",
       "      <td>...</td>\n",
       "      <td>...</td>\n",
       "      <td>...</td>\n",
       "      <td>...</td>\n",
       "      <td>...</td>\n",
       "      <td>...</td>\n",
       "      <td>...</td>\n",
       "    </tr>\n",
       "    <tr>\n",
       "      <th>5772</th>\n",
       "      <td>0.700</td>\n",
       "      <td>0.829</td>\n",
       "      <td>8</td>\n",
       "      <td>-6.846</td>\n",
       "      <td>1</td>\n",
       "      <td>0.0669</td>\n",
       "      <td>0.00218</td>\n",
       "      <td>0.000472</td>\n",
       "      <td>0.1200</td>\n",
       "      <td>0.886</td>\n",
       "      <td>148.068</td>\n",
       "      <td>1</td>\n",
       "    </tr>\n",
       "    <tr>\n",
       "      <th>5773</th>\n",
       "      <td>0.555</td>\n",
       "      <td>0.614</td>\n",
       "      <td>0</td>\n",
       "      <td>-8.679</td>\n",
       "      <td>1</td>\n",
       "      <td>0.0997</td>\n",
       "      <td>0.81800</td>\n",
       "      <td>0.002410</td>\n",
       "      <td>0.3160</td>\n",
       "      <td>0.244</td>\n",
       "      <td>155.556</td>\n",
       "      <td>1</td>\n",
       "    </tr>\n",
       "    <tr>\n",
       "      <th>5774</th>\n",
       "      <td>0.396</td>\n",
       "      <td>0.594</td>\n",
       "      <td>9</td>\n",
       "      <td>-5.267</td>\n",
       "      <td>0</td>\n",
       "      <td>0.1140</td>\n",
       "      <td>0.38400</td>\n",
       "      <td>0.000000</td>\n",
       "      <td>0.1350</td>\n",
       "      <td>0.211</td>\n",
       "      <td>163.932</td>\n",
       "      <td>3</td>\n",
       "    </tr>\n",
       "    <tr>\n",
       "      <th>5775</th>\n",
       "      <td>0.570</td>\n",
       "      <td>0.450</td>\n",
       "      <td>2</td>\n",
       "      <td>-7.241</td>\n",
       "      <td>1</td>\n",
       "      <td>0.0271</td>\n",
       "      <td>0.41500</td>\n",
       "      <td>0.000234</td>\n",
       "      <td>0.0793</td>\n",
       "      <td>0.256</td>\n",
       "      <td>125.987</td>\n",
       "      <td>1</td>\n",
       "    </tr>\n",
       "    <tr>\n",
       "      <th>5776</th>\n",
       "      <td>0.718</td>\n",
       "      <td>0.663</td>\n",
       "      <td>9</td>\n",
       "      <td>-7.499</td>\n",
       "      <td>1</td>\n",
       "      <td>0.0956</td>\n",
       "      <td>0.01140</td>\n",
       "      <td>0.001730</td>\n",
       "      <td>0.3170</td>\n",
       "      <td>0.532</td>\n",
       "      <td>101.004</td>\n",
       "      <td>1</td>\n",
       "    </tr>\n",
       "  </tbody>\n",
       "</table>\n",
       "<p>5777 rows × 12 columns</p>\n",
       "</div>"
      ],
      "text/plain": [
       "      danceability  energy  key  loudness  mode  speechiness  acousticness  \\\n",
       "0            0.552   0.702    9    -5.707     1       0.1570       0.11700   \n",
       "1            0.511   0.532    5    -5.745     1       0.0560       0.16900   \n",
       "2            0.855   0.678    1    -6.276     1       0.1890       0.05690   \n",
       "3            0.671   0.845   11    -4.930     0       0.0480       0.02070   \n",
       "4            0.652   0.800    9    -4.019     0       0.0614       0.14300   \n",
       "...            ...     ...  ...       ...   ...          ...           ...   \n",
       "5772         0.700   0.829    8    -6.846     1       0.0669       0.00218   \n",
       "5773         0.555   0.614    0    -8.679     1       0.0997       0.81800   \n",
       "5774         0.396   0.594    9    -5.267     0       0.1140       0.38400   \n",
       "5775         0.570   0.450    2    -7.241     1       0.0271       0.41500   \n",
       "5776         0.718   0.663    9    -7.499     1       0.0956       0.01140   \n",
       "\n",
       "      instrumentalness  liveness  valence    tempo  cluster  \n",
       "0             0.000021    0.1050    0.564  169.994        1  \n",
       "1             0.000000    0.3110    0.322  137.827        1  \n",
       "2             0.000037    0.4120    0.852   99.029        1  \n",
       "3             0.000000    0.3290    0.775  110.056        3  \n",
       "4             0.629000    0.1120    0.234  143.978        3  \n",
       "...                ...       ...      ...      ...      ...  \n",
       "5772          0.000472    0.1200    0.886  148.068        1  \n",
       "5773          0.002410    0.3160    0.244  155.556        1  \n",
       "5774          0.000000    0.1350    0.211  163.932        3  \n",
       "5775          0.000234    0.0793    0.256  125.987        1  \n",
       "5776          0.001730    0.3170    0.532  101.004        1  \n",
       "\n",
       "[5777 rows x 12 columns]"
      ]
     },
     "execution_count": 21,
     "metadata": {},
     "output_type": "execute_result"
    }
   ],
   "source": [
    "X"
   ]
  },
  {
   "cell_type": "code",
   "execution_count": 22,
   "id": "fc90a59c",
   "metadata": {},
   "outputs": [],
   "source": [
    "audios = pd.concat([X, audio['id']], axis=1)"
   ]
  },
  {
   "cell_type": "code",
   "execution_count": null,
   "id": "2776595b",
   "metadata": {},
   "outputs": [],
   "source": [
    "audios"
   ]
  },
  {
   "cell_type": "code",
   "execution_count": null,
   "id": "8f4fe4ec",
   "metadata": {},
   "outputs": [],
   "source": [
    "#USER INPUT"
   ]
  },
  {
   "cell_type": "code",
   "execution_count": 41,
   "id": "0cc475a4",
   "metadata": {
    "scrolled": true
   },
   "outputs": [
    {
     "name": "stdout",
     "output_type": "stream",
     "text": [
      "Hello! Please enter a song: september\n",
      "Would you like a recommendation? Please answer either yes or no: yes\n",
      "Based on your answer, we recommend you this:\n"
     ]
    },
    {
     "data": {
      "text/html": [
       "\n",
       "        <iframe\n",
       "            width=\"320\"\n",
       "            height=\"80\"\n",
       "            src=\"https://open.spotify.com/embed/track/67LfMxyAh3vAwCR2yZPFhg?frameborder=0&allowtransparency=true&allow=encrypted-media\"\n",
       "            frameborder=\"0\"\n",
       "            allowfullscreen\n",
       "            \n",
       "        ></iframe>\n",
       "        "
      ],
      "text/plain": [
       "<IPython.lib.display.IFrame at 0x14f9cf7f0>"
      ]
     },
     "metadata": {},
     "output_type": "display_data"
    }
   ],
   "source": [
    "import random\n",
    "\n",
    "billboard = pd.read_csv('billboard100.csv')\n",
    "user_song = input(\"Hello! Please enter a song: \")\n",
    "user_song = user_song.lower()\n",
    "billboard['Song_lower'] = billboard['song titles'].str.lower()\n",
    "filtered_df = billboard[billboard['Song_lower'] != user_song]\n",
    "if user_song in billboard['Song_lower'].values:\n",
    "    random_title = random.choice(filtered_df['song titles'])\n",
    "    random_title_search = sp.search(q=random_title, limit=1)\n",
    "    track_id = random_title_search['tracks'][\"items\"][0][\"id\"]\n",
    "    print(\"Looks like your song is in the top 100. We recommend another one from that list:\")\n",
    "    display(IFrame(src=\"https://open.spotify.com/embed/track/\" + track_id, width=\"320\", height=\"80\",\n",
    "                   frameborder=\"0\",\n",
    "                   allowtransparency=\"true\",\n",
    "                   allow=\"encrypted-media\",\n",
    "                   ))\n",
    "else:\n",
    "    answer = input(\"Would you like a recommendation? Please answer either yes or no: \")\n",
    "    if answer.lower() == 'yes':\n",
    "        results = sp.search(q=user_song, limit=1)\n",
    "        track_id = results['tracks'][\"items\"][0][\"id\"]\n",
    "        song_features = sp.audio_features([track_id])[0]\n",
    "        user_song = pd.DataFrame(song_features, index=[0])\n",
    "        exclude = ['type', 'id', 'uri', 'track_href', 'analysis_url', 'duration_ms', 'time_signature']\n",
    "        user = pd.DataFrame([song_features]).drop(columns=exclude)\n",
    "        user_scaled = scaler.transform(user)\n",
    "        user_scaled_df = pd.DataFrame(user_scaled, columns=user.columns)\n",
    "        user_cluster = kmeans2.predict(user_scaled_df)\n",
    "        recommended_songs = audios[audios['cluster'] == user_cluster[0]]\n",
    "        if not recommended_songs.empty:\n",
    "            recommended_track_id = recommended_songs.sample(n=1, random_state=1234)['id'].values[0]\n",
    "            print(\"Based on your answer, we recommend you this:\")\n",
    "            display(IFrame(src=\"https://open.spotify.com/embed/track/\" + recommended_track_id, width=\"320\", height=\"80\",\n",
    "                           frameborder=\"0\",\n",
    "                           allowtransparency=\"true\",\n",
    "                           allow=\"encrypted-media\",\n",
    "                           ))\n",
    "    else:\n",
    "        print(\"Okay\")\n"
   ]
  }
 ],
 "metadata": {
  "kernelspec": {
   "display_name": "Python 3 (ipykernel)",
   "language": "python",
   "name": "python3"
  },
  "language_info": {
   "codemirror_mode": {
    "name": "ipython",
    "version": 3
   },
   "file_extension": ".py",
   "mimetype": "text/x-python",
   "name": "python",
   "nbconvert_exporter": "python",
   "pygments_lexer": "ipython3",
   "version": "3.10.9"
  }
 },
 "nbformat": 4,
 "nbformat_minor": 5
}
