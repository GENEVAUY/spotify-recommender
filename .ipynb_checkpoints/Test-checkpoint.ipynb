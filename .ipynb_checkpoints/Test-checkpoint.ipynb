{
 "cells": [
  {
   "cell_type": "code",
   "execution_count": 1,
   "id": "1dfba6a9",
   "metadata": {},
   "outputs": [],
   "source": [
    "import numpy as np\n",
    "import pandas as pd\n",
    "import spotipy as sp\n",
    "import pickle\n",
    "from sklearn import datasets # sklearn comes with some toy datasets to practice\n",
    "from sklearn.preprocessing import StandardScaler\n",
    "from sklearn.cluster import KMeans\n",
    "from matplotlib import pyplot\n",
    "from sklearn.metrics import silhouette_score\n",
    "##!conda install -c conda-forge spotipy\n",
    "import config\n",
    "import pandas\n",
    "import spotipy\n",
    "import json\n",
    "from spotipy.oauth2 import SpotifyClientCredentials\n",
    "import pprint\n",
    "#Initialize SpotiPy with user credentials\n",
    "sp = spotipy.Spotify(auth_manager=SpotifyClientCredentials(client_id= config.client_id,\n",
    "                                                           client_secret= config.client_secret))"
   ]
  },
  {
   "cell_type": "code",
   "execution_count": 2,
   "id": "4e630e61",
   "metadata": {},
   "outputs": [],
   "source": [
    "audio = pd.read_csv (\"combined.csv\")"
   ]
  },
  {
   "cell_type": "code",
   "execution_count": 3,
   "id": "db37ffa2",
   "metadata": {},
   "outputs": [
    {
     "data": {
      "text/html": [
       "<div>\n",
       "<style scoped>\n",
       "    .dataframe tbody tr th:only-of-type {\n",
       "        vertical-align: middle;\n",
       "    }\n",
       "\n",
       "    .dataframe tbody tr th {\n",
       "        vertical-align: top;\n",
       "    }\n",
       "\n",
       "    .dataframe thead th {\n",
       "        text-align: right;\n",
       "    }\n",
       "</style>\n",
       "<table border=\"1\" class=\"dataframe\">\n",
       "  <thead>\n",
       "    <tr style=\"text-align: right;\">\n",
       "      <th></th>\n",
       "      <th>danceability</th>\n",
       "      <th>energy</th>\n",
       "      <th>key</th>\n",
       "      <th>loudness</th>\n",
       "      <th>mode</th>\n",
       "      <th>speechiness</th>\n",
       "      <th>acousticness</th>\n",
       "      <th>instrumentalness</th>\n",
       "      <th>liveness</th>\n",
       "      <th>valence</th>\n",
       "      <th>tempo</th>\n",
       "      <th>type</th>\n",
       "      <th>id</th>\n",
       "      <th>uri</th>\n",
       "      <th>track_href</th>\n",
       "      <th>analysis_url</th>\n",
       "      <th>duration_ms</th>\n",
       "      <th>time_signature</th>\n",
       "    </tr>\n",
       "  </thead>\n",
       "  <tbody>\n",
       "    <tr>\n",
       "      <th>0</th>\n",
       "      <td>0.4320</td>\n",
       "      <td>0.8840</td>\n",
       "      <td>8</td>\n",
       "      <td>-6.659</td>\n",
       "      <td>1</td>\n",
       "      <td>0.1300</td>\n",
       "      <td>0.012700</td>\n",
       "      <td>0.000527</td>\n",
       "      <td>0.1660</td>\n",
       "      <td>0.6240</td>\n",
       "      <td>108.948</td>\n",
       "      <td>audio_features</td>\n",
       "      <td>5cZqsjVs6MevCnAkasbEOX</td>\n",
       "      <td>spotify:track:5cZqsjVs6MevCnAkasbEOX</td>\n",
       "      <td>https://api.spotify.com/v1/tracks/5cZqsjVs6Mev...</td>\n",
       "      <td>https://api.spotify.com/v1/audio-analysis/5cZq...</td>\n",
       "      <td>166707</td>\n",
       "      <td>4</td>\n",
       "    </tr>\n",
       "    <tr>\n",
       "      <th>1</th>\n",
       "      <td>0.4650</td>\n",
       "      <td>0.9770</td>\n",
       "      <td>7</td>\n",
       "      <td>-3.839</td>\n",
       "      <td>0</td>\n",
       "      <td>0.1750</td>\n",
       "      <td>0.001110</td>\n",
       "      <td>0.002980</td>\n",
       "      <td>0.2010</td>\n",
       "      <td>0.2330</td>\n",
       "      <td>89.535</td>\n",
       "      <td>audio_features</td>\n",
       "      <td>6imjJij6aCM0IbbODUzJQn</td>\n",
       "      <td>spotify:track:6imjJij6aCM0IbbODUzJQn</td>\n",
       "      <td>https://api.spotify.com/v1/tracks/6imjJij6aCM0...</td>\n",
       "      <td>https://api.spotify.com/v1/audio-analysis/6imj...</td>\n",
       "      <td>284027</td>\n",
       "      <td>4</td>\n",
       "    </tr>\n",
       "    <tr>\n",
       "      <th>2</th>\n",
       "      <td>0.4570</td>\n",
       "      <td>0.8340</td>\n",
       "      <td>5</td>\n",
       "      <td>-4.674</td>\n",
       "      <td>0</td>\n",
       "      <td>0.0817</td>\n",
       "      <td>0.002520</td>\n",
       "      <td>0.001250</td>\n",
       "      <td>0.1000</td>\n",
       "      <td>0.2010</td>\n",
       "      <td>140.032</td>\n",
       "      <td>audio_features</td>\n",
       "      <td>1H4Y9uW4N0LsxJUz0VnaPJ</td>\n",
       "      <td>spotify:track:1H4Y9uW4N0LsxJUz0VnaPJ</td>\n",
       "      <td>https://api.spotify.com/v1/tracks/1H4Y9uW4N0Ls...</td>\n",
       "      <td>https://api.spotify.com/v1/audio-analysis/1H4Y...</td>\n",
       "      <td>204677</td>\n",
       "      <td>4</td>\n",
       "    </tr>\n",
       "    <tr>\n",
       "      <th>3</th>\n",
       "      <td>0.5910</td>\n",
       "      <td>0.9630</td>\n",
       "      <td>0</td>\n",
       "      <td>-6.489</td>\n",
       "      <td>0</td>\n",
       "      <td>0.0531</td>\n",
       "      <td>0.000087</td>\n",
       "      <td>0.000107</td>\n",
       "      <td>0.0781</td>\n",
       "      <td>0.6090</td>\n",
       "      <td>125.030</td>\n",
       "      <td>audio_features</td>\n",
       "      <td>6Nm8h73ycDG2saCnZV8poF</td>\n",
       "      <td>spotify:track:6Nm8h73ycDG2saCnZV8poF</td>\n",
       "      <td>https://api.spotify.com/v1/tracks/6Nm8h73ycDG2...</td>\n",
       "      <td>https://api.spotify.com/v1/audio-analysis/6Nm8...</td>\n",
       "      <td>222827</td>\n",
       "      <td>4</td>\n",
       "    </tr>\n",
       "    <tr>\n",
       "      <th>4</th>\n",
       "      <td>0.5800</td>\n",
       "      <td>0.9160</td>\n",
       "      <td>3</td>\n",
       "      <td>-4.358</td>\n",
       "      <td>0</td>\n",
       "      <td>0.0387</td>\n",
       "      <td>0.000297</td>\n",
       "      <td>0.025900</td>\n",
       "      <td>0.1260</td>\n",
       "      <td>0.6830</td>\n",
       "      <td>118.004</td>\n",
       "      <td>audio_features</td>\n",
       "      <td>5anCkDvJ17aznvK5TED5uo</td>\n",
       "      <td>spotify:track:5anCkDvJ17aznvK5TED5uo</td>\n",
       "      <td>https://api.spotify.com/v1/tracks/5anCkDvJ17az...</td>\n",
       "      <td>https://api.spotify.com/v1/audio-analysis/5anC...</td>\n",
       "      <td>305907</td>\n",
       "      <td>4</td>\n",
       "    </tr>\n",
       "    <tr>\n",
       "      <th>...</th>\n",
       "      <td>...</td>\n",
       "      <td>...</td>\n",
       "      <td>...</td>\n",
       "      <td>...</td>\n",
       "      <td>...</td>\n",
       "      <td>...</td>\n",
       "      <td>...</td>\n",
       "      <td>...</td>\n",
       "      <td>...</td>\n",
       "      <td>...</td>\n",
       "      <td>...</td>\n",
       "      <td>...</td>\n",
       "      <td>...</td>\n",
       "      <td>...</td>\n",
       "      <td>...</td>\n",
       "      <td>...</td>\n",
       "      <td>...</td>\n",
       "      <td>...</td>\n",
       "    </tr>\n",
       "    <tr>\n",
       "      <th>2421</th>\n",
       "      <td>0.2400</td>\n",
       "      <td>0.0834</td>\n",
       "      <td>6</td>\n",
       "      <td>-29.545</td>\n",
       "      <td>0</td>\n",
       "      <td>0.0499</td>\n",
       "      <td>0.978000</td>\n",
       "      <td>0.944000</td>\n",
       "      <td>0.0804</td>\n",
       "      <td>0.1880</td>\n",
       "      <td>169.621</td>\n",
       "      <td>audio_features</td>\n",
       "      <td>4VVEfBXep7FdOt524jkfLF</td>\n",
       "      <td>spotify:track:4VVEfBXep7FdOt524jkfLF</td>\n",
       "      <td>https://api.spotify.com/v1/tracks/4VVEfBXep7Fd...</td>\n",
       "      <td>https://api.spotify.com/v1/audio-analysis/4VVE...</td>\n",
       "      <td>159320</td>\n",
       "      <td>4</td>\n",
       "    </tr>\n",
       "    <tr>\n",
       "      <th>2422</th>\n",
       "      <td>0.4050</td>\n",
       "      <td>0.3180</td>\n",
       "      <td>9</td>\n",
       "      <td>-17.140</td>\n",
       "      <td>1</td>\n",
       "      <td>0.0565</td>\n",
       "      <td>0.938000</td>\n",
       "      <td>0.723000</td>\n",
       "      <td>0.2840</td>\n",
       "      <td>0.3420</td>\n",
       "      <td>151.434</td>\n",
       "      <td>audio_features</td>\n",
       "      <td>7hOLwSaTSkrqxSMzj4bXI1</td>\n",
       "      <td>spotify:track:7hOLwSaTSkrqxSMzj4bXI1</td>\n",
       "      <td>https://api.spotify.com/v1/tracks/7hOLwSaTSkrq...</td>\n",
       "      <td>https://api.spotify.com/v1/audio-analysis/7hOL...</td>\n",
       "      <td>424653</td>\n",
       "      <td>4</td>\n",
       "    </tr>\n",
       "    <tr>\n",
       "      <th>2423</th>\n",
       "      <td>0.2910</td>\n",
       "      <td>0.0981</td>\n",
       "      <td>8</td>\n",
       "      <td>-23.156</td>\n",
       "      <td>1</td>\n",
       "      <td>0.0398</td>\n",
       "      <td>0.950000</td>\n",
       "      <td>0.865000</td>\n",
       "      <td>0.2750</td>\n",
       "      <td>0.1940</td>\n",
       "      <td>138.168</td>\n",
       "      <td>audio_features</td>\n",
       "      <td>76i4IBw3KsuDw783tvHB0e</td>\n",
       "      <td>spotify:track:76i4IBw3KsuDw783tvHB0e</td>\n",
       "      <td>https://api.spotify.com/v1/tracks/76i4IBw3KsuD...</td>\n",
       "      <td>https://api.spotify.com/v1/audio-analysis/76i4...</td>\n",
       "      <td>249640</td>\n",
       "      <td>4</td>\n",
       "    </tr>\n",
       "    <tr>\n",
       "      <th>2424</th>\n",
       "      <td>0.0992</td>\n",
       "      <td>0.2260</td>\n",
       "      <td>9</td>\n",
       "      <td>-14.840</td>\n",
       "      <td>0</td>\n",
       "      <td>0.0339</td>\n",
       "      <td>0.937000</td>\n",
       "      <td>0.903000</td>\n",
       "      <td>0.1830</td>\n",
       "      <td>0.0605</td>\n",
       "      <td>79.518</td>\n",
       "      <td>audio_features</td>\n",
       "      <td>53ann6bENp7BF8uklrzQAp</td>\n",
       "      <td>spotify:track:53ann6bENp7BF8uklrzQAp</td>\n",
       "      <td>https://api.spotify.com/v1/tracks/53ann6bENp7B...</td>\n",
       "      <td>https://api.spotify.com/v1/audio-analysis/53an...</td>\n",
       "      <td>256493</td>\n",
       "      <td>4</td>\n",
       "    </tr>\n",
       "    <tr>\n",
       "      <th>2425</th>\n",
       "      <td>0.3390</td>\n",
       "      <td>0.0937</td>\n",
       "      <td>2</td>\n",
       "      <td>-20.267</td>\n",
       "      <td>1</td>\n",
       "      <td>0.0394</td>\n",
       "      <td>0.931000</td>\n",
       "      <td>0.293000</td>\n",
       "      <td>0.2520</td>\n",
       "      <td>0.4580</td>\n",
       "      <td>123.048</td>\n",
       "      <td>audio_features</td>\n",
       "      <td>0qFZYO72iBOhW7X6KbL44Q</td>\n",
       "      <td>spotify:track:0qFZYO72iBOhW7X6KbL44Q</td>\n",
       "      <td>https://api.spotify.com/v1/tracks/0qFZYO72iBOh...</td>\n",
       "      <td>https://api.spotify.com/v1/audio-analysis/0qFZ...</td>\n",
       "      <td>167640</td>\n",
       "      <td>3</td>\n",
       "    </tr>\n",
       "  </tbody>\n",
       "</table>\n",
       "<p>2426 rows × 18 columns</p>\n",
       "</div>"
      ],
      "text/plain": [
       "      danceability  energy  key  loudness  mode  speechiness  acousticness  \\\n",
       "0           0.4320  0.8840    8    -6.659     1       0.1300      0.012700   \n",
       "1           0.4650  0.9770    7    -3.839     0       0.1750      0.001110   \n",
       "2           0.4570  0.8340    5    -4.674     0       0.0817      0.002520   \n",
       "3           0.5910  0.9630    0    -6.489     0       0.0531      0.000087   \n",
       "4           0.5800  0.9160    3    -4.358     0       0.0387      0.000297   \n",
       "...            ...     ...  ...       ...   ...          ...           ...   \n",
       "2421        0.2400  0.0834    6   -29.545     0       0.0499      0.978000   \n",
       "2422        0.4050  0.3180    9   -17.140     1       0.0565      0.938000   \n",
       "2423        0.2910  0.0981    8   -23.156     1       0.0398      0.950000   \n",
       "2424        0.0992  0.2260    9   -14.840     0       0.0339      0.937000   \n",
       "2425        0.3390  0.0937    2   -20.267     1       0.0394      0.931000   \n",
       "\n",
       "      instrumentalness  liveness  valence    tempo            type  \\\n",
       "0             0.000527    0.1660   0.6240  108.948  audio_features   \n",
       "1             0.002980    0.2010   0.2330   89.535  audio_features   \n",
       "2             0.001250    0.1000   0.2010  140.032  audio_features   \n",
       "3             0.000107    0.0781   0.6090  125.030  audio_features   \n",
       "4             0.025900    0.1260   0.6830  118.004  audio_features   \n",
       "...                ...       ...      ...      ...             ...   \n",
       "2421          0.944000    0.0804   0.1880  169.621  audio_features   \n",
       "2422          0.723000    0.2840   0.3420  151.434  audio_features   \n",
       "2423          0.865000    0.2750   0.1940  138.168  audio_features   \n",
       "2424          0.903000    0.1830   0.0605   79.518  audio_features   \n",
       "2425          0.293000    0.2520   0.4580  123.048  audio_features   \n",
       "\n",
       "                          id                                   uri  \\\n",
       "0     5cZqsjVs6MevCnAkasbEOX  spotify:track:5cZqsjVs6MevCnAkasbEOX   \n",
       "1     6imjJij6aCM0IbbODUzJQn  spotify:track:6imjJij6aCM0IbbODUzJQn   \n",
       "2     1H4Y9uW4N0LsxJUz0VnaPJ  spotify:track:1H4Y9uW4N0LsxJUz0VnaPJ   \n",
       "3     6Nm8h73ycDG2saCnZV8poF  spotify:track:6Nm8h73ycDG2saCnZV8poF   \n",
       "4     5anCkDvJ17aznvK5TED5uo  spotify:track:5anCkDvJ17aznvK5TED5uo   \n",
       "...                      ...                                   ...   \n",
       "2421  4VVEfBXep7FdOt524jkfLF  spotify:track:4VVEfBXep7FdOt524jkfLF   \n",
       "2422  7hOLwSaTSkrqxSMzj4bXI1  spotify:track:7hOLwSaTSkrqxSMzj4bXI1   \n",
       "2423  76i4IBw3KsuDw783tvHB0e  spotify:track:76i4IBw3KsuDw783tvHB0e   \n",
       "2424  53ann6bENp7BF8uklrzQAp  spotify:track:53ann6bENp7BF8uklrzQAp   \n",
       "2425  0qFZYO72iBOhW7X6KbL44Q  spotify:track:0qFZYO72iBOhW7X6KbL44Q   \n",
       "\n",
       "                                             track_href  \\\n",
       "0     https://api.spotify.com/v1/tracks/5cZqsjVs6Mev...   \n",
       "1     https://api.spotify.com/v1/tracks/6imjJij6aCM0...   \n",
       "2     https://api.spotify.com/v1/tracks/1H4Y9uW4N0Ls...   \n",
       "3     https://api.spotify.com/v1/tracks/6Nm8h73ycDG2...   \n",
       "4     https://api.spotify.com/v1/tracks/5anCkDvJ17az...   \n",
       "...                                                 ...   \n",
       "2421  https://api.spotify.com/v1/tracks/4VVEfBXep7Fd...   \n",
       "2422  https://api.spotify.com/v1/tracks/7hOLwSaTSkrq...   \n",
       "2423  https://api.spotify.com/v1/tracks/76i4IBw3KsuD...   \n",
       "2424  https://api.spotify.com/v1/tracks/53ann6bENp7B...   \n",
       "2425  https://api.spotify.com/v1/tracks/0qFZYO72iBOh...   \n",
       "\n",
       "                                           analysis_url  duration_ms  \\\n",
       "0     https://api.spotify.com/v1/audio-analysis/5cZq...       166707   \n",
       "1     https://api.spotify.com/v1/audio-analysis/6imj...       284027   \n",
       "2     https://api.spotify.com/v1/audio-analysis/1H4Y...       204677   \n",
       "3     https://api.spotify.com/v1/audio-analysis/6Nm8...       222827   \n",
       "4     https://api.spotify.com/v1/audio-analysis/5anC...       305907   \n",
       "...                                                 ...          ...   \n",
       "2421  https://api.spotify.com/v1/audio-analysis/4VVE...       159320   \n",
       "2422  https://api.spotify.com/v1/audio-analysis/7hOL...       424653   \n",
       "2423  https://api.spotify.com/v1/audio-analysis/76i4...       249640   \n",
       "2424  https://api.spotify.com/v1/audio-analysis/53an...       256493   \n",
       "2425  https://api.spotify.com/v1/audio-analysis/0qFZ...       167640   \n",
       "\n",
       "      time_signature  \n",
       "0                  4  \n",
       "1                  4  \n",
       "2                  4  \n",
       "3                  4  \n",
       "4                  4  \n",
       "...              ...  \n",
       "2421               4  \n",
       "2422               4  \n",
       "2423               4  \n",
       "2424               4  \n",
       "2425               3  \n",
       "\n",
       "[2426 rows x 18 columns]"
      ]
     },
     "execution_count": 3,
     "metadata": {},
     "output_type": "execute_result"
    }
   ],
   "source": [
    "audio"
   ]
  },
  {
   "cell_type": "code",
   "execution_count": 4,
   "id": "210fef69",
   "metadata": {},
   "outputs": [],
   "source": [
    "\n",
    "# Create a list of columns to exclude\n",
    "exclude_columns = ['id','type', 'uri', 'track_href', 'analysis_url', 'duration_ms', 'time_signature']\n",
    "\n",
    "# Create a new dataframe \"audio_x\" by dropping the specified columns\n",
    "audio_x = audio.drop(columns=exclude_columns)"
   ]
  },
  {
   "cell_type": "code",
   "execution_count": 5,
   "id": "22f1c29e",
   "metadata": {},
   "outputs": [
    {
     "data": {
      "text/html": [
       "<div>\n",
       "<style scoped>\n",
       "    .dataframe tbody tr th:only-of-type {\n",
       "        vertical-align: middle;\n",
       "    }\n",
       "\n",
       "    .dataframe tbody tr th {\n",
       "        vertical-align: top;\n",
       "    }\n",
       "\n",
       "    .dataframe thead th {\n",
       "        text-align: right;\n",
       "    }\n",
       "</style>\n",
       "<table border=\"1\" class=\"dataframe\">\n",
       "  <thead>\n",
       "    <tr style=\"text-align: right;\">\n",
       "      <th></th>\n",
       "      <th>danceability</th>\n",
       "      <th>energy</th>\n",
       "      <th>key</th>\n",
       "      <th>loudness</th>\n",
       "      <th>mode</th>\n",
       "      <th>speechiness</th>\n",
       "      <th>acousticness</th>\n",
       "      <th>instrumentalness</th>\n",
       "      <th>liveness</th>\n",
       "      <th>valence</th>\n",
       "      <th>tempo</th>\n",
       "    </tr>\n",
       "  </thead>\n",
       "  <tbody>\n",
       "    <tr>\n",
       "      <th>0</th>\n",
       "      <td>0.4320</td>\n",
       "      <td>0.8840</td>\n",
       "      <td>8</td>\n",
       "      <td>-6.659</td>\n",
       "      <td>1</td>\n",
       "      <td>0.1300</td>\n",
       "      <td>0.012700</td>\n",
       "      <td>0.000527</td>\n",
       "      <td>0.1660</td>\n",
       "      <td>0.6240</td>\n",
       "      <td>108.948</td>\n",
       "    </tr>\n",
       "    <tr>\n",
       "      <th>1</th>\n",
       "      <td>0.4650</td>\n",
       "      <td>0.9770</td>\n",
       "      <td>7</td>\n",
       "      <td>-3.839</td>\n",
       "      <td>0</td>\n",
       "      <td>0.1750</td>\n",
       "      <td>0.001110</td>\n",
       "      <td>0.002980</td>\n",
       "      <td>0.2010</td>\n",
       "      <td>0.2330</td>\n",
       "      <td>89.535</td>\n",
       "    </tr>\n",
       "    <tr>\n",
       "      <th>2</th>\n",
       "      <td>0.4570</td>\n",
       "      <td>0.8340</td>\n",
       "      <td>5</td>\n",
       "      <td>-4.674</td>\n",
       "      <td>0</td>\n",
       "      <td>0.0817</td>\n",
       "      <td>0.002520</td>\n",
       "      <td>0.001250</td>\n",
       "      <td>0.1000</td>\n",
       "      <td>0.2010</td>\n",
       "      <td>140.032</td>\n",
       "    </tr>\n",
       "    <tr>\n",
       "      <th>3</th>\n",
       "      <td>0.5910</td>\n",
       "      <td>0.9630</td>\n",
       "      <td>0</td>\n",
       "      <td>-6.489</td>\n",
       "      <td>0</td>\n",
       "      <td>0.0531</td>\n",
       "      <td>0.000087</td>\n",
       "      <td>0.000107</td>\n",
       "      <td>0.0781</td>\n",
       "      <td>0.6090</td>\n",
       "      <td>125.030</td>\n",
       "    </tr>\n",
       "    <tr>\n",
       "      <th>4</th>\n",
       "      <td>0.5800</td>\n",
       "      <td>0.9160</td>\n",
       "      <td>3</td>\n",
       "      <td>-4.358</td>\n",
       "      <td>0</td>\n",
       "      <td>0.0387</td>\n",
       "      <td>0.000297</td>\n",
       "      <td>0.025900</td>\n",
       "      <td>0.1260</td>\n",
       "      <td>0.6830</td>\n",
       "      <td>118.004</td>\n",
       "    </tr>\n",
       "    <tr>\n",
       "      <th>...</th>\n",
       "      <td>...</td>\n",
       "      <td>...</td>\n",
       "      <td>...</td>\n",
       "      <td>...</td>\n",
       "      <td>...</td>\n",
       "      <td>...</td>\n",
       "      <td>...</td>\n",
       "      <td>...</td>\n",
       "      <td>...</td>\n",
       "      <td>...</td>\n",
       "      <td>...</td>\n",
       "    </tr>\n",
       "    <tr>\n",
       "      <th>2421</th>\n",
       "      <td>0.2400</td>\n",
       "      <td>0.0834</td>\n",
       "      <td>6</td>\n",
       "      <td>-29.545</td>\n",
       "      <td>0</td>\n",
       "      <td>0.0499</td>\n",
       "      <td>0.978000</td>\n",
       "      <td>0.944000</td>\n",
       "      <td>0.0804</td>\n",
       "      <td>0.1880</td>\n",
       "      <td>169.621</td>\n",
       "    </tr>\n",
       "    <tr>\n",
       "      <th>2422</th>\n",
       "      <td>0.4050</td>\n",
       "      <td>0.3180</td>\n",
       "      <td>9</td>\n",
       "      <td>-17.140</td>\n",
       "      <td>1</td>\n",
       "      <td>0.0565</td>\n",
       "      <td>0.938000</td>\n",
       "      <td>0.723000</td>\n",
       "      <td>0.2840</td>\n",
       "      <td>0.3420</td>\n",
       "      <td>151.434</td>\n",
       "    </tr>\n",
       "    <tr>\n",
       "      <th>2423</th>\n",
       "      <td>0.2910</td>\n",
       "      <td>0.0981</td>\n",
       "      <td>8</td>\n",
       "      <td>-23.156</td>\n",
       "      <td>1</td>\n",
       "      <td>0.0398</td>\n",
       "      <td>0.950000</td>\n",
       "      <td>0.865000</td>\n",
       "      <td>0.2750</td>\n",
       "      <td>0.1940</td>\n",
       "      <td>138.168</td>\n",
       "    </tr>\n",
       "    <tr>\n",
       "      <th>2424</th>\n",
       "      <td>0.0992</td>\n",
       "      <td>0.2260</td>\n",
       "      <td>9</td>\n",
       "      <td>-14.840</td>\n",
       "      <td>0</td>\n",
       "      <td>0.0339</td>\n",
       "      <td>0.937000</td>\n",
       "      <td>0.903000</td>\n",
       "      <td>0.1830</td>\n",
       "      <td>0.0605</td>\n",
       "      <td>79.518</td>\n",
       "    </tr>\n",
       "    <tr>\n",
       "      <th>2425</th>\n",
       "      <td>0.3390</td>\n",
       "      <td>0.0937</td>\n",
       "      <td>2</td>\n",
       "      <td>-20.267</td>\n",
       "      <td>1</td>\n",
       "      <td>0.0394</td>\n",
       "      <td>0.931000</td>\n",
       "      <td>0.293000</td>\n",
       "      <td>0.2520</td>\n",
       "      <td>0.4580</td>\n",
       "      <td>123.048</td>\n",
       "    </tr>\n",
       "  </tbody>\n",
       "</table>\n",
       "<p>2426 rows × 11 columns</p>\n",
       "</div>"
      ],
      "text/plain": [
       "      danceability  energy  key  loudness  mode  speechiness  acousticness  \\\n",
       "0           0.4320  0.8840    8    -6.659     1       0.1300      0.012700   \n",
       "1           0.4650  0.9770    7    -3.839     0       0.1750      0.001110   \n",
       "2           0.4570  0.8340    5    -4.674     0       0.0817      0.002520   \n",
       "3           0.5910  0.9630    0    -6.489     0       0.0531      0.000087   \n",
       "4           0.5800  0.9160    3    -4.358     0       0.0387      0.000297   \n",
       "...            ...     ...  ...       ...   ...          ...           ...   \n",
       "2421        0.2400  0.0834    6   -29.545     0       0.0499      0.978000   \n",
       "2422        0.4050  0.3180    9   -17.140     1       0.0565      0.938000   \n",
       "2423        0.2910  0.0981    8   -23.156     1       0.0398      0.950000   \n",
       "2424        0.0992  0.2260    9   -14.840     0       0.0339      0.937000   \n",
       "2425        0.3390  0.0937    2   -20.267     1       0.0394      0.931000   \n",
       "\n",
       "      instrumentalness  liveness  valence    tempo  \n",
       "0             0.000527    0.1660   0.6240  108.948  \n",
       "1             0.002980    0.2010   0.2330   89.535  \n",
       "2             0.001250    0.1000   0.2010  140.032  \n",
       "3             0.000107    0.0781   0.6090  125.030  \n",
       "4             0.025900    0.1260   0.6830  118.004  \n",
       "...                ...       ...      ...      ...  \n",
       "2421          0.944000    0.0804   0.1880  169.621  \n",
       "2422          0.723000    0.2840   0.3420  151.434  \n",
       "2423          0.865000    0.2750   0.1940  138.168  \n",
       "2424          0.903000    0.1830   0.0605   79.518  \n",
       "2425          0.293000    0.2520   0.4580  123.048  \n",
       "\n",
       "[2426 rows x 11 columns]"
      ]
     },
     "execution_count": 5,
     "metadata": {},
     "output_type": "execute_result"
    }
   ],
   "source": [
    "audio_x"
   ]
  },
  {
   "cell_type": "code",
   "execution_count": 6,
   "id": "34a52c9c",
   "metadata": {},
   "outputs": [],
   "source": [
    "X = audio_x"
   ]
  },
  {
   "cell_type": "code",
   "execution_count": 7,
   "id": "488e21ba",
   "metadata": {},
   "outputs": [],
   "source": [
    "#scaling"
   ]
  },
  {
   "cell_type": "code",
   "execution_count": 8,
   "id": "78befc5f",
   "metadata": {},
   "outputs": [
    {
     "data": {
      "text/html": [
       "<div>\n",
       "<style scoped>\n",
       "    .dataframe tbody tr th:only-of-type {\n",
       "        vertical-align: middle;\n",
       "    }\n",
       "\n",
       "    .dataframe tbody tr th {\n",
       "        vertical-align: top;\n",
       "    }\n",
       "\n",
       "    .dataframe thead th {\n",
       "        text-align: right;\n",
       "    }\n",
       "</style>\n",
       "<table border=\"1\" class=\"dataframe\">\n",
       "  <thead>\n",
       "    <tr style=\"text-align: right;\">\n",
       "      <th></th>\n",
       "      <th>danceability</th>\n",
       "      <th>energy</th>\n",
       "      <th>key</th>\n",
       "      <th>loudness</th>\n",
       "      <th>mode</th>\n",
       "      <th>speechiness</th>\n",
       "      <th>acousticness</th>\n",
       "      <th>instrumentalness</th>\n",
       "      <th>liveness</th>\n",
       "      <th>valence</th>\n",
       "      <th>tempo</th>\n",
       "    </tr>\n",
       "  </thead>\n",
       "  <tbody>\n",
       "    <tr>\n",
       "      <th>0</th>\n",
       "      <td>0.432</td>\n",
       "      <td>0.884</td>\n",
       "      <td>8</td>\n",
       "      <td>-6.659</td>\n",
       "      <td>1</td>\n",
       "      <td>0.1300</td>\n",
       "      <td>0.012700</td>\n",
       "      <td>0.000527</td>\n",
       "      <td>0.1660</td>\n",
       "      <td>0.624</td>\n",
       "      <td>108.948</td>\n",
       "    </tr>\n",
       "    <tr>\n",
       "      <th>1</th>\n",
       "      <td>0.465</td>\n",
       "      <td>0.977</td>\n",
       "      <td>7</td>\n",
       "      <td>-3.839</td>\n",
       "      <td>0</td>\n",
       "      <td>0.1750</td>\n",
       "      <td>0.001110</td>\n",
       "      <td>0.002980</td>\n",
       "      <td>0.2010</td>\n",
       "      <td>0.233</td>\n",
       "      <td>89.535</td>\n",
       "    </tr>\n",
       "    <tr>\n",
       "      <th>2</th>\n",
       "      <td>0.457</td>\n",
       "      <td>0.834</td>\n",
       "      <td>5</td>\n",
       "      <td>-4.674</td>\n",
       "      <td>0</td>\n",
       "      <td>0.0817</td>\n",
       "      <td>0.002520</td>\n",
       "      <td>0.001250</td>\n",
       "      <td>0.1000</td>\n",
       "      <td>0.201</td>\n",
       "      <td>140.032</td>\n",
       "    </tr>\n",
       "    <tr>\n",
       "      <th>3</th>\n",
       "      <td>0.591</td>\n",
       "      <td>0.963</td>\n",
       "      <td>0</td>\n",
       "      <td>-6.489</td>\n",
       "      <td>0</td>\n",
       "      <td>0.0531</td>\n",
       "      <td>0.000087</td>\n",
       "      <td>0.000107</td>\n",
       "      <td>0.0781</td>\n",
       "      <td>0.609</td>\n",
       "      <td>125.030</td>\n",
       "    </tr>\n",
       "    <tr>\n",
       "      <th>4</th>\n",
       "      <td>0.580</td>\n",
       "      <td>0.916</td>\n",
       "      <td>3</td>\n",
       "      <td>-4.358</td>\n",
       "      <td>0</td>\n",
       "      <td>0.0387</td>\n",
       "      <td>0.000297</td>\n",
       "      <td>0.025900</td>\n",
       "      <td>0.1260</td>\n",
       "      <td>0.683</td>\n",
       "      <td>118.004</td>\n",
       "    </tr>\n",
       "  </tbody>\n",
       "</table>\n",
       "</div>"
      ],
      "text/plain": [
       "   danceability  energy  key  loudness  mode  speechiness  acousticness  \\\n",
       "0         0.432   0.884    8    -6.659     1       0.1300      0.012700   \n",
       "1         0.465   0.977    7    -3.839     0       0.1750      0.001110   \n",
       "2         0.457   0.834    5    -4.674     0       0.0817      0.002520   \n",
       "3         0.591   0.963    0    -6.489     0       0.0531      0.000087   \n",
       "4         0.580   0.916    3    -4.358     0       0.0387      0.000297   \n",
       "\n",
       "   instrumentalness  liveness  valence    tempo  \n",
       "0          0.000527    0.1660    0.624  108.948  \n",
       "1          0.002980    0.2010    0.233   89.535  \n",
       "2          0.001250    0.1000    0.201  140.032  \n",
       "3          0.000107    0.0781    0.609  125.030  \n",
       "4          0.025900    0.1260    0.683  118.004  "
      ]
     },
     "metadata": {},
     "output_type": "display_data"
    },
    {
     "name": "stdout",
     "output_type": "stream",
     "text": [
      "\n"
     ]
    },
    {
     "data": {
      "text/html": [
       "<div>\n",
       "<style scoped>\n",
       "    .dataframe tbody tr th:only-of-type {\n",
       "        vertical-align: middle;\n",
       "    }\n",
       "\n",
       "    .dataframe tbody tr th {\n",
       "        vertical-align: top;\n",
       "    }\n",
       "\n",
       "    .dataframe thead th {\n",
       "        text-align: right;\n",
       "    }\n",
       "</style>\n",
       "<table border=\"1\" class=\"dataframe\">\n",
       "  <thead>\n",
       "    <tr style=\"text-align: right;\">\n",
       "      <th></th>\n",
       "      <th>danceability</th>\n",
       "      <th>energy</th>\n",
       "      <th>key</th>\n",
       "      <th>loudness</th>\n",
       "      <th>mode</th>\n",
       "      <th>speechiness</th>\n",
       "      <th>acousticness</th>\n",
       "      <th>instrumentalness</th>\n",
       "      <th>liveness</th>\n",
       "      <th>valence</th>\n",
       "      <th>tempo</th>\n",
       "    </tr>\n",
       "  </thead>\n",
       "  <tbody>\n",
       "    <tr>\n",
       "      <th>0</th>\n",
       "      <td>-0.845853</td>\n",
       "      <td>0.887198</td>\n",
       "      <td>0.757583</td>\n",
       "      <td>0.199730</td>\n",
       "      <td>0.629172</td>\n",
       "      <td>0.964929</td>\n",
       "      <td>-0.714573</td>\n",
       "      <td>-0.497398</td>\n",
       "      <td>-0.106703</td>\n",
       "      <td>0.662818</td>\n",
       "      <td>-0.441288</td>\n",
       "    </tr>\n",
       "    <tr>\n",
       "      <th>1</th>\n",
       "      <td>-0.641023</td>\n",
       "      <td>1.252031</td>\n",
       "      <td>0.470367</td>\n",
       "      <td>0.706534</td>\n",
       "      <td>-1.589391</td>\n",
       "      <td>1.649271</td>\n",
       "      <td>-0.750143</td>\n",
       "      <td>-0.489808</td>\n",
       "      <td>0.128960</td>\n",
       "      <td>-0.936261</td>\n",
       "      <td>-1.087999</td>\n",
       "    </tr>\n",
       "    <tr>\n",
       "      <th>2</th>\n",
       "      <td>-0.690679</td>\n",
       "      <td>0.691051</td>\n",
       "      <td>-0.104066</td>\n",
       "      <td>0.556469</td>\n",
       "      <td>-1.589391</td>\n",
       "      <td>0.230403</td>\n",
       "      <td>-0.745816</td>\n",
       "      <td>-0.495161</td>\n",
       "      <td>-0.551095</td>\n",
       "      <td>-1.067132</td>\n",
       "      <td>0.594223</td>\n",
       "    </tr>\n",
       "    <tr>\n",
       "      <th>3</th>\n",
       "      <td>0.141053</td>\n",
       "      <td>1.197110</td>\n",
       "      <td>-1.540146</td>\n",
       "      <td>0.230282</td>\n",
       "      <td>-1.589391</td>\n",
       "      <td>-0.204535</td>\n",
       "      <td>-0.753282</td>\n",
       "      <td>-0.498698</td>\n",
       "      <td>-0.698553</td>\n",
       "      <td>0.601472</td>\n",
       "      <td>0.094457</td>\n",
       "    </tr>\n",
       "    <tr>\n",
       "      <th>4</th>\n",
       "      <td>0.072776</td>\n",
       "      <td>1.012732</td>\n",
       "      <td>-0.678498</td>\n",
       "      <td>0.613260</td>\n",
       "      <td>-1.589391</td>\n",
       "      <td>-0.423524</td>\n",
       "      <td>-0.752639</td>\n",
       "      <td>-0.418887</td>\n",
       "      <td>-0.376031</td>\n",
       "      <td>0.904111</td>\n",
       "      <td>-0.139603</td>\n",
       "    </tr>\n",
       "  </tbody>\n",
       "</table>\n",
       "</div>"
      ],
      "text/plain": [
       "   danceability    energy       key  loudness      mode  speechiness  \\\n",
       "0     -0.845853  0.887198  0.757583  0.199730  0.629172     0.964929   \n",
       "1     -0.641023  1.252031  0.470367  0.706534 -1.589391     1.649271   \n",
       "2     -0.690679  0.691051 -0.104066  0.556469 -1.589391     0.230403   \n",
       "3      0.141053  1.197110 -1.540146  0.230282 -1.589391    -0.204535   \n",
       "4      0.072776  1.012732 -0.678498  0.613260 -1.589391    -0.423524   \n",
       "\n",
       "   acousticness  instrumentalness  liveness   valence     tempo  \n",
       "0     -0.714573         -0.497398 -0.106703  0.662818 -0.441288  \n",
       "1     -0.750143         -0.489808  0.128960 -0.936261 -1.087999  \n",
       "2     -0.745816         -0.495161 -0.551095 -1.067132  0.594223  \n",
       "3     -0.753282         -0.498698 -0.698553  0.601472  0.094457  \n",
       "4     -0.752639         -0.418887 -0.376031  0.904111 -0.139603  "
      ]
     },
     "metadata": {},
     "output_type": "display_data"
    }
   ],
   "source": [
    "scaler = StandardScaler()\n",
    "scaler.fit(X)\n",
    "X_scaled = scaler.transform(X)\n",
    "X_scaled_df = pd.DataFrame(X_scaled, columns = X.columns)\n",
    "display(X.head())\n",
    "print()\n",
    "display(X_scaled_df.head())"
   ]
  },
  {
   "cell_type": "code",
   "execution_count": 9,
   "id": "d0a1a2a5",
   "metadata": {},
   "outputs": [],
   "source": [
    "#choosing k"
   ]
  },
  {
   "cell_type": "code",
   "execution_count": 10,
   "id": "336e7e78",
   "metadata": {},
   "outputs": [
    {
     "name": "stderr",
     "output_type": "stream",
     "text": [
      "/Users/genevauy/anaconda3/lib/python3.10/site-packages/sklearn/cluster/_kmeans.py:870: FutureWarning: The default value of `n_init` will change from 10 to 'auto' in 1.4. Set the value of `n_init` explicitly to suppress the warning\n",
      "  warnings.warn(\n"
     ]
    },
    {
     "data": {
      "text/html": [
       "<style>#sk-container-id-1 {color: black;background-color: white;}#sk-container-id-1 pre{padding: 0;}#sk-container-id-1 div.sk-toggleable {background-color: white;}#sk-container-id-1 label.sk-toggleable__label {cursor: pointer;display: block;width: 100%;margin-bottom: 0;padding: 0.3em;box-sizing: border-box;text-align: center;}#sk-container-id-1 label.sk-toggleable__label-arrow:before {content: \"▸\";float: left;margin-right: 0.25em;color: #696969;}#sk-container-id-1 label.sk-toggleable__label-arrow:hover:before {color: black;}#sk-container-id-1 div.sk-estimator:hover label.sk-toggleable__label-arrow:before {color: black;}#sk-container-id-1 div.sk-toggleable__content {max-height: 0;max-width: 0;overflow: hidden;text-align: left;background-color: #f0f8ff;}#sk-container-id-1 div.sk-toggleable__content pre {margin: 0.2em;color: black;border-radius: 0.25em;background-color: #f0f8ff;}#sk-container-id-1 input.sk-toggleable__control:checked~div.sk-toggleable__content {max-height: 200px;max-width: 100%;overflow: auto;}#sk-container-id-1 input.sk-toggleable__control:checked~label.sk-toggleable__label-arrow:before {content: \"▾\";}#sk-container-id-1 div.sk-estimator input.sk-toggleable__control:checked~label.sk-toggleable__label {background-color: #d4ebff;}#sk-container-id-1 div.sk-label input.sk-toggleable__control:checked~label.sk-toggleable__label {background-color: #d4ebff;}#sk-container-id-1 input.sk-hidden--visually {border: 0;clip: rect(1px 1px 1px 1px);clip: rect(1px, 1px, 1px, 1px);height: 1px;margin: -1px;overflow: hidden;padding: 0;position: absolute;width: 1px;}#sk-container-id-1 div.sk-estimator {font-family: monospace;background-color: #f0f8ff;border: 1px dotted black;border-radius: 0.25em;box-sizing: border-box;margin-bottom: 0.5em;}#sk-container-id-1 div.sk-estimator:hover {background-color: #d4ebff;}#sk-container-id-1 div.sk-parallel-item::after {content: \"\";width: 100%;border-bottom: 1px solid gray;flex-grow: 1;}#sk-container-id-1 div.sk-label:hover label.sk-toggleable__label {background-color: #d4ebff;}#sk-container-id-1 div.sk-serial::before {content: \"\";position: absolute;border-left: 1px solid gray;box-sizing: border-box;top: 0;bottom: 0;left: 50%;z-index: 0;}#sk-container-id-1 div.sk-serial {display: flex;flex-direction: column;align-items: center;background-color: white;padding-right: 0.2em;padding-left: 0.2em;position: relative;}#sk-container-id-1 div.sk-item {position: relative;z-index: 1;}#sk-container-id-1 div.sk-parallel {display: flex;align-items: stretch;justify-content: center;background-color: white;position: relative;}#sk-container-id-1 div.sk-item::before, #sk-container-id-1 div.sk-parallel-item::before {content: \"\";position: absolute;border-left: 1px solid gray;box-sizing: border-box;top: 0;bottom: 0;left: 50%;z-index: -1;}#sk-container-id-1 div.sk-parallel-item {display: flex;flex-direction: column;z-index: 1;position: relative;background-color: white;}#sk-container-id-1 div.sk-parallel-item:first-child::after {align-self: flex-end;width: 50%;}#sk-container-id-1 div.sk-parallel-item:last-child::after {align-self: flex-start;width: 50%;}#sk-container-id-1 div.sk-parallel-item:only-child::after {width: 0;}#sk-container-id-1 div.sk-dashed-wrapped {border: 1px dashed gray;margin: 0 0.4em 0.5em 0.4em;box-sizing: border-box;padding-bottom: 0.4em;background-color: white;}#sk-container-id-1 div.sk-label label {font-family: monospace;font-weight: bold;display: inline-block;line-height: 1.2em;}#sk-container-id-1 div.sk-label-container {text-align: center;}#sk-container-id-1 div.sk-container {/* jupyter's `normalize.less` sets `[hidden] { display: none; }` but bootstrap.min.css set `[hidden] { display: none !important; }` so we also need the `!important` here to be able to override the default hidden behavior on the sphinx rendered scikit-learn.org. See: https://github.com/scikit-learn/scikit-learn/issues/21755 */display: inline-block !important;position: relative;}#sk-container-id-1 div.sk-text-repr-fallback {display: none;}</style><div id=\"sk-container-id-1\" class=\"sk-top-container\"><div class=\"sk-text-repr-fallback\"><pre>KMeans(n_clusters=4, random_state=1234)</pre><b>In a Jupyter environment, please rerun this cell to show the HTML representation or trust the notebook. <br />On GitHub, the HTML representation is unable to render, please try loading this page with nbviewer.org.</b></div><div class=\"sk-container\" hidden><div class=\"sk-item\"><div class=\"sk-estimator sk-toggleable\"><input class=\"sk-toggleable__control sk-hidden--visually\" id=\"sk-estimator-id-1\" type=\"checkbox\" checked><label for=\"sk-estimator-id-1\" class=\"sk-toggleable__label sk-toggleable__label-arrow\">KMeans</label><div class=\"sk-toggleable__content\"><pre>KMeans(n_clusters=4, random_state=1234)</pre></div></div></div></div></div>"
      ],
      "text/plain": [
       "KMeans(n_clusters=4, random_state=1234)"
      ]
     },
     "execution_count": 10,
     "metadata": {},
     "output_type": "execute_result"
    }
   ],
   "source": [
    "kmeans = KMeans(n_clusters=4, random_state=1234)\n",
    "kmeans.fit(X_scaled_df)"
   ]
  },
  {
   "cell_type": "code",
   "execution_count": 11,
   "id": "abac2ccb",
   "metadata": {},
   "outputs": [
    {
     "data": {
      "text/plain": [
       "array([1, 3, 3, ..., 2, 2, 2], dtype=int32)"
      ]
     },
     "execution_count": 11,
     "metadata": {},
     "output_type": "execute_result"
    }
   ],
   "source": [
    "labels = kmeans.labels_\n",
    "labels"
   ]
  },
  {
   "cell_type": "code",
   "execution_count": 12,
   "id": "dccd2c45",
   "metadata": {},
   "outputs": [
    {
     "data": {
      "text/plain": [
       "0    708\n",
       "1    800\n",
       "2    348\n",
       "3    570\n",
       "dtype: int64"
      ]
     },
     "execution_count": 12,
     "metadata": {},
     "output_type": "execute_result"
    }
   ],
   "source": [
    "clusters = kmeans.predict(X_scaled_df)\n",
    "#clusters\n",
    "pd.Series(clusters).value_counts().sort_index()"
   ]
  },
  {
   "cell_type": "code",
   "execution_count": 13,
   "id": "64262a59",
   "metadata": {},
   "outputs": [
    {
     "data": {
      "text/plain": [
       "array([1, 3, 3, ..., 2, 2, 2], dtype=int32)"
      ]
     },
     "execution_count": 13,
     "metadata": {},
     "output_type": "execute_result"
    }
   ],
   "source": [
    "clusters"
   ]
  },
  {
   "cell_type": "code",
   "execution_count": 14,
   "id": "03fe019b",
   "metadata": {},
   "outputs": [
    {
     "data": {
      "text/html": [
       "<div>\n",
       "<style scoped>\n",
       "    .dataframe tbody tr th:only-of-type {\n",
       "        vertical-align: middle;\n",
       "    }\n",
       "\n",
       "    .dataframe tbody tr th {\n",
       "        vertical-align: top;\n",
       "    }\n",
       "\n",
       "    .dataframe thead th {\n",
       "        text-align: right;\n",
       "    }\n",
       "</style>\n",
       "<table border=\"1\" class=\"dataframe\">\n",
       "  <thead>\n",
       "    <tr style=\"text-align: right;\">\n",
       "      <th></th>\n",
       "      <th>danceability</th>\n",
       "      <th>energy</th>\n",
       "      <th>key</th>\n",
       "      <th>loudness</th>\n",
       "      <th>mode</th>\n",
       "      <th>speechiness</th>\n",
       "      <th>acousticness</th>\n",
       "      <th>instrumentalness</th>\n",
       "      <th>liveness</th>\n",
       "      <th>valence</th>\n",
       "      <th>tempo</th>\n",
       "      <th>cluster</th>\n",
       "    </tr>\n",
       "  </thead>\n",
       "  <tbody>\n",
       "    <tr>\n",
       "      <th>0</th>\n",
       "      <td>0.4320</td>\n",
       "      <td>0.8840</td>\n",
       "      <td>8</td>\n",
       "      <td>-6.659</td>\n",
       "      <td>1</td>\n",
       "      <td>0.1300</td>\n",
       "      <td>0.012700</td>\n",
       "      <td>0.000527</td>\n",
       "      <td>0.1660</td>\n",
       "      <td>0.6240</td>\n",
       "      <td>108.948</td>\n",
       "      <td>1</td>\n",
       "    </tr>\n",
       "    <tr>\n",
       "      <th>1</th>\n",
       "      <td>0.4650</td>\n",
       "      <td>0.9770</td>\n",
       "      <td>7</td>\n",
       "      <td>-3.839</td>\n",
       "      <td>0</td>\n",
       "      <td>0.1750</td>\n",
       "      <td>0.001110</td>\n",
       "      <td>0.002980</td>\n",
       "      <td>0.2010</td>\n",
       "      <td>0.2330</td>\n",
       "      <td>89.535</td>\n",
       "      <td>3</td>\n",
       "    </tr>\n",
       "    <tr>\n",
       "      <th>2</th>\n",
       "      <td>0.4570</td>\n",
       "      <td>0.8340</td>\n",
       "      <td>5</td>\n",
       "      <td>-4.674</td>\n",
       "      <td>0</td>\n",
       "      <td>0.0817</td>\n",
       "      <td>0.002520</td>\n",
       "      <td>0.001250</td>\n",
       "      <td>0.1000</td>\n",
       "      <td>0.2010</td>\n",
       "      <td>140.032</td>\n",
       "      <td>3</td>\n",
       "    </tr>\n",
       "    <tr>\n",
       "      <th>3</th>\n",
       "      <td>0.5910</td>\n",
       "      <td>0.9630</td>\n",
       "      <td>0</td>\n",
       "      <td>-6.489</td>\n",
       "      <td>0</td>\n",
       "      <td>0.0531</td>\n",
       "      <td>0.000087</td>\n",
       "      <td>0.000107</td>\n",
       "      <td>0.0781</td>\n",
       "      <td>0.6090</td>\n",
       "      <td>125.030</td>\n",
       "      <td>3</td>\n",
       "    </tr>\n",
       "    <tr>\n",
       "      <th>4</th>\n",
       "      <td>0.5800</td>\n",
       "      <td>0.9160</td>\n",
       "      <td>3</td>\n",
       "      <td>-4.358</td>\n",
       "      <td>0</td>\n",
       "      <td>0.0387</td>\n",
       "      <td>0.000297</td>\n",
       "      <td>0.025900</td>\n",
       "      <td>0.1260</td>\n",
       "      <td>0.6830</td>\n",
       "      <td>118.004</td>\n",
       "      <td>3</td>\n",
       "    </tr>\n",
       "    <tr>\n",
       "      <th>...</th>\n",
       "      <td>...</td>\n",
       "      <td>...</td>\n",
       "      <td>...</td>\n",
       "      <td>...</td>\n",
       "      <td>...</td>\n",
       "      <td>...</td>\n",
       "      <td>...</td>\n",
       "      <td>...</td>\n",
       "      <td>...</td>\n",
       "      <td>...</td>\n",
       "      <td>...</td>\n",
       "      <td>...</td>\n",
       "    </tr>\n",
       "    <tr>\n",
       "      <th>2421</th>\n",
       "      <td>0.2400</td>\n",
       "      <td>0.0834</td>\n",
       "      <td>6</td>\n",
       "      <td>-29.545</td>\n",
       "      <td>0</td>\n",
       "      <td>0.0499</td>\n",
       "      <td>0.978000</td>\n",
       "      <td>0.944000</td>\n",
       "      <td>0.0804</td>\n",
       "      <td>0.1880</td>\n",
       "      <td>169.621</td>\n",
       "      <td>2</td>\n",
       "    </tr>\n",
       "    <tr>\n",
       "      <th>2422</th>\n",
       "      <td>0.4050</td>\n",
       "      <td>0.3180</td>\n",
       "      <td>9</td>\n",
       "      <td>-17.140</td>\n",
       "      <td>1</td>\n",
       "      <td>0.0565</td>\n",
       "      <td>0.938000</td>\n",
       "      <td>0.723000</td>\n",
       "      <td>0.2840</td>\n",
       "      <td>0.3420</td>\n",
       "      <td>151.434</td>\n",
       "      <td>2</td>\n",
       "    </tr>\n",
       "    <tr>\n",
       "      <th>2423</th>\n",
       "      <td>0.2910</td>\n",
       "      <td>0.0981</td>\n",
       "      <td>8</td>\n",
       "      <td>-23.156</td>\n",
       "      <td>1</td>\n",
       "      <td>0.0398</td>\n",
       "      <td>0.950000</td>\n",
       "      <td>0.865000</td>\n",
       "      <td>0.2750</td>\n",
       "      <td>0.1940</td>\n",
       "      <td>138.168</td>\n",
       "      <td>2</td>\n",
       "    </tr>\n",
       "    <tr>\n",
       "      <th>2424</th>\n",
       "      <td>0.0992</td>\n",
       "      <td>0.2260</td>\n",
       "      <td>9</td>\n",
       "      <td>-14.840</td>\n",
       "      <td>0</td>\n",
       "      <td>0.0339</td>\n",
       "      <td>0.937000</td>\n",
       "      <td>0.903000</td>\n",
       "      <td>0.1830</td>\n",
       "      <td>0.0605</td>\n",
       "      <td>79.518</td>\n",
       "      <td>2</td>\n",
       "    </tr>\n",
       "    <tr>\n",
       "      <th>2425</th>\n",
       "      <td>0.3390</td>\n",
       "      <td>0.0937</td>\n",
       "      <td>2</td>\n",
       "      <td>-20.267</td>\n",
       "      <td>1</td>\n",
       "      <td>0.0394</td>\n",
       "      <td>0.931000</td>\n",
       "      <td>0.293000</td>\n",
       "      <td>0.2520</td>\n",
       "      <td>0.4580</td>\n",
       "      <td>123.048</td>\n",
       "      <td>2</td>\n",
       "    </tr>\n",
       "  </tbody>\n",
       "</table>\n",
       "<p>2426 rows × 12 columns</p>\n",
       "</div>"
      ],
      "text/plain": [
       "      danceability  energy  key  loudness  mode  speechiness  acousticness  \\\n",
       "0           0.4320  0.8840    8    -6.659     1       0.1300      0.012700   \n",
       "1           0.4650  0.9770    7    -3.839     0       0.1750      0.001110   \n",
       "2           0.4570  0.8340    5    -4.674     0       0.0817      0.002520   \n",
       "3           0.5910  0.9630    0    -6.489     0       0.0531      0.000087   \n",
       "4           0.5800  0.9160    3    -4.358     0       0.0387      0.000297   \n",
       "...            ...     ...  ...       ...   ...          ...           ...   \n",
       "2421        0.2400  0.0834    6   -29.545     0       0.0499      0.978000   \n",
       "2422        0.4050  0.3180    9   -17.140     1       0.0565      0.938000   \n",
       "2423        0.2910  0.0981    8   -23.156     1       0.0398      0.950000   \n",
       "2424        0.0992  0.2260    9   -14.840     0       0.0339      0.937000   \n",
       "2425        0.3390  0.0937    2   -20.267     1       0.0394      0.931000   \n",
       "\n",
       "      instrumentalness  liveness  valence    tempo  cluster  \n",
       "0             0.000527    0.1660   0.6240  108.948        1  \n",
       "1             0.002980    0.2010   0.2330   89.535        3  \n",
       "2             0.001250    0.1000   0.2010  140.032        3  \n",
       "3             0.000107    0.0781   0.6090  125.030        3  \n",
       "4             0.025900    0.1260   0.6830  118.004        3  \n",
       "...                ...       ...      ...      ...      ...  \n",
       "2421          0.944000    0.0804   0.1880  169.621        2  \n",
       "2422          0.723000    0.2840   0.3420  151.434        2  \n",
       "2423          0.865000    0.2750   0.1940  138.168        2  \n",
       "2424          0.903000    0.1830   0.0605   79.518        2  \n",
       "2425          0.293000    0.2520   0.4580  123.048        2  \n",
       "\n",
       "[2426 rows x 12 columns]"
      ]
     },
     "execution_count": 14,
     "metadata": {},
     "output_type": "execute_result"
    }
   ],
   "source": [
    "X[\"cluster\"] = clusters\n",
    "X"
   ]
  },
  {
   "cell_type": "code",
   "execution_count": 15,
   "id": "d1c6995d",
   "metadata": {},
   "outputs": [
    {
     "data": {
      "text/plain": [
       "15712.234681020549"
      ]
     },
     "execution_count": 15,
     "metadata": {},
     "output_type": "execute_result"
    }
   ],
   "source": [
    "kmeans.inertia_"
   ]
  },
  {
   "cell_type": "code",
   "execution_count": 16,
   "id": "45bc18eb",
   "metadata": {},
   "outputs": [
    {
     "name": "stdout",
     "output_type": "stream",
     "text": [
      "12891.783954724579\n"
     ]
    }
   ],
   "source": [
    "kmeans2 = KMeans(n_clusters=7,\n",
    "                init=\"k-means++\",\n",
    "                n_init=50,  # try with 1, 4, 8, 20, 30, 100...\n",
    "                max_iter=1,\n",
    "                tol=0,\n",
    "                algorithm=\"elkan\",\n",
    "                random_state=1234)\n",
    "kmeans2.fit(X_scaled_df)\n",
    "print(kmeans2.inertia_)"
   ]
  },
  {
   "cell_type": "code",
   "execution_count": 17,
   "id": "a3008089",
   "metadata": {},
   "outputs": [],
   "source": [
    "#elbow"
   ]
  },
  {
   "cell_type": "code",
   "execution_count": 18,
   "id": "31d8b525",
   "metadata": {},
   "outputs": [
    {
     "name": "stdout",
     "output_type": "stream",
     "text": [
      "Training a K-Means model with 2 clusters! \n",
      "\n",
      "Training a K-Means model with 3 clusters! \n",
      "\n"
     ]
    },
    {
     "name": "stderr",
     "output_type": "stream",
     "text": [
      "/Users/genevauy/anaconda3/lib/python3.10/site-packages/sklearn/cluster/_kmeans.py:870: FutureWarning: The default value of `n_init` will change from 10 to 'auto' in 1.4. Set the value of `n_init` explicitly to suppress the warning\n",
      "  warnings.warn(\n",
      "/Users/genevauy/anaconda3/lib/python3.10/site-packages/sklearn/cluster/_kmeans.py:870: FutureWarning: The default value of `n_init` will change from 10 to 'auto' in 1.4. Set the value of `n_init` explicitly to suppress the warning\n",
      "  warnings.warn(\n"
     ]
    },
    {
     "name": "stdout",
     "output_type": "stream",
     "text": [
      "Training a K-Means model with 4 clusters! \n",
      "\n"
     ]
    },
    {
     "name": "stderr",
     "output_type": "stream",
     "text": [
      "/Users/genevauy/anaconda3/lib/python3.10/site-packages/sklearn/cluster/_kmeans.py:870: FutureWarning: The default value of `n_init` will change from 10 to 'auto' in 1.4. Set the value of `n_init` explicitly to suppress the warning\n",
      "  warnings.warn(\n"
     ]
    },
    {
     "name": "stdout",
     "output_type": "stream",
     "text": [
      "Training a K-Means model with 5 clusters! \n",
      "\n"
     ]
    },
    {
     "name": "stderr",
     "output_type": "stream",
     "text": [
      "/Users/genevauy/anaconda3/lib/python3.10/site-packages/sklearn/cluster/_kmeans.py:870: FutureWarning: The default value of `n_init` will change from 10 to 'auto' in 1.4. Set the value of `n_init` explicitly to suppress the warning\n",
      "  warnings.warn(\n"
     ]
    },
    {
     "name": "stdout",
     "output_type": "stream",
     "text": [
      "Training a K-Means model with 6 clusters! \n",
      "\n"
     ]
    },
    {
     "name": "stderr",
     "output_type": "stream",
     "text": [
      "/Users/genevauy/anaconda3/lib/python3.10/site-packages/sklearn/cluster/_kmeans.py:870: FutureWarning: The default value of `n_init` will change from 10 to 'auto' in 1.4. Set the value of `n_init` explicitly to suppress the warning\n",
      "  warnings.warn(\n"
     ]
    },
    {
     "name": "stdout",
     "output_type": "stream",
     "text": [
      "Training a K-Means model with 7 clusters! \n",
      "\n"
     ]
    },
    {
     "name": "stderr",
     "output_type": "stream",
     "text": [
      "/Users/genevauy/anaconda3/lib/python3.10/site-packages/sklearn/cluster/_kmeans.py:870: FutureWarning: The default value of `n_init` will change from 10 to 'auto' in 1.4. Set the value of `n_init` explicitly to suppress the warning\n",
      "  warnings.warn(\n"
     ]
    },
    {
     "name": "stdout",
     "output_type": "stream",
     "text": [
      "Training a K-Means model with 8 clusters! \n",
      "\n"
     ]
    },
    {
     "name": "stderr",
     "output_type": "stream",
     "text": [
      "/Users/genevauy/anaconda3/lib/python3.10/site-packages/sklearn/cluster/_kmeans.py:870: FutureWarning: The default value of `n_init` will change from 10 to 'auto' in 1.4. Set the value of `n_init` explicitly to suppress the warning\n",
      "  warnings.warn(\n"
     ]
    },
    {
     "name": "stdout",
     "output_type": "stream",
     "text": [
      "Training a K-Means model with 9 clusters! \n",
      "\n"
     ]
    },
    {
     "name": "stderr",
     "output_type": "stream",
     "text": [
      "/Users/genevauy/anaconda3/lib/python3.10/site-packages/sklearn/cluster/_kmeans.py:870: FutureWarning: The default value of `n_init` will change from 10 to 'auto' in 1.4. Set the value of `n_init` explicitly to suppress the warning\n",
      "  warnings.warn(\n"
     ]
    },
    {
     "name": "stdout",
     "output_type": "stream",
     "text": [
      "Training a K-Means model with 10 clusters! \n",
      "\n"
     ]
    },
    {
     "name": "stderr",
     "output_type": "stream",
     "text": [
      "/Users/genevauy/anaconda3/lib/python3.10/site-packages/sklearn/cluster/_kmeans.py:870: FutureWarning: The default value of `n_init` will change from 10 to 'auto' in 1.4. Set the value of `n_init` explicitly to suppress the warning\n",
      "  warnings.warn(\n"
     ]
    },
    {
     "name": "stdout",
     "output_type": "stream",
     "text": [
      "Training a K-Means model with 11 clusters! \n",
      "\n"
     ]
    },
    {
     "name": "stderr",
     "output_type": "stream",
     "text": [
      "/Users/genevauy/anaconda3/lib/python3.10/site-packages/sklearn/cluster/_kmeans.py:870: FutureWarning: The default value of `n_init` will change from 10 to 'auto' in 1.4. Set the value of `n_init` explicitly to suppress the warning\n",
      "  warnings.warn(\n"
     ]
    },
    {
     "name": "stdout",
     "output_type": "stream",
     "text": [
      "Training a K-Means model with 12 clusters! \n",
      "\n"
     ]
    },
    {
     "name": "stderr",
     "output_type": "stream",
     "text": [
      "/Users/genevauy/anaconda3/lib/python3.10/site-packages/sklearn/cluster/_kmeans.py:870: FutureWarning: The default value of `n_init` will change from 10 to 'auto' in 1.4. Set the value of `n_init` explicitly to suppress the warning\n",
      "  warnings.warn(\n"
     ]
    },
    {
     "name": "stdout",
     "output_type": "stream",
     "text": [
      "Training a K-Means model with 13 clusters! \n",
      "\n"
     ]
    },
    {
     "name": "stderr",
     "output_type": "stream",
     "text": [
      "/Users/genevauy/anaconda3/lib/python3.10/site-packages/sklearn/cluster/_kmeans.py:870: FutureWarning: The default value of `n_init` will change from 10 to 'auto' in 1.4. Set the value of `n_init` explicitly to suppress the warning\n",
      "  warnings.warn(\n"
     ]
    },
    {
     "name": "stdout",
     "output_type": "stream",
     "text": [
      "Training a K-Means model with 14 clusters! \n",
      "\n"
     ]
    },
    {
     "name": "stderr",
     "output_type": "stream",
     "text": [
      "/Users/genevauy/anaconda3/lib/python3.10/site-packages/sklearn/cluster/_kmeans.py:870: FutureWarning: The default value of `n_init` will change from 10 to 'auto' in 1.4. Set the value of `n_init` explicitly to suppress the warning\n",
      "  warnings.warn(\n"
     ]
    },
    {
     "name": "stdout",
     "output_type": "stream",
     "text": [
      "Training a K-Means model with 15 clusters! \n",
      "\n"
     ]
    },
    {
     "name": "stderr",
     "output_type": "stream",
     "text": [
      "/Users/genevauy/anaconda3/lib/python3.10/site-packages/sklearn/cluster/_kmeans.py:870: FutureWarning: The default value of `n_init` will change from 10 to 'auto' in 1.4. Set the value of `n_init` explicitly to suppress the warning\n",
      "  warnings.warn(\n"
     ]
    },
    {
     "name": "stdout",
     "output_type": "stream",
     "text": [
      "Training a K-Means model with 16 clusters! \n",
      "\n"
     ]
    },
    {
     "name": "stderr",
     "output_type": "stream",
     "text": [
      "/Users/genevauy/anaconda3/lib/python3.10/site-packages/sklearn/cluster/_kmeans.py:870: FutureWarning: The default value of `n_init` will change from 10 to 'auto' in 1.4. Set the value of `n_init` explicitly to suppress the warning\n",
      "  warnings.warn(\n"
     ]
    },
    {
     "name": "stdout",
     "output_type": "stream",
     "text": [
      "Training a K-Means model with 17 clusters! \n",
      "\n"
     ]
    },
    {
     "name": "stderr",
     "output_type": "stream",
     "text": [
      "/Users/genevauy/anaconda3/lib/python3.10/site-packages/sklearn/cluster/_kmeans.py:870: FutureWarning: The default value of `n_init` will change from 10 to 'auto' in 1.4. Set the value of `n_init` explicitly to suppress the warning\n",
      "  warnings.warn(\n"
     ]
    },
    {
     "name": "stdout",
     "output_type": "stream",
     "text": [
      "Training a K-Means model with 18 clusters! \n",
      "\n"
     ]
    },
    {
     "name": "stderr",
     "output_type": "stream",
     "text": [
      "/Users/genevauy/anaconda3/lib/python3.10/site-packages/sklearn/cluster/_kmeans.py:870: FutureWarning: The default value of `n_init` will change from 10 to 'auto' in 1.4. Set the value of `n_init` explicitly to suppress the warning\n",
      "  warnings.warn(\n"
     ]
    },
    {
     "name": "stdout",
     "output_type": "stream",
     "text": [
      "Training a K-Means model with 19 clusters! \n",
      "\n"
     ]
    },
    {
     "name": "stderr",
     "output_type": "stream",
     "text": [
      "/Users/genevauy/anaconda3/lib/python3.10/site-packages/sklearn/cluster/_kmeans.py:870: FutureWarning: The default value of `n_init` will change from 10 to 'auto' in 1.4. Set the value of `n_init` explicitly to suppress the warning\n",
      "  warnings.warn(\n"
     ]
    },
    {
     "name": "stdout",
     "output_type": "stream",
     "text": [
      "Training a K-Means model with 20 clusters! \n",
      "\n"
     ]
    },
    {
     "name": "stderr",
     "output_type": "stream",
     "text": [
      "/Users/genevauy/anaconda3/lib/python3.10/site-packages/sklearn/cluster/_kmeans.py:870: FutureWarning: The default value of `n_init` will change from 10 to 'auto' in 1.4. Set the value of `n_init` explicitly to suppress the warning\n",
      "  warnings.warn(\n"
     ]
    },
    {
     "data": {
      "text/plain": [
       "Text(0.5, 1.0, 'Elbow Method showing the optimal k')"
      ]
     },
     "execution_count": 18,
     "metadata": {},
     "output_type": "execute_result"
    },
    {
     "data": {
      "image/png": "[encoded data removed]",
      "text/plain": [
       "<Figure size 1600x800 with 1 Axes>"
      ]
     },
     "metadata": {},
     "output_type": "display_data"
    }
   ],
   "source": [
    "K = range(2, 21)\n",
    "inertia = []\n",
    "\n",
    "for k in K:\n",
    "    print(\"Training a K-Means model with {} clusters! \".format(k))\n",
    "    print()\n",
    "    kmeans = KMeans(n_clusters=k,\n",
    "                    random_state=1234)\n",
    "    kmeans.fit(X_scaled_df)\n",
    "    inertia.append(kmeans.inertia_)\n",
    "\n",
    "import numpy as np\n",
    "import matplotlib.pyplot as plt\n",
    "%matplotlib inline\n",
    "\n",
    "plt.figure(figsize=(16,8))\n",
    "plt.plot(K, inertia, 'bx-')\n",
    "plt.xlabel('k')\n",
    "plt.ylabel('inertia')\n",
    "plt.xticks(np.arange(min(K), max(K)+1, 1.0))\n",
    "plt.title('Elbow Method showing the optimal k')"
   ]
  },
  {
   "cell_type": "code",
   "execution_count": 19,
   "id": "1dcaf898",
   "metadata": {},
   "outputs": [],
   "source": [
    "#silhouette"
   ]
  },
  {
   "cell_type": "code",
   "execution_count": 20,
   "id": "398a7fa2",
   "metadata": {},
   "outputs": [
    {
     "name": "stdout",
     "output_type": "stream",
     "text": [
      "Calculating silhouette score for K-Means model with 2 clusters! \n",
      "\n"
     ]
    },
    {
     "name": "stderr",
     "output_type": "stream",
     "text": [
      "/Users/genevauy/anaconda3/lib/python3.10/site-packages/sklearn/cluster/_kmeans.py:870: FutureWarning: The default value of `n_init` will change from 10 to 'auto' in 1.4. Set the value of `n_init` explicitly to suppress the warning\n",
      "  warnings.warn(\n"
     ]
    },
    {
     "name": "stdout",
     "output_type": "stream",
     "text": [
      "Calculating silhouette score for K-Means model with 3 clusters! \n",
      "\n"
     ]
    },
    {
     "name": "stderr",
     "output_type": "stream",
     "text": [
      "/Users/genevauy/anaconda3/lib/python3.10/site-packages/sklearn/cluster/_kmeans.py:870: FutureWarning: The default value of `n_init` will change from 10 to 'auto' in 1.4. Set the value of `n_init` explicitly to suppress the warning\n",
      "  warnings.warn(\n"
     ]
    },
    {
     "name": "stdout",
     "output_type": "stream",
     "text": [
      "Calculating silhouette score for K-Means model with 4 clusters! \n",
      "\n"
     ]
    },
    {
     "name": "stderr",
     "output_type": "stream",
     "text": [
      "/Users/genevauy/anaconda3/lib/python3.10/site-packages/sklearn/cluster/_kmeans.py:870: FutureWarning: The default value of `n_init` will change from 10 to 'auto' in 1.4. Set the value of `n_init` explicitly to suppress the warning\n",
      "  warnings.warn(\n"
     ]
    },
    {
     "name": "stdout",
     "output_type": "stream",
     "text": [
      "Calculating silhouette score for K-Means model with 5 clusters! \n",
      "\n"
     ]
    },
    {
     "name": "stderr",
     "output_type": "stream",
     "text": [
      "/Users/genevauy/anaconda3/lib/python3.10/site-packages/sklearn/cluster/_kmeans.py:870: FutureWarning: The default value of `n_init` will change from 10 to 'auto' in 1.4. Set the value of `n_init` explicitly to suppress the warning\n",
      "  warnings.warn(\n"
     ]
    },
    {
     "name": "stdout",
     "output_type": "stream",
     "text": [
      "Calculating silhouette score for K-Means model with 6 clusters! \n",
      "\n"
     ]
    },
    {
     "name": "stderr",
     "output_type": "stream",
     "text": [
      "/Users/genevauy/anaconda3/lib/python3.10/site-packages/sklearn/cluster/_kmeans.py:870: FutureWarning: The default value of `n_init` will change from 10 to 'auto' in 1.4. Set the value of `n_init` explicitly to suppress the warning\n",
      "  warnings.warn(\n"
     ]
    },
    {
     "name": "stdout",
     "output_type": "stream",
     "text": [
      "Calculating silhouette score for K-Means model with 7 clusters! \n",
      "\n"
     ]
    },
    {
     "name": "stderr",
     "output_type": "stream",
     "text": [
      "/Users/genevauy/anaconda3/lib/python3.10/site-packages/sklearn/cluster/_kmeans.py:870: FutureWarning: The default value of `n_init` will change from 10 to 'auto' in 1.4. Set the value of `n_init` explicitly to suppress the warning\n",
      "  warnings.warn(\n"
     ]
    },
    {
     "name": "stdout",
     "output_type": "stream",
     "text": [
      "Calculating silhouette score for K-Means model with 8 clusters! \n",
      "\n"
     ]
    },
    {
     "name": "stderr",
     "output_type": "stream",
     "text": [
      "/Users/genevauy/anaconda3/lib/python3.10/site-packages/sklearn/cluster/_kmeans.py:870: FutureWarning: The default value of `n_init` will change from 10 to 'auto' in 1.4. Set the value of `n_init` explicitly to suppress the warning\n",
      "  warnings.warn(\n"
     ]
    },
    {
     "name": "stdout",
     "output_type": "stream",
     "text": [
      "Calculating silhouette score for K-Means model with 9 clusters! \n",
      "\n"
     ]
    },
    {
     "name": "stderr",
     "output_type": "stream",
     "text": [
      "/Users/genevauy/anaconda3/lib/python3.10/site-packages/sklearn/cluster/_kmeans.py:870: FutureWarning: The default value of `n_init` will change from 10 to 'auto' in 1.4. Set the value of `n_init` explicitly to suppress the warning\n",
      "  warnings.warn(\n"
     ]
    },
    {
     "name": "stdout",
     "output_type": "stream",
     "text": [
      "Calculating silhouette score for K-Means model with 10 clusters! \n",
      "\n"
     ]
    },
    {
     "name": "stderr",
     "output_type": "stream",
     "text": [
      "/Users/genevauy/anaconda3/lib/python3.10/site-packages/sklearn/cluster/_kmeans.py:870: FutureWarning: The default value of `n_init` will change from 10 to 'auto' in 1.4. Set the value of `n_init` explicitly to suppress the warning\n",
      "  warnings.warn(\n"
     ]
    },
    {
     "name": "stdout",
     "output_type": "stream",
     "text": [
      "Calculating silhouette score for K-Means model with 11 clusters! \n",
      "\n"
     ]
    },
    {
     "name": "stderr",
     "output_type": "stream",
     "text": [
      "/Users/genevauy/anaconda3/lib/python3.10/site-packages/sklearn/cluster/_kmeans.py:870: FutureWarning: The default value of `n_init` will change from 10 to 'auto' in 1.4. Set the value of `n_init` explicitly to suppress the warning\n",
      "  warnings.warn(\n"
     ]
    },
    {
     "name": "stdout",
     "output_type": "stream",
     "text": [
      "Calculating silhouette score for K-Means model with 12 clusters! \n",
      "\n"
     ]
    },
    {
     "name": "stderr",
     "output_type": "stream",
     "text": [
      "/Users/genevauy/anaconda3/lib/python3.10/site-packages/sklearn/cluster/_kmeans.py:870: FutureWarning: The default value of `n_init` will change from 10 to 'auto' in 1.4. Set the value of `n_init` explicitly to suppress the warning\n",
      "  warnings.warn(\n"
     ]
    },
    {
     "name": "stdout",
     "output_type": "stream",
     "text": [
      "Calculating silhouette score for K-Means model with 13 clusters! \n",
      "\n"
     ]
    },
    {
     "name": "stderr",
     "output_type": "stream",
     "text": [
      "/Users/genevauy/anaconda3/lib/python3.10/site-packages/sklearn/cluster/_kmeans.py:870: FutureWarning: The default value of `n_init` will change from 10 to 'auto' in 1.4. Set the value of `n_init` explicitly to suppress the warning\n",
      "  warnings.warn(\n"
     ]
    },
    {
     "name": "stdout",
     "output_type": "stream",
     "text": [
      "Calculating silhouette score for K-Means model with 14 clusters! \n",
      "\n"
     ]
    },
    {
     "name": "stderr",
     "output_type": "stream",
     "text": [
      "/Users/genevauy/anaconda3/lib/python3.10/site-packages/sklearn/cluster/_kmeans.py:870: FutureWarning: The default value of `n_init` will change from 10 to 'auto' in 1.4. Set the value of `n_init` explicitly to suppress the warning\n",
      "  warnings.warn(\n"
     ]
    },
    {
     "name": "stdout",
     "output_type": "stream",
     "text": [
      "Calculating silhouette score for K-Means model with 15 clusters! \n",
      "\n"
     ]
    },
    {
     "name": "stderr",
     "output_type": "stream",
     "text": [
      "/Users/genevauy/anaconda3/lib/python3.10/site-packages/sklearn/cluster/_kmeans.py:870: FutureWarning: The default value of `n_init` will change from 10 to 'auto' in 1.4. Set the value of `n_init` explicitly to suppress the warning\n",
      "  warnings.warn(\n"
     ]
    },
    {
     "name": "stdout",
     "output_type": "stream",
     "text": [
      "Calculating silhouette score for K-Means model with 16 clusters! \n",
      "\n"
     ]
    },
    {
     "name": "stderr",
     "output_type": "stream",
     "text": [
      "/Users/genevauy/anaconda3/lib/python3.10/site-packages/sklearn/cluster/_kmeans.py:870: FutureWarning: The default value of `n_init` will change from 10 to 'auto' in 1.4. Set the value of `n_init` explicitly to suppress the warning\n",
      "  warnings.warn(\n"
     ]
    },
    {
     "name": "stdout",
     "output_type": "stream",
     "text": [
      "Calculating silhouette score for K-Means model with 17 clusters! \n",
      "\n"
     ]
    },
    {
     "name": "stderr",
     "output_type": "stream",
     "text": [
      "/Users/genevauy/anaconda3/lib/python3.10/site-packages/sklearn/cluster/_kmeans.py:870: FutureWarning: The default value of `n_init` will change from 10 to 'auto' in 1.4. Set the value of `n_init` explicitly to suppress the warning\n",
      "  warnings.warn(\n"
     ]
    },
    {
     "name": "stdout",
     "output_type": "stream",
     "text": [
      "Calculating silhouette score for K-Means model with 18 clusters! \n",
      "\n"
     ]
    },
    {
     "name": "stderr",
     "output_type": "stream",
     "text": [
      "/Users/genevauy/anaconda3/lib/python3.10/site-packages/sklearn/cluster/_kmeans.py:870: FutureWarning: The default value of `n_init` will change from 10 to 'auto' in 1.4. Set the value of `n_init` explicitly to suppress the warning\n",
      "  warnings.warn(\n"
     ]
    },
    {
     "name": "stdout",
     "output_type": "stream",
     "text": [
      "Calculating silhouette score for K-Means model with 19 clusters! \n",
      "\n"
     ]
    },
    {
     "name": "stderr",
     "output_type": "stream",
     "text": [
      "/Users/genevauy/anaconda3/lib/python3.10/site-packages/sklearn/cluster/_kmeans.py:870: FutureWarning: The default value of `n_init` will change from 10 to 'auto' in 1.4. Set the value of `n_init` explicitly to suppress the warning\n",
      "  warnings.warn(\n"
     ]
    },
    {
     "name": "stdout",
     "output_type": "stream",
     "text": [
      "Calculating silhouette score for K-Means model with 20 clusters! \n",
      "\n"
     ]
    },
    {
     "name": "stderr",
     "output_type": "stream",
     "text": [
      "/Users/genevauy/anaconda3/lib/python3.10/site-packages/sklearn/cluster/_kmeans.py:870: FutureWarning: The default value of `n_init` will change from 10 to 'auto' in 1.4. Set the value of `n_init` explicitly to suppress the warning\n",
      "  warnings.warn(\n"
     ]
    },
    {
     "data": {
      "image/png": "[encoded data removed]",
      "text/plain": [
       "<Figure size 1600x800 with 1 Axes>"
      ]
     },
     "metadata": {},
     "output_type": "display_data"
    }
   ],
   "source": [
    "from sklearn.metrics import silhouette_score\n",
    "\n",
    "silhouette_scores = []\n",
    "\n",
    "for k in K:\n",
    "    print(\"Calculating silhouette score for K-Means model with {} clusters! \".format(k))\n",
    "    print()\n",
    "    kmeans = KMeans(n_clusters=k, random_state=1234)\n",
    "    kmeans.fit(X_scaled_df)\n",
    "    labels = kmeans.labels_\n",
    "    silhouette_scores.append(silhouette_score(X_scaled_df, labels))\n",
    "\n",
    "plt.figure(figsize=(16,8))\n",
    "plt.plot(K, silhouette_scores, 'bx-')\n",
    "plt.xlabel('k')\n",
    "plt.ylabel('Silhouette Score')\n",
    "plt.xticks(np.arange(min(K), max(K)+1, 1.0))\n",
    "plt.title('Silhouette Score for different values of k')\n",
    "plt.show()\n"
   ]
  },
  {
   "cell_type": "code",
   "execution_count": 21,
   "id": "f8cf8d92",
   "metadata": {},
   "outputs": [
    {
     "data": {
      "text/html": [
       "<div>\n",
       "<style scoped>\n",
       "    .dataframe tbody tr th:only-of-type {\n",
       "        vertical-align: middle;\n",
       "    }\n",
       "\n",
       "    .dataframe tbody tr th {\n",
       "        vertical-align: top;\n",
       "    }\n",
       "\n",
       "    .dataframe thead th {\n",
       "        text-align: right;\n",
       "    }\n",
       "</style>\n",
       "<table border=\"1\" class=\"dataframe\">\n",
       "  <thead>\n",
       "    <tr style=\"text-align: right;\">\n",
       "      <th></th>\n",
       "      <th>danceability</th>\n",
       "      <th>energy</th>\n",
       "      <th>key</th>\n",
       "      <th>loudness</th>\n",
       "      <th>mode</th>\n",
       "      <th>speechiness</th>\n",
       "      <th>acousticness</th>\n",
       "      <th>instrumentalness</th>\n",
       "      <th>liveness</th>\n",
       "      <th>valence</th>\n",
       "      <th>tempo</th>\n",
       "      <th>cluster</th>\n",
       "    </tr>\n",
       "  </thead>\n",
       "  <tbody>\n",
       "    <tr>\n",
       "      <th>0</th>\n",
       "      <td>0.4320</td>\n",
       "      <td>0.8840</td>\n",
       "      <td>8</td>\n",
       "      <td>-6.659</td>\n",
       "      <td>1</td>\n",
       "      <td>0.1300</td>\n",
       "      <td>0.012700</td>\n",
       "      <td>0.000527</td>\n",
       "      <td>0.1660</td>\n",
       "      <td>0.6240</td>\n",
       "      <td>108.948</td>\n",
       "      <td>1</td>\n",
       "    </tr>\n",
       "    <tr>\n",
       "      <th>1</th>\n",
       "      <td>0.4650</td>\n",
       "      <td>0.9770</td>\n",
       "      <td>7</td>\n",
       "      <td>-3.839</td>\n",
       "      <td>0</td>\n",
       "      <td>0.1750</td>\n",
       "      <td>0.001110</td>\n",
       "      <td>0.002980</td>\n",
       "      <td>0.2010</td>\n",
       "      <td>0.2330</td>\n",
       "      <td>89.535</td>\n",
       "      <td>3</td>\n",
       "    </tr>\n",
       "    <tr>\n",
       "      <th>2</th>\n",
       "      <td>0.4570</td>\n",
       "      <td>0.8340</td>\n",
       "      <td>5</td>\n",
       "      <td>-4.674</td>\n",
       "      <td>0</td>\n",
       "      <td>0.0817</td>\n",
       "      <td>0.002520</td>\n",
       "      <td>0.001250</td>\n",
       "      <td>0.1000</td>\n",
       "      <td>0.2010</td>\n",
       "      <td>140.032</td>\n",
       "      <td>3</td>\n",
       "    </tr>\n",
       "    <tr>\n",
       "      <th>3</th>\n",
       "      <td>0.5910</td>\n",
       "      <td>0.9630</td>\n",
       "      <td>0</td>\n",
       "      <td>-6.489</td>\n",
       "      <td>0</td>\n",
       "      <td>0.0531</td>\n",
       "      <td>0.000087</td>\n",
       "      <td>0.000107</td>\n",
       "      <td>0.0781</td>\n",
       "      <td>0.6090</td>\n",
       "      <td>125.030</td>\n",
       "      <td>3</td>\n",
       "    </tr>\n",
       "    <tr>\n",
       "      <th>4</th>\n",
       "      <td>0.5800</td>\n",
       "      <td>0.9160</td>\n",
       "      <td>3</td>\n",
       "      <td>-4.358</td>\n",
       "      <td>0</td>\n",
       "      <td>0.0387</td>\n",
       "      <td>0.000297</td>\n",
       "      <td>0.025900</td>\n",
       "      <td>0.1260</td>\n",
       "      <td>0.6830</td>\n",
       "      <td>118.004</td>\n",
       "      <td>3</td>\n",
       "    </tr>\n",
       "    <tr>\n",
       "      <th>...</th>\n",
       "      <td>...</td>\n",
       "      <td>...</td>\n",
       "      <td>...</td>\n",
       "      <td>...</td>\n",
       "      <td>...</td>\n",
       "      <td>...</td>\n",
       "      <td>...</td>\n",
       "      <td>...</td>\n",
       "      <td>...</td>\n",
       "      <td>...</td>\n",
       "      <td>...</td>\n",
       "      <td>...</td>\n",
       "    </tr>\n",
       "    <tr>\n",
       "      <th>2421</th>\n",
       "      <td>0.2400</td>\n",
       "      <td>0.0834</td>\n",
       "      <td>6</td>\n",
       "      <td>-29.545</td>\n",
       "      <td>0</td>\n",
       "      <td>0.0499</td>\n",
       "      <td>0.978000</td>\n",
       "      <td>0.944000</td>\n",
       "      <td>0.0804</td>\n",
       "      <td>0.1880</td>\n",
       "      <td>169.621</td>\n",
       "      <td>2</td>\n",
       "    </tr>\n",
       "    <tr>\n",
       "      <th>2422</th>\n",
       "      <td>0.4050</td>\n",
       "      <td>0.3180</td>\n",
       "      <td>9</td>\n",
       "      <td>-17.140</td>\n",
       "      <td>1</td>\n",
       "      <td>0.0565</td>\n",
       "      <td>0.938000</td>\n",
       "      <td>0.723000</td>\n",
       "      <td>0.2840</td>\n",
       "      <td>0.3420</td>\n",
       "      <td>151.434</td>\n",
       "      <td>2</td>\n",
       "    </tr>\n",
       "    <tr>\n",
       "      <th>2423</th>\n",
       "      <td>0.2910</td>\n",
       "      <td>0.0981</td>\n",
       "      <td>8</td>\n",
       "      <td>-23.156</td>\n",
       "      <td>1</td>\n",
       "      <td>0.0398</td>\n",
       "      <td>0.950000</td>\n",
       "      <td>0.865000</td>\n",
       "      <td>0.2750</td>\n",
       "      <td>0.1940</td>\n",
       "      <td>138.168</td>\n",
       "      <td>2</td>\n",
       "    </tr>\n",
       "    <tr>\n",
       "      <th>2424</th>\n",
       "      <td>0.0992</td>\n",
       "      <td>0.2260</td>\n",
       "      <td>9</td>\n",
       "      <td>-14.840</td>\n",
       "      <td>0</td>\n",
       "      <td>0.0339</td>\n",
       "      <td>0.937000</td>\n",
       "      <td>0.903000</td>\n",
       "      <td>0.1830</td>\n",
       "      <td>0.0605</td>\n",
       "      <td>79.518</td>\n",
       "      <td>2</td>\n",
       "    </tr>\n",
       "    <tr>\n",
       "      <th>2425</th>\n",
       "      <td>0.3390</td>\n",
       "      <td>0.0937</td>\n",
       "      <td>2</td>\n",
       "      <td>-20.267</td>\n",
       "      <td>1</td>\n",
       "      <td>0.0394</td>\n",
       "      <td>0.931000</td>\n",
       "      <td>0.293000</td>\n",
       "      <td>0.2520</td>\n",
       "      <td>0.4580</td>\n",
       "      <td>123.048</td>\n",
       "      <td>2</td>\n",
       "    </tr>\n",
       "  </tbody>\n",
       "</table>\n",
       "<p>2426 rows × 12 columns</p>\n",
       "</div>"
      ],
      "text/plain": [
       "      danceability  energy  key  loudness  mode  speechiness  acousticness  \\\n",
       "0           0.4320  0.8840    8    -6.659     1       0.1300      0.012700   \n",
       "1           0.4650  0.9770    7    -3.839     0       0.1750      0.001110   \n",
       "2           0.4570  0.8340    5    -4.674     0       0.0817      0.002520   \n",
       "3           0.5910  0.9630    0    -6.489     0       0.0531      0.000087   \n",
       "4           0.5800  0.9160    3    -4.358     0       0.0387      0.000297   \n",
       "...            ...     ...  ...       ...   ...          ...           ...   \n",
       "2421        0.2400  0.0834    6   -29.545     0       0.0499      0.978000   \n",
       "2422        0.4050  0.3180    9   -17.140     1       0.0565      0.938000   \n",
       "2423        0.2910  0.0981    8   -23.156     1       0.0398      0.950000   \n",
       "2424        0.0992  0.2260    9   -14.840     0       0.0339      0.937000   \n",
       "2425        0.3390  0.0937    2   -20.267     1       0.0394      0.931000   \n",
       "\n",
       "      instrumentalness  liveness  valence    tempo  cluster  \n",
       "0             0.000527    0.1660   0.6240  108.948        1  \n",
       "1             0.002980    0.2010   0.2330   89.535        3  \n",
       "2             0.001250    0.1000   0.2010  140.032        3  \n",
       "3             0.000107    0.0781   0.6090  125.030        3  \n",
       "4             0.025900    0.1260   0.6830  118.004        3  \n",
       "...                ...       ...      ...      ...      ...  \n",
       "2421          0.944000    0.0804   0.1880  169.621        2  \n",
       "2422          0.723000    0.2840   0.3420  151.434        2  \n",
       "2423          0.865000    0.2750   0.1940  138.168        2  \n",
       "2424          0.903000    0.1830   0.0605   79.518        2  \n",
       "2425          0.293000    0.2520   0.4580  123.048        2  \n",
       "\n",
       "[2426 rows x 12 columns]"
      ]
     },
     "execution_count": 21,
     "metadata": {},
     "output_type": "execute_result"
    }
   ],
   "source": [
    "X"
   ]
  },
  {
   "cell_type": "code",
   "execution_count": 22,
   "id": "fc90a59c",
   "metadata": {},
   "outputs": [],
   "source": [
    "audios = pd.concat([X, audio['id']], axis=1)"
   ]
  },
  {
   "cell_type": "code",
   "execution_count": 23,
   "id": "2776595b",
   "metadata": {},
   "outputs": [
    {
     "data": {
      "text/html": [
       "<div>\n",
       "<style scoped>\n",
       "    .dataframe tbody tr th:only-of-type {\n",
       "        vertical-align: middle;\n",
       "    }\n",
       "\n",
       "    .dataframe tbody tr th {\n",
       "        vertical-align: top;\n",
       "    }\n",
       "\n",
       "    .dataframe thead th {\n",
       "        text-align: right;\n",
       "    }\n",
       "</style>\n",
       "<table border=\"1\" class=\"dataframe\">\n",
       "  <thead>\n",
       "    <tr style=\"text-align: right;\">\n",
       "      <th></th>\n",
       "      <th>danceability</th>\n",
       "      <th>energy</th>\n",
       "      <th>key</th>\n",
       "      <th>loudness</th>\n",
       "      <th>mode</th>\n",
       "      <th>speechiness</th>\n",
       "      <th>acousticness</th>\n",
       "      <th>instrumentalness</th>\n",
       "      <th>liveness</th>\n",
       "      <th>valence</th>\n",
       "      <th>tempo</th>\n",
       "      <th>cluster</th>\n",
       "      <th>id</th>\n",
       "    </tr>\n",
       "  </thead>\n",
       "  <tbody>\n",
       "    <tr>\n",
       "      <th>0</th>\n",
       "      <td>0.4320</td>\n",
       "      <td>0.8840</td>\n",
       "      <td>8</td>\n",
       "      <td>-6.659</td>\n",
       "      <td>1</td>\n",
       "      <td>0.1300</td>\n",
       "      <td>0.012700</td>\n",
       "      <td>0.000527</td>\n",
       "      <td>0.1660</td>\n",
       "      <td>0.6240</td>\n",
       "      <td>108.948</td>\n",
       "      <td>1</td>\n",
       "      <td>5cZqsjVs6MevCnAkasbEOX</td>\n",
       "    </tr>\n",
       "    <tr>\n",
       "      <th>1</th>\n",
       "      <td>0.4650</td>\n",
       "      <td>0.9770</td>\n",
       "      <td>7</td>\n",
       "      <td>-3.839</td>\n",
       "      <td>0</td>\n",
       "      <td>0.1750</td>\n",
       "      <td>0.001110</td>\n",
       "      <td>0.002980</td>\n",
       "      <td>0.2010</td>\n",
       "      <td>0.2330</td>\n",
       "      <td>89.535</td>\n",
       "      <td>3</td>\n",
       "      <td>6imjJij6aCM0IbbODUzJQn</td>\n",
       "    </tr>\n",
       "    <tr>\n",
       "      <th>2</th>\n",
       "      <td>0.4570</td>\n",
       "      <td>0.8340</td>\n",
       "      <td>5</td>\n",
       "      <td>-4.674</td>\n",
       "      <td>0</td>\n",
       "      <td>0.0817</td>\n",
       "      <td>0.002520</td>\n",
       "      <td>0.001250</td>\n",
       "      <td>0.1000</td>\n",
       "      <td>0.2010</td>\n",
       "      <td>140.032</td>\n",
       "      <td>3</td>\n",
       "      <td>1H4Y9uW4N0LsxJUz0VnaPJ</td>\n",
       "    </tr>\n",
       "    <tr>\n",
       "      <th>3</th>\n",
       "      <td>0.5910</td>\n",
       "      <td>0.9630</td>\n",
       "      <td>0</td>\n",
       "      <td>-6.489</td>\n",
       "      <td>0</td>\n",
       "      <td>0.0531</td>\n",
       "      <td>0.000087</td>\n",
       "      <td>0.000107</td>\n",
       "      <td>0.0781</td>\n",
       "      <td>0.6090</td>\n",
       "      <td>125.030</td>\n",
       "      <td>3</td>\n",
       "      <td>6Nm8h73ycDG2saCnZV8poF</td>\n",
       "    </tr>\n",
       "    <tr>\n",
       "      <th>4</th>\n",
       "      <td>0.5800</td>\n",
       "      <td>0.9160</td>\n",
       "      <td>3</td>\n",
       "      <td>-4.358</td>\n",
       "      <td>0</td>\n",
       "      <td>0.0387</td>\n",
       "      <td>0.000297</td>\n",
       "      <td>0.025900</td>\n",
       "      <td>0.1260</td>\n",
       "      <td>0.6830</td>\n",
       "      <td>118.004</td>\n",
       "      <td>3</td>\n",
       "      <td>5anCkDvJ17aznvK5TED5uo</td>\n",
       "    </tr>\n",
       "    <tr>\n",
       "      <th>...</th>\n",
       "      <td>...</td>\n",
       "      <td>...</td>\n",
       "      <td>...</td>\n",
       "      <td>...</td>\n",
       "      <td>...</td>\n",
       "      <td>...</td>\n",
       "      <td>...</td>\n",
       "      <td>...</td>\n",
       "      <td>...</td>\n",
       "      <td>...</td>\n",
       "      <td>...</td>\n",
       "      <td>...</td>\n",
       "      <td>...</td>\n",
       "    </tr>\n",
       "    <tr>\n",
       "      <th>2421</th>\n",
       "      <td>0.2400</td>\n",
       "      <td>0.0834</td>\n",
       "      <td>6</td>\n",
       "      <td>-29.545</td>\n",
       "      <td>0</td>\n",
       "      <td>0.0499</td>\n",
       "      <td>0.978000</td>\n",
       "      <td>0.944000</td>\n",
       "      <td>0.0804</td>\n",
       "      <td>0.1880</td>\n",
       "      <td>169.621</td>\n",
       "      <td>2</td>\n",
       "      <td>4VVEfBXep7FdOt524jkfLF</td>\n",
       "    </tr>\n",
       "    <tr>\n",
       "      <th>2422</th>\n",
       "      <td>0.4050</td>\n",
       "      <td>0.3180</td>\n",
       "      <td>9</td>\n",
       "      <td>-17.140</td>\n",
       "      <td>1</td>\n",
       "      <td>0.0565</td>\n",
       "      <td>0.938000</td>\n",
       "      <td>0.723000</td>\n",
       "      <td>0.2840</td>\n",
       "      <td>0.3420</td>\n",
       "      <td>151.434</td>\n",
       "      <td>2</td>\n",
       "      <td>7hOLwSaTSkrqxSMzj4bXI1</td>\n",
       "    </tr>\n",
       "    <tr>\n",
       "      <th>2423</th>\n",
       "      <td>0.2910</td>\n",
       "      <td>0.0981</td>\n",
       "      <td>8</td>\n",
       "      <td>-23.156</td>\n",
       "      <td>1</td>\n",
       "      <td>0.0398</td>\n",
       "      <td>0.950000</td>\n",
       "      <td>0.865000</td>\n",
       "      <td>0.2750</td>\n",
       "      <td>0.1940</td>\n",
       "      <td>138.168</td>\n",
       "      <td>2</td>\n",
       "      <td>76i4IBw3KsuDw783tvHB0e</td>\n",
       "    </tr>\n",
       "    <tr>\n",
       "      <th>2424</th>\n",
       "      <td>0.0992</td>\n",
       "      <td>0.2260</td>\n",
       "      <td>9</td>\n",
       "      <td>-14.840</td>\n",
       "      <td>0</td>\n",
       "      <td>0.0339</td>\n",
       "      <td>0.937000</td>\n",
       "      <td>0.903000</td>\n",
       "      <td>0.1830</td>\n",
       "      <td>0.0605</td>\n",
       "      <td>79.518</td>\n",
       "      <td>2</td>\n",
       "      <td>53ann6bENp7BF8uklrzQAp</td>\n",
       "    </tr>\n",
       "    <tr>\n",
       "      <th>2425</th>\n",
       "      <td>0.3390</td>\n",
       "      <td>0.0937</td>\n",
       "      <td>2</td>\n",
       "      <td>-20.267</td>\n",
       "      <td>1</td>\n",
       "      <td>0.0394</td>\n",
       "      <td>0.931000</td>\n",
       "      <td>0.293000</td>\n",
       "      <td>0.2520</td>\n",
       "      <td>0.4580</td>\n",
       "      <td>123.048</td>\n",
       "      <td>2</td>\n",
       "      <td>0qFZYO72iBOhW7X6KbL44Q</td>\n",
       "    </tr>\n",
       "  </tbody>\n",
       "</table>\n",
       "<p>2426 rows × 13 columns</p>\n",
       "</div>"
      ],
      "text/plain": [
       "      danceability  energy  key  loudness  mode  speechiness  acousticness  \\\n",
       "0           0.4320  0.8840    8    -6.659     1       0.1300      0.012700   \n",
       "1           0.4650  0.9770    7    -3.839     0       0.1750      0.001110   \n",
       "2           0.4570  0.8340    5    -4.674     0       0.0817      0.002520   \n",
       "3           0.5910  0.9630    0    -6.489     0       0.0531      0.000087   \n",
       "4           0.5800  0.9160    3    -4.358     0       0.0387      0.000297   \n",
       "...            ...     ...  ...       ...   ...          ...           ...   \n",
       "2421        0.2400  0.0834    6   -29.545     0       0.0499      0.978000   \n",
       "2422        0.4050  0.3180    9   -17.140     1       0.0565      0.938000   \n",
       "2423        0.2910  0.0981    8   -23.156     1       0.0398      0.950000   \n",
       "2424        0.0992  0.2260    9   -14.840     0       0.0339      0.937000   \n",
       "2425        0.3390  0.0937    2   -20.267     1       0.0394      0.931000   \n",
       "\n",
       "      instrumentalness  liveness  valence    tempo  cluster  \\\n",
       "0             0.000527    0.1660   0.6240  108.948        1   \n",
       "1             0.002980    0.2010   0.2330   89.535        3   \n",
       "2             0.001250    0.1000   0.2010  140.032        3   \n",
       "3             0.000107    0.0781   0.6090  125.030        3   \n",
       "4             0.025900    0.1260   0.6830  118.004        3   \n",
       "...                ...       ...      ...      ...      ...   \n",
       "2421          0.944000    0.0804   0.1880  169.621        2   \n",
       "2422          0.723000    0.2840   0.3420  151.434        2   \n",
       "2423          0.865000    0.2750   0.1940  138.168        2   \n",
       "2424          0.903000    0.1830   0.0605   79.518        2   \n",
       "2425          0.293000    0.2520   0.4580  123.048        2   \n",
       "\n",
       "                          id  \n",
       "0     5cZqsjVs6MevCnAkasbEOX  \n",
       "1     6imjJij6aCM0IbbODUzJQn  \n",
       "2     1H4Y9uW4N0LsxJUz0VnaPJ  \n",
       "3     6Nm8h73ycDG2saCnZV8poF  \n",
       "4     5anCkDvJ17aznvK5TED5uo  \n",
       "...                      ...  \n",
       "2421  4VVEfBXep7FdOt524jkfLF  \n",
       "2422  7hOLwSaTSkrqxSMzj4bXI1  \n",
       "2423  76i4IBw3KsuDw783tvHB0e  \n",
       "2424  53ann6bENp7BF8uklrzQAp  \n",
       "2425  0qFZYO72iBOhW7X6KbL44Q  \n",
       "\n",
       "[2426 rows x 13 columns]"
      ]
     },
     "execution_count": 23,
     "metadata": {},
     "output_type": "execute_result"
    }
   ],
   "source": [
    "audios"
   ]
  },
  {
   "cell_type": "code",
   "execution_count": 57,
   "id": "8f4fe4ec",
   "metadata": {},
   "outputs": [],
   "source": [
    "#USER INPUT"
   ]
  },
  {
   "cell_type": "code",
   "execution_count": 58,
   "id": "50370a51",
   "metadata": {},
   "outputs": [],
   "source": [
    "from IPython.display import IFrame\n",
    "\n",
    "def play_song(track_id):\n",
    "    return IFrame(src=\"https://open.spotify.com/embed/track/\"+track_id,\n",
    "       width=\"320\",\n",
    "       height=\"80\",\n",
    "       frameborder=\"0\",\n",
    "       allowtransparency=\"true\",\n",
    "       allow=\"encrypted-media\",\n",
    "      )"
   ]
  },
  {
   "cell_type": "code",
   "execution_count": 65,
   "id": "412c92c6",
   "metadata": {},
   "outputs": [
    {
     "name": "stdout",
     "output_type": "stream",
     "text": [
      "Please, enter the song title: sonata\n"
     ]
    },
    {
     "data": {
      "text/html": [
       "\n",
       "        <iframe\n",
       "            width=\"320\"\n",
       "            height=\"80\"\n",
       "            src=\"https://open.spotify.com/embed/track/3DNRdudZ2SstnDCVKFdXxG?frameborder=0&allowtransparency=true&allow=encrypted-media\"\n",
       "            frameborder=\"0\"\n",
       "            allowfullscreen\n",
       "            \n",
       "        ></iframe>\n",
       "        "
      ],
      "text/plain": [
       "<IPython.lib.display.IFrame at 0x105fb6f20>"
      ]
     },
     "metadata": {},
     "output_type": "display_data"
    },
    {
     "name": "stdout",
     "output_type": "stream",
     "text": [
      "Is this your song? (yes/no): yes\n",
      "\n",
      "User Song Features:\n",
      "   danceability   energy  key  loudness  mode  speechiness  acousticness  \\\n",
      "0         0.184  0.00527    1   -37.264     0       0.0432         0.995   \n",
      "\n",
      "   instrumentalness  liveness  valence    tempo            type  \\\n",
      "0             0.887     0.173    0.151  170.612  audio_features   \n",
      "\n",
      "                       id                                   uri  \\\n",
      "0  3DNRdudZ2SstnDCVKFdXxG  spotify:track:3DNRdudZ2SstnDCVKFdXxG   \n",
      "\n",
      "                                          track_href  \\\n",
      "0  https://api.spotify.com/v1/tracks/3DNRdudZ2Sst...   \n",
      "\n",
      "                                        analysis_url  duration_ms  \\\n",
      "0  https://api.spotify.com/v1/audio-analysis/3DNR...       315427   \n",
      "\n",
      "   time_signature  \n",
      "0               3  \n"
     ]
    }
   ],
   "source": [
    "song_input = input(\"Please, enter the song title: \")\n",
    "user_input = sp.search(q= song_input, type='track', limit=1)\n",
    "song_id = user_input [\"tracks\"][\"items\"][0][\"id\"]\n",
    "song_id\n",
    "display(play_song(song_id))\n",
    "verified = input(\"Is this your song? (yes/no): \")\n",
    "if verified.lower() == \"yes\":\n",
    "    # Collect song features\n",
    "    song_features = sp.audio_features([song_id])[0]\n",
    "    # Create a DataFrame with the song features\n",
    "    user_song = pd.DataFrame(song_features, index=[0])\n",
    "    # Print the user_song DataFrame\n",
    "    print(\"\\nUser Song Features:\")\n",
    "    print(user_song)"
   ]
  },
  {
   "cell_type": "code",
   "execution_count": 66,
   "id": "3767f3c1",
   "metadata": {
    "scrolled": false
   },
   "outputs": [
    {
     "data": {
      "text/html": [
       "<div>\n",
       "<style scoped>\n",
       "    .dataframe tbody tr th:only-of-type {\n",
       "        vertical-align: middle;\n",
       "    }\n",
       "\n",
       "    .dataframe tbody tr th {\n",
       "        vertical-align: top;\n",
       "    }\n",
       "\n",
       "    .dataframe thead th {\n",
       "        text-align: right;\n",
       "    }\n",
       "</style>\n",
       "<table border=\"1\" class=\"dataframe\">\n",
       "  <thead>\n",
       "    <tr style=\"text-align: right;\">\n",
       "      <th></th>\n",
       "      <th>danceability</th>\n",
       "      <th>energy</th>\n",
       "      <th>key</th>\n",
       "      <th>loudness</th>\n",
       "      <th>mode</th>\n",
       "      <th>speechiness</th>\n",
       "      <th>acousticness</th>\n",
       "      <th>instrumentalness</th>\n",
       "      <th>liveness</th>\n",
       "      <th>valence</th>\n",
       "      <th>tempo</th>\n",
       "    </tr>\n",
       "  </thead>\n",
       "  <tbody>\n",
       "    <tr>\n",
       "      <th>0</th>\n",
       "      <td>0.184</td>\n",
       "      <td>0.00527</td>\n",
       "      <td>1</td>\n",
       "      <td>-37.264</td>\n",
       "      <td>0</td>\n",
       "      <td>0.0432</td>\n",
       "      <td>0.995</td>\n",
       "      <td>0.887</td>\n",
       "      <td>0.173</td>\n",
       "      <td>0.151</td>\n",
       "      <td>170.612</td>\n",
       "    </tr>\n",
       "  </tbody>\n",
       "</table>\n",
       "</div>"
      ],
      "text/plain": [
       "   danceability   energy  key  loudness  mode  speechiness  acousticness  \\\n",
       "0         0.184  0.00527    1   -37.264     0       0.0432         0.995   \n",
       "\n",
       "   instrumentalness  liveness  valence    tempo  \n",
       "0             0.887     0.173    0.151  170.612  "
      ]
     },
     "execution_count": 66,
     "metadata": {},
     "output_type": "execute_result"
    }
   ],
   "source": [
    "exclude = ['type', 'id','uri', 'track_href', 'analysis_url', 'duration_ms', 'time_signature']\n",
    "\n",
    "user=pd.DataFrame([song_features]).drop(columns=exclude)\n",
    "user"
   ]
  },
  {
   "cell_type": "code",
   "execution_count": 67,
   "id": "8b92662d",
   "metadata": {},
   "outputs": [
    {
     "name": "stdout",
     "output_type": "stream",
     "text": [
      "\n",
      "Scaled User Song Features:\n"
     ]
    },
    {
     "data": {
      "text/html": [
       "<div>\n",
       "<style scoped>\n",
       "    .dataframe tbody tr th:only-of-type {\n",
       "        vertical-align: middle;\n",
       "    }\n",
       "\n",
       "    .dataframe tbody tr th {\n",
       "        vertical-align: top;\n",
       "    }\n",
       "\n",
       "    .dataframe thead th {\n",
       "        text-align: right;\n",
       "    }\n",
       "</style>\n",
       "<table border=\"1\" class=\"dataframe\">\n",
       "  <thead>\n",
       "    <tr style=\"text-align: right;\">\n",
       "      <th></th>\n",
       "      <th>danceability</th>\n",
       "      <th>energy</th>\n",
       "      <th>key</th>\n",
       "      <th>loudness</th>\n",
       "      <th>mode</th>\n",
       "      <th>speechiness</th>\n",
       "      <th>acousticness</th>\n",
       "      <th>instrumentalness</th>\n",
       "      <th>liveness</th>\n",
       "      <th>valence</th>\n",
       "      <th>tempo</th>\n",
       "    </tr>\n",
       "  </thead>\n",
       "  <tbody>\n",
       "    <tr>\n",
       "      <th>0</th>\n",
       "      <td>-2.385177</td>\n",
       "      <td>-2.560003</td>\n",
       "      <td>-1.25293</td>\n",
       "      <td>-5.30053</td>\n",
       "      <td>-1.589391</td>\n",
       "      <td>-0.35509</td>\n",
       "      <td>2.300132</td>\n",
       "      <td>2.2456</td>\n",
       "      <td>-0.05957</td>\n",
       "      <td>-1.271617</td>\n",
       "      <td>1.612944</td>\n",
       "    </tr>\n",
       "  </tbody>\n",
       "</table>\n",
       "</div>"
      ],
      "text/plain": [
       "   danceability    energy      key  loudness      mode  speechiness  \\\n",
       "0     -2.385177 -2.560003 -1.25293  -5.30053 -1.589391     -0.35509   \n",
       "\n",
       "   acousticness  instrumentalness  liveness   valence     tempo  \n",
       "0      2.300132            2.2456  -0.05957 -1.271617  1.612944  "
      ]
     },
     "execution_count": 67,
     "metadata": {},
     "output_type": "execute_result"
    }
   ],
   "source": [
    "user_scaled = scaler.transform(user)\n",
    "user_scaled_df = pd.DataFrame(user_scaled, columns=user.columns)\n",
    "\n",
    "# Display the scaled user DataFrame\n",
    "print(\"\\nScaled User Song Features:\")\n",
    "user_scaled_df"
   ]
  },
  {
   "cell_type": "code",
   "execution_count": 68,
   "id": "b893554b",
   "metadata": {
    "scrolled": true
   },
   "outputs": [
    {
     "data": {
      "text/html": [
       "\n",
       "        <iframe\n",
       "            width=\"320\"\n",
       "            height=\"80\"\n",
       "            src=\"https://open.spotify.com/embed/track/70HxNVlYQ0Hi6XqBtPLw80?frameborder=0&allowtransparency=true&allow=encrypted-media\"\n",
       "            frameborder=\"0\"\n",
       "            allowfullscreen\n",
       "            \n",
       "        ></iframe>\n",
       "        "
      ],
      "text/plain": [
       "<IPython.lib.display.IFrame at 0x16a97b820>"
      ]
     },
     "metadata": {},
     "output_type": "display_data"
    }
   ],
   "source": [
    "# Apply KMeans prediction to user_scaled_df\n",
    "user_cluster = kmeans2.predict(user_scaled_df)\n",
    "\n",
    "# Filter recommended songs based on predicted cluster\n",
    "recommended_songs = audios[audios['cluster'] == user_cluster[0]]\n",
    "\n",
    "# Select a random song from recommended songs\n",
    "recommended_song = recommended_songs.sample(n=1, random_state=1234)\n",
    "\n",
    "# Retrieve track_id of recommended song\n",
    "recommended_track_id = recommended_song['id'].values[0]\n",
    "\n",
    "# Display the recommended song\n",
    "display(play_song(recommended_track_id))\n"
   ]
  },
  {
   "cell_type": "code",
   "execution_count": 64,
   "id": "f788692e",
   "metadata": {},
   "outputs": [
    {
     "data": {
      "text/plain": [
       "array([0, 1, 2, 3, 4, 5, 6], dtype=int32)"
      ]
     },
     "execution_count": 64,
     "metadata": {},
     "output_type": "execute_result"
    }
   ],
   "source": [
    "np.unique(kmeans2.labels_)"
   ]
  },
  {
   "cell_type": "code",
   "execution_count": null,
   "id": "a2bfd20a",
   "metadata": {},
   "outputs": [],
   "source": []
  }
 ],
 "metadata": {
  "kernelspec": {
   "display_name": "Python 3 (ipykernel)",
   "language": "python",
   "name": "python3"
  },
  "language_info": {
   "codemirror_mode": {
    "name": "ipython",
    "version": 3
   },
   "file_extension": ".py",
   "mimetype": "text/x-python",
   "name": "python",
   "nbconvert_exporter": "python",
   "pygments_lexer": "ipython3",
   "version": "3.10.9"
  }
 },
 "nbformat": 4,
 "nbformat_minor": 5
}
