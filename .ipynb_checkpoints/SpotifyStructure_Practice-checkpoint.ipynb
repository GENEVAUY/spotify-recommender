{
 "cells": [
  {
   "cell_type": "markdown",
   "metadata": {
    "id": "-M3QFIFrKdPt"
   },
   "source": [
    "# Installing Spotipy"
   ]
  },
  {
   "cell_type": "markdown",
   "metadata": {
    "id": "o2ooSokHKfsd"
   },
   "source": [
    "In order to use the Spotify API (SpotiPy) we will have to create an account in Spotify and follow these steps. Once we have done it we will start initializing the API and look at the search method for which we can introduce a \"query\" q, in this example we will try it with Lady Gaga:"
   ]
  },
  {
   "cell_type": "code",
   "execution_count": 1,
   "metadata": {
    "colab": {
     "base_uri": "https://localhost:8080/"
    },
    "executionInfo": {
     "elapsed": 5245,
     "status": "ok",
     "timestamp": 1623745902730,
     "user": {
      "displayName": "Ignacio Soteras",
      "photoUrl": "",
      "userId": "02050793736257155229"
     },
     "user_tz": -120
    },
    "id": "tis_6tTpKY1Z",
    "outputId": "adfb4763-04d9-4b55-b0d8-c5e317263072"
   },
   "outputs": [],
   "source": [
    "##!conda install -c conda-forge spotipy"
   ]
  },
  {
   "cell_type": "markdown",
   "metadata": {
    "id": "fnhh4ayEOKz4"
   },
   "source": [
    "## Loading credentials from another config file"
   ]
  },
  {
   "cell_type": "code",
   "execution_count": 2,
   "metadata": {
    "ExecuteTime": {
     "end_time": "2022-11-23T08:53:19.773334Z",
     "start_time": "2022-11-23T08:53:19.511876Z"
    },
    "colab": {
     "base_uri": "https://localhost:8080/"
    },
    "executionInfo": {
     "elapsed": 23559,
     "status": "ok",
     "timestamp": 1623745938174,
     "user": {
      "displayName": "Ignacio Soteras",
      "photoUrl": "",
      "userId": "02050793736257155229"
     },
     "user_tz": -120
    },
    "id": "5j1kqPOoN_I5",
    "outputId": "23c4b5dd-b94b-425d-e2b9-e5647cb055df"
   },
   "outputs": [],
   "source": [
    "import config"
   ]
  },
  {
   "cell_type": "markdown",
   "metadata": {
    "id": "0fpGWmsCOSx0"
   },
   "source": [
    "## Starting with Spotify API"
   ]
  },
  {
   "cell_type": "code",
   "execution_count": 4,
   "metadata": {},
   "outputs": [
    {
     "data": {
      "text/plain": [
       "{'markets': ['AD',\n",
       "  'AE',\n",
       "  'AG',\n",
       "  'AL',\n",
       "  'AM',\n",
       "  'AO',\n",
       "  'AR',\n",
       "  'AT',\n",
       "  'AU',\n",
       "  'AZ',\n",
       "  'BA',\n",
       "  'BB',\n",
       "  'BD',\n",
       "  'BE',\n",
       "  'BF',\n",
       "  'BG',\n",
       "  'BH',\n",
       "  'BI',\n",
       "  'BJ',\n",
       "  'BN',\n",
       "  'BO',\n",
       "  'BR',\n",
       "  'BS',\n",
       "  'BT',\n",
       "  'BW',\n",
       "  'BY',\n",
       "  'BZ',\n",
       "  'CA',\n",
       "  'CD',\n",
       "  'CG',\n",
       "  'CH',\n",
       "  'CI',\n",
       "  'CL',\n",
       "  'CM',\n",
       "  'CO',\n",
       "  'CR',\n",
       "  'CV',\n",
       "  'CW',\n",
       "  'CY',\n",
       "  'CZ',\n",
       "  'DE',\n",
       "  'DJ',\n",
       "  'DK',\n",
       "  'DM',\n",
       "  'DO',\n",
       "  'DZ',\n",
       "  'EC',\n",
       "  'EE',\n",
       "  'EG',\n",
       "  'ES',\n",
       "  'ET',\n",
       "  'FI',\n",
       "  'FJ',\n",
       "  'FM',\n",
       "  'FR',\n",
       "  'GA',\n",
       "  'GB',\n",
       "  'GD',\n",
       "  'GE',\n",
       "  'GH',\n",
       "  'GM',\n",
       "  'GN',\n",
       "  'GQ',\n",
       "  'GR',\n",
       "  'GT',\n",
       "  'GW',\n",
       "  'GY',\n",
       "  'HK',\n",
       "  'HN',\n",
       "  'HR',\n",
       "  'HT',\n",
       "  'HU',\n",
       "  'ID',\n",
       "  'IE',\n",
       "  'IL',\n",
       "  'IN',\n",
       "  'IQ',\n",
       "  'IS',\n",
       "  'IT',\n",
       "  'JM',\n",
       "  'JO',\n",
       "  'JP',\n",
       "  'KE',\n",
       "  'KG',\n",
       "  'KH',\n",
       "  'KI',\n",
       "  'KM',\n",
       "  'KN',\n",
       "  'KR',\n",
       "  'KW',\n",
       "  'KZ',\n",
       "  'LA',\n",
       "  'LB',\n",
       "  'LC',\n",
       "  'LI',\n",
       "  'LK',\n",
       "  'LR',\n",
       "  'LS',\n",
       "  'LT',\n",
       "  'LU',\n",
       "  'LV',\n",
       "  'LY',\n",
       "  'MA',\n",
       "  'MC',\n",
       "  'MD',\n",
       "  'ME',\n",
       "  'MG',\n",
       "  'MH',\n",
       "  'MK',\n",
       "  'ML',\n",
       "  'MN',\n",
       "  'MO',\n",
       "  'MR',\n",
       "  'MT',\n",
       "  'MU',\n",
       "  'MV',\n",
       "  'MW',\n",
       "  'MX',\n",
       "  'MY',\n",
       "  'MZ',\n",
       "  'NA',\n",
       "  'NE',\n",
       "  'NG',\n",
       "  'NI',\n",
       "  'NL',\n",
       "  'NO',\n",
       "  'NP',\n",
       "  'NR',\n",
       "  'NZ',\n",
       "  'OM',\n",
       "  'PA',\n",
       "  'PE',\n",
       "  'PG',\n",
       "  'PH',\n",
       "  'PK',\n",
       "  'PL',\n",
       "  'PS',\n",
       "  'PT',\n",
       "  'PW',\n",
       "  'PY',\n",
       "  'QA',\n",
       "  'RO',\n",
       "  'RS',\n",
       "  'RW',\n",
       "  'SA',\n",
       "  'SB',\n",
       "  'SC',\n",
       "  'SE',\n",
       "  'SG',\n",
       "  'SI',\n",
       "  'SK',\n",
       "  'SL',\n",
       "  'SM',\n",
       "  'SN',\n",
       "  'SR',\n",
       "  'ST',\n",
       "  'SV',\n",
       "  'SZ',\n",
       "  'TD',\n",
       "  'TG',\n",
       "  'TH',\n",
       "  'TJ',\n",
       "  'TL',\n",
       "  'TN',\n",
       "  'TO',\n",
       "  'TR',\n",
       "  'TT',\n",
       "  'TV',\n",
       "  'TW',\n",
       "  'TZ',\n",
       "  'UA',\n",
       "  'UG',\n",
       "  'US',\n",
       "  'UY',\n",
       "  'UZ',\n",
       "  'VC',\n",
       "  'VE',\n",
       "  'VN',\n",
       "  'VU',\n",
       "  'WS',\n",
       "  'XK',\n",
       "  'ZA',\n",
       "  'ZM',\n",
       "  'ZW']}"
      ]
     },
     "execution_count": 4,
     "metadata": {},
     "output_type": "execute_result"
    }
   ],
   "source": [
    "sp.available_markets()"
   ]
  },
  {
   "cell_type": "code",
   "execution_count": 3,
   "metadata": {
    "ExecuteTime": {
     "end_time": "2022-11-23T08:53:27.060562Z",
     "start_time": "2022-11-23T08:53:26.974725Z"
    },
    "colab": {
     "base_uri": "https://localhost:8080/"
    },
    "executionInfo": {
     "elapsed": 313,
     "status": "ok",
     "timestamp": 1623747121467,
     "user": {
      "displayName": "Ignacio Soteras",
      "photoUrl": "",
      "userId": "02050793736257155229"
     },
     "user_tz": -120
    },
    "id": "-0qiqFTZqqE2",
    "outputId": "c532baae-8ff5-4abc-b70e-0bda934d25b1"
   },
   "outputs": [
    {
     "data": {
      "text/plain": [
       "{'tracks': {'href': 'https://api.spotify.com/v1/search?query=tiny+dancer&type=track&market=GB&offset=0&limit=5',\n",
       "  'items': [{'album': {'album_type': 'album',\n",
       "     'artists': [{'external_urls': {'spotify': 'https://open.spotify.com/artist/3PhoLpVuITZKcymswpck5b'},\n",
       "       'href': 'https://api.spotify.com/v1/artists/3PhoLpVuITZKcymswpck5b',\n",
       "       'id': '3PhoLpVuITZKcymswpck5b',\n",
       "       'name': 'Elton John',\n",
       "       'type': 'artist',\n",
       "       'uri': 'spotify:artist:3PhoLpVuITZKcymswpck5b'}],\n",
       "     'external_urls': {'spotify': 'https://open.spotify.com/album/2OZbaW9tgO62ndm375lFZr'},\n",
       "     'href': 'https://api.spotify.com/v1/albums/2OZbaW9tgO62ndm375lFZr',\n",
       "     'id': '2OZbaW9tgO62ndm375lFZr',\n",
       "     'images': [{'height': 640,\n",
       "       'url': 'https://i.scdn.co/image/ab67616d0000b273d03ab2da904d8251a87bbc31',\n",
       "       'width': 640},\n",
       "      {'height': 300,\n",
       "       'url': 'https://i.scdn.co/image/ab67616d00001e02d03ab2da904d8251a87bbc31',\n",
       "       'width': 300},\n",
       "      {'height': 64,\n",
       "       'url': 'https://i.scdn.co/image/ab67616d00004851d03ab2da904d8251a87bbc31',\n",
       "       'width': 64}],\n",
       "     'is_playable': True,\n",
       "     'name': 'Madman Across The Water',\n",
       "     'release_date': '1971-11-05',\n",
       "     'release_date_precision': 'day',\n",
       "     'total_tracks': 9,\n",
       "     'type': 'album',\n",
       "     'uri': 'spotify:album:2OZbaW9tgO62ndm375lFZr'},\n",
       "    'artists': [{'external_urls': {'spotify': 'https://open.spotify.com/artist/3PhoLpVuITZKcymswpck5b'},\n",
       "      'href': 'https://api.spotify.com/v1/artists/3PhoLpVuITZKcymswpck5b',\n",
       "      'id': '3PhoLpVuITZKcymswpck5b',\n",
       "      'name': 'Elton John',\n",
       "      'type': 'artist',\n",
       "      'uri': 'spotify:artist:3PhoLpVuITZKcymswpck5b'}],\n",
       "    'disc_number': 1,\n",
       "    'duration_ms': 377093,\n",
       "    'explicit': False,\n",
       "    'external_ids': {'isrc': 'GBAMB7100001'},\n",
       "    'external_urls': {'spotify': 'https://open.spotify.com/track/2TVxnKdb3tqe1nhQWwwZCO'},\n",
       "    'href': 'https://api.spotify.com/v1/tracks/2TVxnKdb3tqe1nhQWwwZCO',\n",
       "    'id': '2TVxnKdb3tqe1nhQWwwZCO',\n",
       "    'is_local': False,\n",
       "    'is_playable': True,\n",
       "    'name': 'Tiny Dancer',\n",
       "    'popularity': 81,\n",
       "    'preview_url': None,\n",
       "    'track_number': 1,\n",
       "    'type': 'track',\n",
       "    'uri': 'spotify:track:2TVxnKdb3tqe1nhQWwwZCO'},\n",
       "   {'album': {'album_type': 'compilation',\n",
       "     'artists': [{'external_urls': {'spotify': 'https://open.spotify.com/artist/0LyfQWJT6nXafLPZqxe9Of'},\n",
       "       'href': 'https://api.spotify.com/v1/artists/0LyfQWJT6nXafLPZqxe9Of',\n",
       "       'id': '0LyfQWJT6nXafLPZqxe9Of',\n",
       "       'name': 'Various Artists',\n",
       "       'type': 'artist',\n",
       "       'uri': 'spotify:artist:0LyfQWJT6nXafLPZqxe9Of'}],\n",
       "     'external_urls': {'spotify': 'https://open.spotify.com/album/2w667CqWz0JWkhxP7IfijA'},\n",
       "     'href': 'https://api.spotify.com/v1/albums/2w667CqWz0JWkhxP7IfijA',\n",
       "     'id': '2w667CqWz0JWkhxP7IfijA',\n",
       "     'images': [{'height': 640,\n",
       "       'url': 'https://i.scdn.co/image/ab67616d0000b27370c8de84ff4783f90e1ebb04',\n",
       "       'width': 640},\n",
       "      {'height': 300,\n",
       "       'url': 'https://i.scdn.co/image/ab67616d00001e0270c8de84ff4783f90e1ebb04',\n",
       "       'width': 300},\n",
       "      {'height': 64,\n",
       "       'url': 'https://i.scdn.co/image/ab67616d0000485170c8de84ff4783f90e1ebb04',\n",
       "       'width': 64}],\n",
       "     'is_playable': True,\n",
       "     'name': 'Revamp: The Songs Of Elton John & Bernie Taupin',\n",
       "     'release_date': '2018-04-06',\n",
       "     'release_date_precision': 'day',\n",
       "     'total_tracks': 13,\n",
       "     'type': 'album',\n",
       "     'uri': 'spotify:album:2w667CqWz0JWkhxP7IfijA'},\n",
       "    'artists': [{'external_urls': {'spotify': 'https://open.spotify.com/artist/1moxjboGR7GNWYIMWsRjgG'},\n",
       "      'href': 'https://api.spotify.com/v1/artists/1moxjboGR7GNWYIMWsRjgG',\n",
       "      'id': '1moxjboGR7GNWYIMWsRjgG',\n",
       "      'name': 'Florence + The Machine',\n",
       "      'type': 'artist',\n",
       "      'uri': 'spotify:artist:1moxjboGR7GNWYIMWsRjgG'}],\n",
       "    'disc_number': 1,\n",
       "    'duration_ms': 361188,\n",
       "    'explicit': False,\n",
       "    'external_ids': {'isrc': 'GBUM71800109'},\n",
       "    'external_urls': {'spotify': 'https://open.spotify.com/track/69sJBJdGogAYV74hmB0ORK'},\n",
       "    'href': 'https://api.spotify.com/v1/tracks/69sJBJdGogAYV74hmB0ORK',\n",
       "    'id': '69sJBJdGogAYV74hmB0ORK',\n",
       "    'is_local': False,\n",
       "    'is_playable': True,\n",
       "    'name': 'Tiny Dancer',\n",
       "    'popularity': 57,\n",
       "    'preview_url': None,\n",
       "    'track_number': 5,\n",
       "    'type': 'track',\n",
       "    'uri': 'spotify:track:69sJBJdGogAYV74hmB0ORK'},\n",
       "   {'album': {'album_type': 'compilation',\n",
       "     'artists': [{'external_urls': {'spotify': 'https://open.spotify.com/artist/0LyfQWJT6nXafLPZqxe9Of'},\n",
       "       'href': 'https://api.spotify.com/v1/artists/0LyfQWJT6nXafLPZqxe9Of',\n",
       "       'id': '0LyfQWJT6nXafLPZqxe9Of',\n",
       "       'name': 'Various Artists',\n",
       "       'type': 'artist',\n",
       "       'uri': 'spotify:artist:0LyfQWJT6nXafLPZqxe9Of'}],\n",
       "     'external_urls': {'spotify': 'https://open.spotify.com/album/04geSaCj6lElctYUC0gFTd'},\n",
       "     'href': 'https://api.spotify.com/v1/albums/04geSaCj6lElctYUC0gFTd',\n",
       "     'id': '04geSaCj6lElctYUC0gFTd',\n",
       "     'images': [{'height': 640,\n",
       "       'url': 'https://i.scdn.co/image/ab67616d0000b273332e2632eb1275065eaab0f4',\n",
       "       'width': 640},\n",
       "      {'height': 300,\n",
       "       'url': 'https://i.scdn.co/image/ab67616d00001e02332e2632eb1275065eaab0f4',\n",
       "       'width': 300},\n",
       "      {'height': 64,\n",
       "       'url': 'https://i.scdn.co/image/ab67616d00004851332e2632eb1275065eaab0f4',\n",
       "       'width': 64}],\n",
       "     'is_playable': True,\n",
       "     'name': 'Street Nation',\n",
       "     'release_date': '2010-01-01',\n",
       "     'release_date_precision': 'day',\n",
       "     'total_tracks': 42,\n",
       "     'type': 'album',\n",
       "     'uri': 'spotify:album:04geSaCj6lElctYUC0gFTd'},\n",
       "    'artists': [{'external_urls': {'spotify': 'https://open.spotify.com/artist/1vwcHXpc5g75lakGYbUEJ3'},\n",
       "      'href': 'https://api.spotify.com/v1/artists/1vwcHXpc5g75lakGYbUEJ3',\n",
       "      'id': '1vwcHXpc5g75lakGYbUEJ3',\n",
       "      'name': 'Ironik',\n",
       "      'type': 'artist',\n",
       "      'uri': 'spotify:artist:1vwcHXpc5g75lakGYbUEJ3'},\n",
       "     {'external_urls': {'spotify': 'https://open.spotify.com/artist/0tJCNteqwm7LmRZ6KWr8GT'},\n",
       "      'href': 'https://api.spotify.com/v1/artists/0tJCNteqwm7LmRZ6KWr8GT',\n",
       "      'id': '0tJCNteqwm7LmRZ6KWr8GT',\n",
       "      'name': 'Chip',\n",
       "      'type': 'artist',\n",
       "      'uri': 'spotify:artist:0tJCNteqwm7LmRZ6KWr8GT'},\n",
       "     {'external_urls': {'spotify': 'https://open.spotify.com/artist/3PhoLpVuITZKcymswpck5b'},\n",
       "      'href': 'https://api.spotify.com/v1/artists/3PhoLpVuITZKcymswpck5b',\n",
       "      'id': '3PhoLpVuITZKcymswpck5b',\n",
       "      'name': 'Elton John',\n",
       "      'type': 'artist',\n",
       "      'uri': 'spotify:artist:3PhoLpVuITZKcymswpck5b'}],\n",
       "    'disc_number': 2,\n",
       "    'duration_ms': 203880,\n",
       "    'explicit': False,\n",
       "    'external_ids': {'isrc': 'GBAHS0900055'},\n",
       "    'external_urls': {'spotify': 'https://open.spotify.com/track/0FuqFjaEuOLfeq1gn7kJbq'},\n",
       "    'href': 'https://api.spotify.com/v1/tracks/0FuqFjaEuOLfeq1gn7kJbq',\n",
       "    'id': '0FuqFjaEuOLfeq1gn7kJbq',\n",
       "    'is_local': False,\n",
       "    'is_playable': True,\n",
       "    'name': 'Tiny Dancer (Hold Me Closer)',\n",
       "    'popularity': 39,\n",
       "    'preview_url': None,\n",
       "    'track_number': 9,\n",
       "    'type': 'track',\n",
       "    'uri': 'spotify:track:0FuqFjaEuOLfeq1gn7kJbq'},\n",
       "   {'album': {'album_type': 'album',\n",
       "     'artists': [{'external_urls': {'spotify': 'https://open.spotify.com/artist/3PhoLpVuITZKcymswpck5b'},\n",
       "       'href': 'https://api.spotify.com/v1/artists/3PhoLpVuITZKcymswpck5b',\n",
       "       'id': '3PhoLpVuITZKcymswpck5b',\n",
       "       'name': 'Elton John',\n",
       "       'type': 'artist',\n",
       "       'uri': 'spotify:artist:3PhoLpVuITZKcymswpck5b'},\n",
       "      {'external_urls': {'spotify': 'https://open.spotify.com/artist/5nwjcZ87CGNRiO98nFKdOD'},\n",
       "       'href': 'https://api.spotify.com/v1/artists/5nwjcZ87CGNRiO98nFKdOD',\n",
       "       'id': '5nwjcZ87CGNRiO98nFKdOD',\n",
       "       'name': 'Taron Egerton',\n",
       "       'type': 'artist',\n",
       "       'uri': 'spotify:artist:5nwjcZ87CGNRiO98nFKdOD'}],\n",
       "     'external_urls': {'spotify': 'https://open.spotify.com/album/16iIPsnAjGZea8TeOCzeN8'},\n",
       "     'href': 'https://api.spotify.com/v1/albums/16iIPsnAjGZea8TeOCzeN8',\n",
       "     'id': '16iIPsnAjGZea8TeOCzeN8',\n",
       "     'images': [{'height': 640,\n",
       "       'url': 'https://i.scdn.co/image/ab67616d0000b273c02dee749826fbc58abcb8c5',\n",
       "       'width': 640},\n",
       "      {'height': 300,\n",
       "       'url': 'https://i.scdn.co/image/ab67616d00001e02c02dee749826fbc58abcb8c5',\n",
       "       'width': 300},\n",
       "      {'height': 64,\n",
       "       'url': 'https://i.scdn.co/image/ab67616d00004851c02dee749826fbc58abcb8c5',\n",
       "       'width': 64}],\n",
       "     'is_playable': True,\n",
       "     'name': 'Rocketman (Music From The Motion Picture)',\n",
       "     'release_date': '2019-05-24',\n",
       "     'release_date_precision': 'day',\n",
       "     'total_tracks': 22,\n",
       "     'type': 'album',\n",
       "     'uri': 'spotify:album:16iIPsnAjGZea8TeOCzeN8'},\n",
       "    'artists': [{'external_urls': {'spotify': 'https://open.spotify.com/artist/5nwjcZ87CGNRiO98nFKdOD'},\n",
       "      'href': 'https://api.spotify.com/v1/artists/5nwjcZ87CGNRiO98nFKdOD',\n",
       "      'id': '5nwjcZ87CGNRiO98nFKdOD',\n",
       "      'name': 'Taron Egerton',\n",
       "      'type': 'artist',\n",
       "      'uri': 'spotify:artist:5nwjcZ87CGNRiO98nFKdOD'}],\n",
       "    'disc_number': 1,\n",
       "    'duration_ms': 324706,\n",
       "    'explicit': False,\n",
       "    'external_ids': {'isrc': 'USKLP1900074'},\n",
       "    'external_urls': {'spotify': 'https://open.spotify.com/track/6qaPwYZAJgvyf6l7f7rfUo'},\n",
       "    'href': 'https://api.spotify.com/v1/tracks/6qaPwYZAJgvyf6l7f7rfUo',\n",
       "    'id': '6qaPwYZAJgvyf6l7f7rfUo',\n",
       "    'is_local': False,\n",
       "    'is_playable': True,\n",
       "    'name': 'Tiny Dancer',\n",
       "    'popularity': 50,\n",
       "    'preview_url': None,\n",
       "    'track_number': 10,\n",
       "    'type': 'track',\n",
       "    'uri': 'spotify:track:6qaPwYZAJgvyf6l7f7rfUo'},\n",
       "   {'album': {'album_type': 'single',\n",
       "     'artists': [{'external_urls': {'spotify': 'https://open.spotify.com/artist/3PhoLpVuITZKcymswpck5b'},\n",
       "       'href': 'https://api.spotify.com/v1/artists/3PhoLpVuITZKcymswpck5b',\n",
       "       'id': '3PhoLpVuITZKcymswpck5b',\n",
       "       'name': 'Elton John',\n",
       "       'type': 'artist',\n",
       "       'uri': 'spotify:artist:3PhoLpVuITZKcymswpck5b'},\n",
       "      {'external_urls': {'spotify': 'https://open.spotify.com/artist/26dSoYclwsYLMAKD3tpOr4'},\n",
       "       'href': 'https://api.spotify.com/v1/artists/26dSoYclwsYLMAKD3tpOr4',\n",
       "       'id': '26dSoYclwsYLMAKD3tpOr4',\n",
       "       'name': 'Britney Spears',\n",
       "       'type': 'artist',\n",
       "       'uri': 'spotify:artist:26dSoYclwsYLMAKD3tpOr4'}],\n",
       "     'external_urls': {'spotify': 'https://open.spotify.com/album/4QQWpCEX4BxMXwRQmtkKY6'},\n",
       "     'href': 'https://api.spotify.com/v1/albums/4QQWpCEX4BxMXwRQmtkKY6',\n",
       "     'id': '4QQWpCEX4BxMXwRQmtkKY6',\n",
       "     'images': [{'height': 640,\n",
       "       'url': 'https://i.scdn.co/image/ab67616d0000b2735d872e7b0c1ba964541f07e8',\n",
       "       'width': 640},\n",
       "      {'height': 300,\n",
       "       'url': 'https://i.scdn.co/image/ab67616d00001e025d872e7b0c1ba964541f07e8',\n",
       "       'width': 300},\n",
       "      {'height': 64,\n",
       "       'url': 'https://i.scdn.co/image/ab67616d000048515d872e7b0c1ba964541f07e8',\n",
       "       'width': 64}],\n",
       "     'is_playable': True,\n",
       "     'name': 'Hold Me Closer',\n",
       "     'release_date': '2022-08-26',\n",
       "     'release_date_precision': 'day',\n",
       "     'total_tracks': 1,\n",
       "     'type': 'album',\n",
       "     'uri': 'spotify:album:4QQWpCEX4BxMXwRQmtkKY6'},\n",
       "    'artists': [{'external_urls': {'spotify': 'https://open.spotify.com/artist/3PhoLpVuITZKcymswpck5b'},\n",
       "      'href': 'https://api.spotify.com/v1/artists/3PhoLpVuITZKcymswpck5b',\n",
       "      'id': '3PhoLpVuITZKcymswpck5b',\n",
       "      'name': 'Elton John',\n",
       "      'type': 'artist',\n",
       "      'uri': 'spotify:artist:3PhoLpVuITZKcymswpck5b'},\n",
       "     {'external_urls': {'spotify': 'https://open.spotify.com/artist/26dSoYclwsYLMAKD3tpOr4'},\n",
       "      'href': 'https://api.spotify.com/v1/artists/26dSoYclwsYLMAKD3tpOr4',\n",
       "      'id': '26dSoYclwsYLMAKD3tpOr4',\n",
       "      'name': 'Britney Spears',\n",
       "      'type': 'artist',\n",
       "      'uri': 'spotify:artist:26dSoYclwsYLMAKD3tpOr4'}],\n",
       "    'disc_number': 1,\n",
       "    'duration_ms': 202245,\n",
       "    'explicit': False,\n",
       "    'external_ids': {'isrc': 'GBUM72205030'},\n",
       "    'external_urls': {'spotify': 'https://open.spotify.com/track/72yP0DUlWPyH8P7IoxskwN'},\n",
       "    'href': 'https://api.spotify.com/v1/tracks/72yP0DUlWPyH8P7IoxskwN',\n",
       "    'id': '72yP0DUlWPyH8P7IoxskwN',\n",
       "    'is_local': False,\n",
       "    'is_playable': True,\n",
       "    'name': 'Hold Me Closer',\n",
       "    'popularity': 82,\n",
       "    'preview_url': None,\n",
       "    'track_number': 1,\n",
       "    'type': 'track',\n",
       "    'uri': 'spotify:track:72yP0DUlWPyH8P7IoxskwN'}],\n",
       "  'limit': 5,\n",
       "  'next': 'https://api.spotify.com/v1/search?query=tiny+dancer&type=track&market=GB&offset=5&limit=5',\n",
       "  'offset': 0,\n",
       "  'previous': None,\n",
       "  'total': 343}}"
      ]
     },
     "execution_count": 3,
     "metadata": {},
     "output_type": "execute_result"
    }
   ],
   "source": [
    "import spotipy\n",
    "import json\n",
    "from spotipy.oauth2 import SpotifyClientCredentials\n",
    "\n",
    "\n",
    "#Initialize SpotiPy with user credentials\n",
    "sp = spotipy.Spotify(auth_manager=SpotifyClientCredentials(client_id = config.client_id,\n",
    "                                                           client_secret = config.client_secret))\n",
    "\n",
    "# The \"sp\" variable has two useful funtions:\n",
    "# The first usefull function is:\n",
    "# .search(q='',limit=n)\n",
    "# .search(q=\"track:\"+song_name+\" artist:\"+artist_name,limit=5) to restrict to a song name and artist.\n",
    "# Where the \"q\" keyword is the query you want to perform on spotify: song_name, artist,...\n",
    "# while The \"limit\" keyword will limit the number of returned results.\n",
    "#\n",
    "# The second usefull function is:\n",
    "# .audio_features([URL|URI|ID])\n",
    "# which returns some 'features of the song', that after cleanup, we can use in order to characterize a song.\n",
    "\n",
    "results = sp.search(q=\"tiny dancer\",limit=5,market=\"GB\")\n",
    "results\n",
    "#json_results = json.dumps(results, ensure_ascii=True)\n",
    "#json_results\n",
    "#results['tracks']['items'][0]['external_urls'][\"spotify\"]"
   ]
  },
  {
   "cell_type": "code",
   "execution_count": 5,
   "metadata": {},
   "outputs": [],
   "source": [
    "import pprint"
   ]
  },
  {
   "cell_type": "code",
   "execution_count": 6,
   "metadata": {},
   "outputs": [
    {
     "data": {
      "text/plain": [
       "'3PhoLpVuITZKcymswpck5b'"
      ]
     },
     "execution_count": 6,
     "metadata": {},
     "output_type": "execute_result"
    }
   ],
   "source": [
    "results['tracks'][\"items\"][0][\"album\"][\"artists\"][0][\"id\"]"
   ]
  },
  {
   "cell_type": "code",
   "execution_count": 7,
   "metadata": {},
   "outputs": [
    {
     "name": "stdout",
     "output_type": "stream",
     "text": [
      "{'tracks': {'href': 'https://api.spotify.com/v1/search?query=tiny+dancer&type=track&market=GB&offset=0&limit=5',\n",
      "            'items': [{'album': {'album_type': 'album',\n",
      "                                 'artists': [{'external_urls': {'spotify': 'https://open.spotify.com/artist/3PhoLpVuITZKcymswpck5b'},\n",
      "                                              'href': 'https://api.spotify.com/v1/artists/3PhoLpVuITZKcymswpck5b',\n",
      "                                              'id': '3PhoLpVuITZKcymswpck5b',\n",
      "                                              'name': 'Elton John',\n",
      "                                              'type': 'artist',\n",
      "                                              'uri': 'spotify:artist:3PhoLpVuITZKcymswpck5b'}],\n",
      "                                 'external_urls': {'spotify': 'https://open.spotify.com/album/2OZbaW9tgO62ndm375lFZr'},\n",
      "                                 'href': 'https://api.spotify.com/v1/albums/2OZbaW9tgO62ndm375lFZr',\n",
      "                                 'id': '2OZbaW9tgO62ndm375lFZr',\n",
      "                                 'images': [{'height': 640,\n",
      "                                             'url': 'https://i.scdn.co/image/ab67616d0000b273d03ab2da904d8251a87bbc31',\n",
      "                                             'width': 640},\n",
      "                                            {'height': 300,\n",
      "                                             'url': 'https://i.scdn.co/image/ab67616d00001e02d03ab2da904d8251a87bbc31',\n",
      "                                             'width': 300},\n",
      "                                            {'height': 64,\n",
      "                                             'url': 'https://i.scdn.co/image/ab67616d00004851d03ab2da904d8251a87bbc31',\n",
      "                                             'width': 64}],\n",
      "                                 'is_playable': True,\n",
      "                                 'name': 'Madman Across The Water',\n",
      "                                 'release_date': '1971-11-05',\n",
      "                                 'release_date_precision': 'day',\n",
      "                                 'total_tracks': 9,\n",
      "                                 'type': 'album',\n",
      "                                 'uri': 'spotify:album:2OZbaW9tgO62ndm375lFZr'},\n",
      "                       'artists': [{'external_urls': {'spotify': 'https://open.spotify.com/artist/3PhoLpVuITZKcymswpck5b'},\n",
      "                                    'href': 'https://api.spotify.com/v1/artists/3PhoLpVuITZKcymswpck5b',\n",
      "                                    'id': '3PhoLpVuITZKcymswpck5b',\n",
      "                                    'name': 'Elton John',\n",
      "                                    'type': 'artist',\n",
      "                                    'uri': 'spotify:artist:3PhoLpVuITZKcymswpck5b'}],\n",
      "                       'disc_number': 1,\n",
      "                       'duration_ms': 377093,\n",
      "                       'explicit': False,\n",
      "                       'external_ids': {'isrc': 'GBAMB7100001'},\n",
      "                       'external_urls': {'spotify': 'https://open.spotify.com/track/2TVxnKdb3tqe1nhQWwwZCO'},\n",
      "                       'href': 'https://api.spotify.com/v1/tracks/2TVxnKdb3tqe1nhQWwwZCO',\n",
      "                       'id': '2TVxnKdb3tqe1nhQWwwZCO',\n",
      "                       'is_local': False,\n",
      "                       'is_playable': True,\n",
      "                       'name': 'Tiny Dancer',\n",
      "                       'popularity': 81,\n",
      "                       'preview_url': None,\n",
      "                       'track_number': 1,\n",
      "                       'type': 'track',\n",
      "                       'uri': 'spotify:track:2TVxnKdb3tqe1nhQWwwZCO'},\n",
      "                      {'album': {'album_type': 'compilation',\n",
      "                                 'artists': [{'external_urls': {'spotify': 'https://open.spotify.com/artist/0LyfQWJT6nXafLPZqxe9Of'},\n",
      "                                              'href': 'https://api.spotify.com/v1/artists/0LyfQWJT6nXafLPZqxe9Of',\n",
      "                                              'id': '0LyfQWJT6nXafLPZqxe9Of',\n",
      "                                              'name': 'Various Artists',\n",
      "                                              'type': 'artist',\n",
      "                                              'uri': 'spotify:artist:0LyfQWJT6nXafLPZqxe9Of'}],\n",
      "                                 'external_urls': {'spotify': 'https://open.spotify.com/album/2w667CqWz0JWkhxP7IfijA'},\n",
      "                                 'href': 'https://api.spotify.com/v1/albums/2w667CqWz0JWkhxP7IfijA',\n",
      "                                 'id': '2w667CqWz0JWkhxP7IfijA',\n",
      "                                 'images': [{'height': 640,\n",
      "                                             'url': 'https://i.scdn.co/image/ab67616d0000b27370c8de84ff4783f90e1ebb04',\n",
      "                                             'width': 640},\n",
      "                                            {'height': 300,\n",
      "                                             'url': 'https://i.scdn.co/image/ab67616d00001e0270c8de84ff4783f90e1ebb04',\n",
      "                                             'width': 300},\n",
      "                                            {'height': 64,\n",
      "                                             'url': 'https://i.scdn.co/image/ab67616d0000485170c8de84ff4783f90e1ebb04',\n",
      "                                             'width': 64}],\n",
      "                                 'is_playable': True,\n",
      "                                 'name': 'Revamp: The Songs Of Elton John & '\n",
      "                                         'Bernie Taupin',\n",
      "                                 'release_date': '2018-04-06',\n",
      "                                 'release_date_precision': 'day',\n",
      "                                 'total_tracks': 13,\n",
      "                                 'type': 'album',\n",
      "                                 'uri': 'spotify:album:2w667CqWz0JWkhxP7IfijA'},\n",
      "                       'artists': [{'external_urls': {'spotify': 'https://open.spotify.com/artist/1moxjboGR7GNWYIMWsRjgG'},\n",
      "                                    'href': 'https://api.spotify.com/v1/artists/1moxjboGR7GNWYIMWsRjgG',\n",
      "                                    'id': '1moxjboGR7GNWYIMWsRjgG',\n",
      "                                    'name': 'Florence + The Machine',\n",
      "                                    'type': 'artist',\n",
      "                                    'uri': 'spotify:artist:1moxjboGR7GNWYIMWsRjgG'}],\n",
      "                       'disc_number': 1,\n",
      "                       'duration_ms': 361188,\n",
      "                       'explicit': False,\n",
      "                       'external_ids': {'isrc': 'GBUM71800109'},\n",
      "                       'external_urls': {'spotify': 'https://open.spotify.com/track/69sJBJdGogAYV74hmB0ORK'},\n",
      "                       'href': 'https://api.spotify.com/v1/tracks/69sJBJdGogAYV74hmB0ORK',\n",
      "                       'id': '69sJBJdGogAYV74hmB0ORK',\n",
      "                       'is_local': False,\n",
      "                       'is_playable': True,\n",
      "                       'name': 'Tiny Dancer',\n",
      "                       'popularity': 57,\n",
      "                       'preview_url': None,\n",
      "                       'track_number': 5,\n",
      "                       'type': 'track',\n",
      "                       'uri': 'spotify:track:69sJBJdGogAYV74hmB0ORK'},\n",
      "                      {'album': {'album_type': 'compilation',\n",
      "                                 'artists': [{'external_urls': {'spotify': 'https://open.spotify.com/artist/0LyfQWJT6nXafLPZqxe9Of'},\n",
      "                                              'href': 'https://api.spotify.com/v1/artists/0LyfQWJT6nXafLPZqxe9Of',\n",
      "                                              'id': '0LyfQWJT6nXafLPZqxe9Of',\n",
      "                                              'name': 'Various Artists',\n",
      "                                              'type': 'artist',\n",
      "                                              'uri': 'spotify:artist:0LyfQWJT6nXafLPZqxe9Of'}],\n",
      "                                 'external_urls': {'spotify': 'https://open.spotify.com/album/04geSaCj6lElctYUC0gFTd'},\n",
      "                                 'href': 'https://api.spotify.com/v1/albums/04geSaCj6lElctYUC0gFTd',\n",
      "                                 'id': '04geSaCj6lElctYUC0gFTd',\n",
      "                                 'images': [{'height': 640,\n",
      "                                             'url': 'https://i.scdn.co/image/ab67616d0000b273332e2632eb1275065eaab0f4',\n",
      "                                             'width': 640},\n",
      "                                            {'height': 300,\n",
      "                                             'url': 'https://i.scdn.co/image/ab67616d00001e02332e2632eb1275065eaab0f4',\n",
      "                                             'width': 300},\n",
      "                                            {'height': 64,\n",
      "                                             'url': 'https://i.scdn.co/image/ab67616d00004851332e2632eb1275065eaab0f4',\n",
      "                                             'width': 64}],\n",
      "                                 'is_playable': True,\n",
      "                                 'name': 'Street Nation',\n",
      "                                 'release_date': '2010-01-01',\n",
      "                                 'release_date_precision': 'day',\n",
      "                                 'total_tracks': 42,\n",
      "                                 'type': 'album',\n",
      "                                 'uri': 'spotify:album:04geSaCj6lElctYUC0gFTd'},\n",
      "                       'artists': [{'external_urls': {'spotify': 'https://open.spotify.com/artist/1vwcHXpc5g75lakGYbUEJ3'},\n",
      "                                    'href': 'https://api.spotify.com/v1/artists/1vwcHXpc5g75lakGYbUEJ3',\n",
      "                                    'id': '1vwcHXpc5g75lakGYbUEJ3',\n",
      "                                    'name': 'Ironik',\n",
      "                                    'type': 'artist',\n",
      "                                    'uri': 'spotify:artist:1vwcHXpc5g75lakGYbUEJ3'},\n",
      "                                   {'external_urls': {'spotify': 'https://open.spotify.com/artist/0tJCNteqwm7LmRZ6KWr8GT'},\n",
      "                                    'href': 'https://api.spotify.com/v1/artists/0tJCNteqwm7LmRZ6KWr8GT',\n",
      "                                    'id': '0tJCNteqwm7LmRZ6KWr8GT',\n",
      "                                    'name': 'Chip',\n",
      "                                    'type': 'artist',\n",
      "                                    'uri': 'spotify:artist:0tJCNteqwm7LmRZ6KWr8GT'},\n",
      "                                   {'external_urls': {'spotify': 'https://open.spotify.com/artist/3PhoLpVuITZKcymswpck5b'},\n",
      "                                    'href': 'https://api.spotify.com/v1/artists/3PhoLpVuITZKcymswpck5b',\n",
      "                                    'id': '3PhoLpVuITZKcymswpck5b',\n",
      "                                    'name': 'Elton John',\n",
      "                                    'type': 'artist',\n",
      "                                    'uri': 'spotify:artist:3PhoLpVuITZKcymswpck5b'}],\n",
      "                       'disc_number': 2,\n",
      "                       'duration_ms': 203880,\n",
      "                       'explicit': False,\n",
      "                       'external_ids': {'isrc': 'GBAHS0900055'},\n",
      "                       'external_urls': {'spotify': 'https://open.spotify.com/track/0FuqFjaEuOLfeq1gn7kJbq'},\n",
      "                       'href': 'https://api.spotify.com/v1/tracks/0FuqFjaEuOLfeq1gn7kJbq',\n",
      "                       'id': '0FuqFjaEuOLfeq1gn7kJbq',\n",
      "                       'is_local': False,\n",
      "                       'is_playable': True,\n",
      "                       'name': 'Tiny Dancer (Hold Me Closer)',\n",
      "                       'popularity': 39,\n",
      "                       'preview_url': None,\n",
      "                       'track_number': 9,\n",
      "                       'type': 'track',\n",
      "                       'uri': 'spotify:track:0FuqFjaEuOLfeq1gn7kJbq'},\n",
      "                      {'album': {'album_type': 'album',\n",
      "                                 'artists': [{'external_urls': {'spotify': 'https://open.spotify.com/artist/3PhoLpVuITZKcymswpck5b'},\n",
      "                                              'href': 'https://api.spotify.com/v1/artists/3PhoLpVuITZKcymswpck5b',\n",
      "                                              'id': '3PhoLpVuITZKcymswpck5b',\n",
      "                                              'name': 'Elton John',\n",
      "                                              'type': 'artist',\n",
      "                                              'uri': 'spotify:artist:3PhoLpVuITZKcymswpck5b'},\n",
      "                                             {'external_urls': {'spotify': 'https://open.spotify.com/artist/5nwjcZ87CGNRiO98nFKdOD'},\n",
      "                                              'href': 'https://api.spotify.com/v1/artists/5nwjcZ87CGNRiO98nFKdOD',\n",
      "                                              'id': '5nwjcZ87CGNRiO98nFKdOD',\n",
      "                                              'name': 'Taron Egerton',\n",
      "                                              'type': 'artist',\n",
      "                                              'uri': 'spotify:artist:5nwjcZ87CGNRiO98nFKdOD'}],\n",
      "                                 'external_urls': {'spotify': 'https://open.spotify.com/album/16iIPsnAjGZea8TeOCzeN8'},\n",
      "                                 'href': 'https://api.spotify.com/v1/albums/16iIPsnAjGZea8TeOCzeN8',\n",
      "                                 'id': '16iIPsnAjGZea8TeOCzeN8',\n",
      "                                 'images': [{'height': 640,\n",
      "                                             'url': 'https://i.scdn.co/image/ab67616d0000b273c02dee749826fbc58abcb8c5',\n",
      "                                             'width': 640},\n",
      "                                            {'height': 300,\n",
      "                                             'url': 'https://i.scdn.co/image/ab67616d00001e02c02dee749826fbc58abcb8c5',\n",
      "                                             'width': 300},\n",
      "                                            {'height': 64,\n",
      "                                             'url': 'https://i.scdn.co/image/ab67616d00004851c02dee749826fbc58abcb8c5',\n",
      "                                             'width': 64}],\n",
      "                                 'is_playable': True,\n",
      "                                 'name': 'Rocketman (Music From The Motion '\n",
      "                                         'Picture)',\n",
      "                                 'release_date': '2019-05-24',\n",
      "                                 'release_date_precision': 'day',\n",
      "                                 'total_tracks': 22,\n",
      "                                 'type': 'album',\n",
      "                                 'uri': 'spotify:album:16iIPsnAjGZea8TeOCzeN8'},\n",
      "                       'artists': [{'external_urls': {'spotify': 'https://open.spotify.com/artist/5nwjcZ87CGNRiO98nFKdOD'},\n",
      "                                    'href': 'https://api.spotify.com/v1/artists/5nwjcZ87CGNRiO98nFKdOD',\n",
      "                                    'id': '5nwjcZ87CGNRiO98nFKdOD',\n",
      "                                    'name': 'Taron Egerton',\n",
      "                                    'type': 'artist',\n",
      "                                    'uri': 'spotify:artist:5nwjcZ87CGNRiO98nFKdOD'}],\n",
      "                       'disc_number': 1,\n",
      "                       'duration_ms': 324706,\n",
      "                       'explicit': False,\n",
      "                       'external_ids': {'isrc': 'USKLP1900074'},\n",
      "                       'external_urls': {'spotify': 'https://open.spotify.com/track/6qaPwYZAJgvyf6l7f7rfUo'},\n",
      "                       'href': 'https://api.spotify.com/v1/tracks/6qaPwYZAJgvyf6l7f7rfUo',\n",
      "                       'id': '6qaPwYZAJgvyf6l7f7rfUo',\n",
      "                       'is_local': False,\n",
      "                       'is_playable': True,\n",
      "                       'name': 'Tiny Dancer',\n",
      "                       'popularity': 50,\n",
      "                       'preview_url': None,\n",
      "                       'track_number': 10,\n",
      "                       'type': 'track',\n",
      "                       'uri': 'spotify:track:6qaPwYZAJgvyf6l7f7rfUo'},\n",
      "                      {'album': {'album_type': 'single',\n",
      "                                 'artists': [{'external_urls': {'spotify': 'https://open.spotify.com/artist/3PhoLpVuITZKcymswpck5b'},\n",
      "                                              'href': 'https://api.spotify.com/v1/artists/3PhoLpVuITZKcymswpck5b',\n",
      "                                              'id': '3PhoLpVuITZKcymswpck5b',\n",
      "                                              'name': 'Elton John',\n",
      "                                              'type': 'artist',\n",
      "                                              'uri': 'spotify:artist:3PhoLpVuITZKcymswpck5b'},\n",
      "                                             {'external_urls': {'spotify': 'https://open.spotify.com/artist/26dSoYclwsYLMAKD3tpOr4'},\n",
      "                                              'href': 'https://api.spotify.com/v1/artists/26dSoYclwsYLMAKD3tpOr4',\n",
      "                                              'id': '26dSoYclwsYLMAKD3tpOr4',\n",
      "                                              'name': 'Britney Spears',\n",
      "                                              'type': 'artist',\n",
      "                                              'uri': 'spotify:artist:26dSoYclwsYLMAKD3tpOr4'}],\n",
      "                                 'external_urls': {'spotify': 'https://open.spotify.com/album/4QQWpCEX4BxMXwRQmtkKY6'},\n",
      "                                 'href': 'https://api.spotify.com/v1/albums/4QQWpCEX4BxMXwRQmtkKY6',\n",
      "                                 'id': '4QQWpCEX4BxMXwRQmtkKY6',\n",
      "                                 'images': [{'height': 640,\n",
      "                                             'url': 'https://i.scdn.co/image/ab67616d0000b2735d872e7b0c1ba964541f07e8',\n",
      "                                             'width': 640},\n",
      "                                            {'height': 300,\n",
      "                                             'url': 'https://i.scdn.co/image/ab67616d00001e025d872e7b0c1ba964541f07e8',\n",
      "                                             'width': 300},\n",
      "                                            {'height': 64,\n",
      "                                             'url': 'https://i.scdn.co/image/ab67616d000048515d872e7b0c1ba964541f07e8',\n",
      "                                             'width': 64}],\n",
      "                                 'is_playable': True,\n",
      "                                 'name': 'Hold Me Closer',\n",
      "                                 'release_date': '2022-08-26',\n",
      "                                 'release_date_precision': 'day',\n",
      "                                 'total_tracks': 1,\n",
      "                                 'type': 'album',\n",
      "                                 'uri': 'spotify:album:4QQWpCEX4BxMXwRQmtkKY6'},\n",
      "                       'artists': [{'external_urls': {'spotify': 'https://open.spotify.com/artist/3PhoLpVuITZKcymswpck5b'},\n",
      "                                    'href': 'https://api.spotify.com/v1/artists/3PhoLpVuITZKcymswpck5b',\n",
      "                                    'id': '3PhoLpVuITZKcymswpck5b',\n",
      "                                    'name': 'Elton John',\n",
      "                                    'type': 'artist',\n",
      "                                    'uri': 'spotify:artist:3PhoLpVuITZKcymswpck5b'},\n",
      "                                   {'external_urls': {'spotify': 'https://open.spotify.com/artist/26dSoYclwsYLMAKD3tpOr4'},\n",
      "                                    'href': 'https://api.spotify.com/v1/artists/26dSoYclwsYLMAKD3tpOr4',\n",
      "                                    'id': '26dSoYclwsYLMAKD3tpOr4',\n",
      "                                    'name': 'Britney Spears',\n",
      "                                    'type': 'artist',\n",
      "                                    'uri': 'spotify:artist:26dSoYclwsYLMAKD3tpOr4'}],\n",
      "                       'disc_number': 1,\n",
      "                       'duration_ms': 202245,\n",
      "                       'explicit': False,\n",
      "                       'external_ids': {'isrc': 'GBUM72205030'},\n",
      "                       'external_urls': {'spotify': 'https://open.spotify.com/track/72yP0DUlWPyH8P7IoxskwN'},\n",
      "                       'href': 'https://api.spotify.com/v1/tracks/72yP0DUlWPyH8P7IoxskwN',\n",
      "                       'id': '72yP0DUlWPyH8P7IoxskwN',\n",
      "                       'is_local': False,\n",
      "                       'is_playable': True,\n",
      "                       'name': 'Hold Me Closer',\n",
      "                       'popularity': 82,\n",
      "                       'preview_url': None,\n",
      "                       'track_number': 1,\n",
      "                       'type': 'track',\n",
      "                       'uri': 'spotify:track:72yP0DUlWPyH8P7IoxskwN'}],\n",
      "            'limit': 5,\n",
      "            'next': 'https://api.spotify.com/v1/search?query=tiny+dancer&type=track&market=GB&offset=5&limit=5',\n",
      "            'offset': 0,\n",
      "            'previous': None,\n",
      "            'total': 343}}\n"
     ]
    }
   ],
   "source": [
    "pprint.pprint(results)"
   ]
  },
  {
   "cell_type": "code",
   "execution_count": 16,
   "metadata": {},
   "outputs": [
    {
     "data": {
      "text/plain": [
       "'Elton John'"
      ]
     },
     "execution_count": 16,
     "metadata": {},
     "output_type": "execute_result"
    }
   ],
   "source": [
    "results[\"tracks\"][\"items\"][0]['album']['artists'][0][\"name\"]"
   ]
  },
  {
   "cell_type": "code",
   "execution_count": 17,
   "metadata": {},
   "outputs": [
    {
     "data": {
      "text/plain": [
       "'2TVxnKdb3tqe1nhQWwwZCO'"
      ]
     },
     "execution_count": 17,
     "metadata": {},
     "output_type": "execute_result"
    }
   ],
   "source": [
    "track_id=results[\"tracks\"][\"items\"][0][\"id\"]\n",
    "track_id"
   ]
  },
  {
   "cell_type": "markdown",
   "metadata": {},
   "source": [
    "## Embeded track player"
   ]
  },
  {
   "cell_type": "markdown",
   "metadata": {
    "id": "DLMGLXLm2e-1"
   },
   "source": [
    "{'spotify': https://open.spotify.com/track/4O2N861eOnF9q8EtpH8IJu"
   ]
  },
  {
   "cell_type": "code",
   "execution_count": 18,
   "metadata": {},
   "outputs": [
    {
     "data": {
      "text/html": [
       "\n",
       "        <iframe\n",
       "            width=\"320\"\n",
       "            height=\"80\"\n",
       "            src=\"https://open.spotify.com/embed/track/2TVxnKdb3tqe1nhQWwwZCO?frameborder=0&allowtransparency=true&allow=encrypted-media\"\n",
       "            frameborder=\"0\"\n",
       "            allowfullscreen\n",
       "            \n",
       "        ></iframe>\n",
       "        "
      ],
      "text/plain": [
       "<IPython.lib.display.IFrame at 0x10610fdc0>"
      ]
     },
     "execution_count": 18,
     "metadata": {},
     "output_type": "execute_result"
    }
   ],
   "source": [
    "from IPython.display import IFrame\n",
    "\n",
    "track_id = \"2TVxnKdb3tqe1nhQWwwZCO\"\n",
    "#track_id= 'spotify:track:3hgl7EQwTutSm6PESsB7gZ'\n",
    "IFrame(src=\"https://open.spotify.com/embed/track/\"+track_id,\n",
    "       width=\"320\",\n",
    "       height=\"80\",\n",
    "       frameborder=\"0\",\n",
    "       allowtransparency=\"true\",\n",
    "       allow=\"encrypted-media\",\n",
    "      )"
   ]
  },
  {
   "cell_type": "code",
   "execution_count": 19,
   "metadata": {},
   "outputs": [],
   "source": [
    "def play_song(track_id):\n",
    "    return IFrame(src=\"https://open.spotify.com/embed/track/\"+track_id,\n",
    "       width=\"320\",\n",
    "       height=\"80\",\n",
    "       frameborder=\"0\",\n",
    "       allowtransparency=\"true\",\n",
    "       allow=\"encrypted-media\",\n",
    "      )"
   ]
  },
  {
   "cell_type": "code",
   "execution_count": 20,
   "metadata": {},
   "outputs": [
    {
     "data": {
      "text/html": [
       "\n",
       "        <iframe\n",
       "            width=\"320\"\n",
       "            height=\"80\"\n",
       "            src=\"https://open.spotify.com/embed/track/2TVxnKdb3tqe1nhQWwwZCO?frameborder=0&allowtransparency=true&allow=encrypted-media\"\n",
       "            frameborder=\"0\"\n",
       "            allowfullscreen\n",
       "            \n",
       "        ></iframe>\n",
       "        "
      ],
      "text/plain": [
       "<IPython.lib.display.IFrame at 0x10610f6a0>"
      ]
     },
     "execution_count": 20,
     "metadata": {},
     "output_type": "execute_result"
    }
   ],
   "source": [
    "play_song(track_id)"
   ]
  },
  {
   "cell_type": "markdown",
   "metadata": {},
   "source": [
    "<b> navigating through the dictionary.."
   ]
  },
  {
   "cell_type": "code",
   "execution_count": 21,
   "metadata": {
    "colab": {
     "base_uri": "https://localhost:8080/"
    },
    "executionInfo": {
     "elapsed": 301,
     "status": "ok",
     "timestamp": 1623747137302,
     "user": {
      "displayName": "Ignacio Soteras",
      "photoUrl": "",
      "userId": "02050793736257155229"
     },
     "user_tz": -120
    },
    "id": "MGMBXO7RX4zX",
    "outputId": "7c51a5d5-6765-4198-ba53-55df9cb000fd"
   },
   "outputs": [
    {
     "data": {
      "text/plain": [
       "{'tracks': {'href': 'https://api.spotify.com/v1/search?query=tiny+dancer&type=track&market=GB&offset=0&limit=5',\n",
       "  'items': [{'album': {'album_type': 'album',\n",
       "     'artists': [{'external_urls': {'spotify': 'https://open.spotify.com/artist/3PhoLpVuITZKcymswpck5b'},\n",
       "       'href': 'https://api.spotify.com/v1/artists/3PhoLpVuITZKcymswpck5b',\n",
       "       'id': '3PhoLpVuITZKcymswpck5b',\n",
       "       'name': 'Elton John',\n",
       "       'type': 'artist',\n",
       "       'uri': 'spotify:artist:3PhoLpVuITZKcymswpck5b'}],\n",
       "     'external_urls': {'spotify': 'https://open.spotify.com/album/2OZbaW9tgO62ndm375lFZr'},\n",
       "     'href': 'https://api.spotify.com/v1/albums/2OZbaW9tgO62ndm375lFZr',\n",
       "     'id': '2OZbaW9tgO62ndm375lFZr',\n",
       "     'images': [{'height': 640,\n",
       "       'url': 'https://i.scdn.co/image/ab67616d0000b273d03ab2da904d8251a87bbc31',\n",
       "       'width': 640},\n",
       "      {'height': 300,\n",
       "       'url': 'https://i.scdn.co/image/ab67616d00001e02d03ab2da904d8251a87bbc31',\n",
       "       'width': 300},\n",
       "      {'height': 64,\n",
       "       'url': 'https://i.scdn.co/image/ab67616d00004851d03ab2da904d8251a87bbc31',\n",
       "       'width': 64}],\n",
       "     'is_playable': True,\n",
       "     'name': 'Madman Across The Water',\n",
       "     'release_date': '1971-11-05',\n",
       "     'release_date_precision': 'day',\n",
       "     'total_tracks': 9,\n",
       "     'type': 'album',\n",
       "     'uri': 'spotify:album:2OZbaW9tgO62ndm375lFZr'},\n",
       "    'artists': [{'external_urls': {'spotify': 'https://open.spotify.com/artist/3PhoLpVuITZKcymswpck5b'},\n",
       "      'href': 'https://api.spotify.com/v1/artists/3PhoLpVuITZKcymswpck5b',\n",
       "      'id': '3PhoLpVuITZKcymswpck5b',\n",
       "      'name': 'Elton John',\n",
       "      'type': 'artist',\n",
       "      'uri': 'spotify:artist:3PhoLpVuITZKcymswpck5b'}],\n",
       "    'disc_number': 1,\n",
       "    'duration_ms': 377093,\n",
       "    'explicit': False,\n",
       "    'external_ids': {'isrc': 'GBAMB7100001'},\n",
       "    'external_urls': {'spotify': 'https://open.spotify.com/track/2TVxnKdb3tqe1nhQWwwZCO'},\n",
       "    'href': 'https://api.spotify.com/v1/tracks/2TVxnKdb3tqe1nhQWwwZCO',\n",
       "    'id': '2TVxnKdb3tqe1nhQWwwZCO',\n",
       "    'is_local': False,\n",
       "    'is_playable': True,\n",
       "    'name': 'Tiny Dancer',\n",
       "    'popularity': 81,\n",
       "    'preview_url': None,\n",
       "    'track_number': 1,\n",
       "    'type': 'track',\n",
       "    'uri': 'spotify:track:2TVxnKdb3tqe1nhQWwwZCO'},\n",
       "   {'album': {'album_type': 'compilation',\n",
       "     'artists': [{'external_urls': {'spotify': 'https://open.spotify.com/artist/0LyfQWJT6nXafLPZqxe9Of'},\n",
       "       'href': 'https://api.spotify.com/v1/artists/0LyfQWJT6nXafLPZqxe9Of',\n",
       "       'id': '0LyfQWJT6nXafLPZqxe9Of',\n",
       "       'name': 'Various Artists',\n",
       "       'type': 'artist',\n",
       "       'uri': 'spotify:artist:0LyfQWJT6nXafLPZqxe9Of'}],\n",
       "     'external_urls': {'spotify': 'https://open.spotify.com/album/2w667CqWz0JWkhxP7IfijA'},\n",
       "     'href': 'https://api.spotify.com/v1/albums/2w667CqWz0JWkhxP7IfijA',\n",
       "     'id': '2w667CqWz0JWkhxP7IfijA',\n",
       "     'images': [{'height': 640,\n",
       "       'url': 'https://i.scdn.co/image/ab67616d0000b27370c8de84ff4783f90e1ebb04',\n",
       "       'width': 640},\n",
       "      {'height': 300,\n",
       "       'url': 'https://i.scdn.co/image/ab67616d00001e0270c8de84ff4783f90e1ebb04',\n",
       "       'width': 300},\n",
       "      {'height': 64,\n",
       "       'url': 'https://i.scdn.co/image/ab67616d0000485170c8de84ff4783f90e1ebb04',\n",
       "       'width': 64}],\n",
       "     'is_playable': True,\n",
       "     'name': 'Revamp: The Songs Of Elton John & Bernie Taupin',\n",
       "     'release_date': '2018-04-06',\n",
       "     'release_date_precision': 'day',\n",
       "     'total_tracks': 13,\n",
       "     'type': 'album',\n",
       "     'uri': 'spotify:album:2w667CqWz0JWkhxP7IfijA'},\n",
       "    'artists': [{'external_urls': {'spotify': 'https://open.spotify.com/artist/1moxjboGR7GNWYIMWsRjgG'},\n",
       "      'href': 'https://api.spotify.com/v1/artists/1moxjboGR7GNWYIMWsRjgG',\n",
       "      'id': '1moxjboGR7GNWYIMWsRjgG',\n",
       "      'name': 'Florence + The Machine',\n",
       "      'type': 'artist',\n",
       "      'uri': 'spotify:artist:1moxjboGR7GNWYIMWsRjgG'}],\n",
       "    'disc_number': 1,\n",
       "    'duration_ms': 361188,\n",
       "    'explicit': False,\n",
       "    'external_ids': {'isrc': 'GBUM71800109'},\n",
       "    'external_urls': {'spotify': 'https://open.spotify.com/track/69sJBJdGogAYV74hmB0ORK'},\n",
       "    'href': 'https://api.spotify.com/v1/tracks/69sJBJdGogAYV74hmB0ORK',\n",
       "    'id': '69sJBJdGogAYV74hmB0ORK',\n",
       "    'is_local': False,\n",
       "    'is_playable': True,\n",
       "    'name': 'Tiny Dancer',\n",
       "    'popularity': 57,\n",
       "    'preview_url': None,\n",
       "    'track_number': 5,\n",
       "    'type': 'track',\n",
       "    'uri': 'spotify:track:69sJBJdGogAYV74hmB0ORK'},\n",
       "   {'album': {'album_type': 'compilation',\n",
       "     'artists': [{'external_urls': {'spotify': 'https://open.spotify.com/artist/0LyfQWJT6nXafLPZqxe9Of'},\n",
       "       'href': 'https://api.spotify.com/v1/artists/0LyfQWJT6nXafLPZqxe9Of',\n",
       "       'id': '0LyfQWJT6nXafLPZqxe9Of',\n",
       "       'name': 'Various Artists',\n",
       "       'type': 'artist',\n",
       "       'uri': 'spotify:artist:0LyfQWJT6nXafLPZqxe9Of'}],\n",
       "     'external_urls': {'spotify': 'https://open.spotify.com/album/04geSaCj6lElctYUC0gFTd'},\n",
       "     'href': 'https://api.spotify.com/v1/albums/04geSaCj6lElctYUC0gFTd',\n",
       "     'id': '04geSaCj6lElctYUC0gFTd',\n",
       "     'images': [{'height': 640,\n",
       "       'url': 'https://i.scdn.co/image/ab67616d0000b273332e2632eb1275065eaab0f4',\n",
       "       'width': 640},\n",
       "      {'height': 300,\n",
       "       'url': 'https://i.scdn.co/image/ab67616d00001e02332e2632eb1275065eaab0f4',\n",
       "       'width': 300},\n",
       "      {'height': 64,\n",
       "       'url': 'https://i.scdn.co/image/ab67616d00004851332e2632eb1275065eaab0f4',\n",
       "       'width': 64}],\n",
       "     'is_playable': True,\n",
       "     'name': 'Street Nation',\n",
       "     'release_date': '2010-01-01',\n",
       "     'release_date_precision': 'day',\n",
       "     'total_tracks': 42,\n",
       "     'type': 'album',\n",
       "     'uri': 'spotify:album:04geSaCj6lElctYUC0gFTd'},\n",
       "    'artists': [{'external_urls': {'spotify': 'https://open.spotify.com/artist/1vwcHXpc5g75lakGYbUEJ3'},\n",
       "      'href': 'https://api.spotify.com/v1/artists/1vwcHXpc5g75lakGYbUEJ3',\n",
       "      'id': '1vwcHXpc5g75lakGYbUEJ3',\n",
       "      'name': 'Ironik',\n",
       "      'type': 'artist',\n",
       "      'uri': 'spotify:artist:1vwcHXpc5g75lakGYbUEJ3'},\n",
       "     {'external_urls': {'spotify': 'https://open.spotify.com/artist/0tJCNteqwm7LmRZ6KWr8GT'},\n",
       "      'href': 'https://api.spotify.com/v1/artists/0tJCNteqwm7LmRZ6KWr8GT',\n",
       "      'id': '0tJCNteqwm7LmRZ6KWr8GT',\n",
       "      'name': 'Chip',\n",
       "      'type': 'artist',\n",
       "      'uri': 'spotify:artist:0tJCNteqwm7LmRZ6KWr8GT'},\n",
       "     {'external_urls': {'spotify': 'https://open.spotify.com/artist/3PhoLpVuITZKcymswpck5b'},\n",
       "      'href': 'https://api.spotify.com/v1/artists/3PhoLpVuITZKcymswpck5b',\n",
       "      'id': '3PhoLpVuITZKcymswpck5b',\n",
       "      'name': 'Elton John',\n",
       "      'type': 'artist',\n",
       "      'uri': 'spotify:artist:3PhoLpVuITZKcymswpck5b'}],\n",
       "    'disc_number': 2,\n",
       "    'duration_ms': 203880,\n",
       "    'explicit': False,\n",
       "    'external_ids': {'isrc': 'GBAHS0900055'},\n",
       "    'external_urls': {'spotify': 'https://open.spotify.com/track/0FuqFjaEuOLfeq1gn7kJbq'},\n",
       "    'href': 'https://api.spotify.com/v1/tracks/0FuqFjaEuOLfeq1gn7kJbq',\n",
       "    'id': '0FuqFjaEuOLfeq1gn7kJbq',\n",
       "    'is_local': False,\n",
       "    'is_playable': True,\n",
       "    'name': 'Tiny Dancer (Hold Me Closer)',\n",
       "    'popularity': 39,\n",
       "    'preview_url': None,\n",
       "    'track_number': 9,\n",
       "    'type': 'track',\n",
       "    'uri': 'spotify:track:0FuqFjaEuOLfeq1gn7kJbq'},\n",
       "   {'album': {'album_type': 'album',\n",
       "     'artists': [{'external_urls': {'spotify': 'https://open.spotify.com/artist/3PhoLpVuITZKcymswpck5b'},\n",
       "       'href': 'https://api.spotify.com/v1/artists/3PhoLpVuITZKcymswpck5b',\n",
       "       'id': '3PhoLpVuITZKcymswpck5b',\n",
       "       'name': 'Elton John',\n",
       "       'type': 'artist',\n",
       "       'uri': 'spotify:artist:3PhoLpVuITZKcymswpck5b'},\n",
       "      {'external_urls': {'spotify': 'https://open.spotify.com/artist/5nwjcZ87CGNRiO98nFKdOD'},\n",
       "       'href': 'https://api.spotify.com/v1/artists/5nwjcZ87CGNRiO98nFKdOD',\n",
       "       'id': '5nwjcZ87CGNRiO98nFKdOD',\n",
       "       'name': 'Taron Egerton',\n",
       "       'type': 'artist',\n",
       "       'uri': 'spotify:artist:5nwjcZ87CGNRiO98nFKdOD'}],\n",
       "     'external_urls': {'spotify': 'https://open.spotify.com/album/16iIPsnAjGZea8TeOCzeN8'},\n",
       "     'href': 'https://api.spotify.com/v1/albums/16iIPsnAjGZea8TeOCzeN8',\n",
       "     'id': '16iIPsnAjGZea8TeOCzeN8',\n",
       "     'images': [{'height': 640,\n",
       "       'url': 'https://i.scdn.co/image/ab67616d0000b273c02dee749826fbc58abcb8c5',\n",
       "       'width': 640},\n",
       "      {'height': 300,\n",
       "       'url': 'https://i.scdn.co/image/ab67616d00001e02c02dee749826fbc58abcb8c5',\n",
       "       'width': 300},\n",
       "      {'height': 64,\n",
       "       'url': 'https://i.scdn.co/image/ab67616d00004851c02dee749826fbc58abcb8c5',\n",
       "       'width': 64}],\n",
       "     'is_playable': True,\n",
       "     'name': 'Rocketman (Music From The Motion Picture)',\n",
       "     'release_date': '2019-05-24',\n",
       "     'release_date_precision': 'day',\n",
       "     'total_tracks': 22,\n",
       "     'type': 'album',\n",
       "     'uri': 'spotify:album:16iIPsnAjGZea8TeOCzeN8'},\n",
       "    'artists': [{'external_urls': {'spotify': 'https://open.spotify.com/artist/5nwjcZ87CGNRiO98nFKdOD'},\n",
       "      'href': 'https://api.spotify.com/v1/artists/5nwjcZ87CGNRiO98nFKdOD',\n",
       "      'id': '5nwjcZ87CGNRiO98nFKdOD',\n",
       "      'name': 'Taron Egerton',\n",
       "      'type': 'artist',\n",
       "      'uri': 'spotify:artist:5nwjcZ87CGNRiO98nFKdOD'}],\n",
       "    'disc_number': 1,\n",
       "    'duration_ms': 324706,\n",
       "    'explicit': False,\n",
       "    'external_ids': {'isrc': 'USKLP1900074'},\n",
       "    'external_urls': {'spotify': 'https://open.spotify.com/track/6qaPwYZAJgvyf6l7f7rfUo'},\n",
       "    'href': 'https://api.spotify.com/v1/tracks/6qaPwYZAJgvyf6l7f7rfUo',\n",
       "    'id': '6qaPwYZAJgvyf6l7f7rfUo',\n",
       "    'is_local': False,\n",
       "    'is_playable': True,\n",
       "    'name': 'Tiny Dancer',\n",
       "    'popularity': 50,\n",
       "    'preview_url': None,\n",
       "    'track_number': 10,\n",
       "    'type': 'track',\n",
       "    'uri': 'spotify:track:6qaPwYZAJgvyf6l7f7rfUo'},\n",
       "   {'album': {'album_type': 'single',\n",
       "     'artists': [{'external_urls': {'spotify': 'https://open.spotify.com/artist/3PhoLpVuITZKcymswpck5b'},\n",
       "       'href': 'https://api.spotify.com/v1/artists/3PhoLpVuITZKcymswpck5b',\n",
       "       'id': '3PhoLpVuITZKcymswpck5b',\n",
       "       'name': 'Elton John',\n",
       "       'type': 'artist',\n",
       "       'uri': 'spotify:artist:3PhoLpVuITZKcymswpck5b'},\n",
       "      {'external_urls': {'spotify': 'https://open.spotify.com/artist/26dSoYclwsYLMAKD3tpOr4'},\n",
       "       'href': 'https://api.spotify.com/v1/artists/26dSoYclwsYLMAKD3tpOr4',\n",
       "       'id': '26dSoYclwsYLMAKD3tpOr4',\n",
       "       'name': 'Britney Spears',\n",
       "       'type': 'artist',\n",
       "       'uri': 'spotify:artist:26dSoYclwsYLMAKD3tpOr4'}],\n",
       "     'external_urls': {'spotify': 'https://open.spotify.com/album/4QQWpCEX4BxMXwRQmtkKY6'},\n",
       "     'href': 'https://api.spotify.com/v1/albums/4QQWpCEX4BxMXwRQmtkKY6',\n",
       "     'id': '4QQWpCEX4BxMXwRQmtkKY6',\n",
       "     'images': [{'height': 640,\n",
       "       'url': 'https://i.scdn.co/image/ab67616d0000b2735d872e7b0c1ba964541f07e8',\n",
       "       'width': 640},\n",
       "      {'height': 300,\n",
       "       'url': 'https://i.scdn.co/image/ab67616d00001e025d872e7b0c1ba964541f07e8',\n",
       "       'width': 300},\n",
       "      {'height': 64,\n",
       "       'url': 'https://i.scdn.co/image/ab67616d000048515d872e7b0c1ba964541f07e8',\n",
       "       'width': 64}],\n",
       "     'is_playable': True,\n",
       "     'name': 'Hold Me Closer',\n",
       "     'release_date': '2022-08-26',\n",
       "     'release_date_precision': 'day',\n",
       "     'total_tracks': 1,\n",
       "     'type': 'album',\n",
       "     'uri': 'spotify:album:4QQWpCEX4BxMXwRQmtkKY6'},\n",
       "    'artists': [{'external_urls': {'spotify': 'https://open.spotify.com/artist/3PhoLpVuITZKcymswpck5b'},\n",
       "      'href': 'https://api.spotify.com/v1/artists/3PhoLpVuITZKcymswpck5b',\n",
       "      'id': '3PhoLpVuITZKcymswpck5b',\n",
       "      'name': 'Elton John',\n",
       "      'type': 'artist',\n",
       "      'uri': 'spotify:artist:3PhoLpVuITZKcymswpck5b'},\n",
       "     {'external_urls': {'spotify': 'https://open.spotify.com/artist/26dSoYclwsYLMAKD3tpOr4'},\n",
       "      'href': 'https://api.spotify.com/v1/artists/26dSoYclwsYLMAKD3tpOr4',\n",
       "      'id': '26dSoYclwsYLMAKD3tpOr4',\n",
       "      'name': 'Britney Spears',\n",
       "      'type': 'artist',\n",
       "      'uri': 'spotify:artist:26dSoYclwsYLMAKD3tpOr4'}],\n",
       "    'disc_number': 1,\n",
       "    'duration_ms': 202245,\n",
       "    'explicit': False,\n",
       "    'external_ids': {'isrc': 'GBUM72205030'},\n",
       "    'external_urls': {'spotify': 'https://open.spotify.com/track/72yP0DUlWPyH8P7IoxskwN'},\n",
       "    'href': 'https://api.spotify.com/v1/tracks/72yP0DUlWPyH8P7IoxskwN',\n",
       "    'id': '72yP0DUlWPyH8P7IoxskwN',\n",
       "    'is_local': False,\n",
       "    'is_playable': True,\n",
       "    'name': 'Hold Me Closer',\n",
       "    'popularity': 82,\n",
       "    'preview_url': None,\n",
       "    'track_number': 1,\n",
       "    'type': 'track',\n",
       "    'uri': 'spotify:track:72yP0DUlWPyH8P7IoxskwN'}],\n",
       "  'limit': 5,\n",
       "  'next': 'https://api.spotify.com/v1/search?query=tiny+dancer&type=track&market=GB&offset=5&limit=5',\n",
       "  'offset': 0,\n",
       "  'previous': None,\n",
       "  'total': 343}}"
      ]
     },
     "execution_count": 21,
     "metadata": {},
     "output_type": "execute_result"
    }
   ],
   "source": [
    "results"
   ]
  },
  {
   "cell_type": "code",
   "execution_count": 22,
   "metadata": {
    "colab": {
     "base_uri": "https://localhost:8080/"
    },
    "executionInfo": {
     "elapsed": 286,
     "status": "ok",
     "timestamp": 1623747145364,
     "user": {
      "displayName": "Ignacio Soteras",
      "photoUrl": "",
      "userId": "02050793736257155229"
     },
     "user_tz": -120
    },
    "id": "WcH0WXJ3X97h",
    "outputId": "9c300954-c083-4ee4-a0d0-8004825809d6"
   },
   "outputs": [
    {
     "data": {
      "text/plain": [
       "dict_keys(['album', 'artists', 'disc_number', 'duration_ms', 'explicit', 'external_ids', 'external_urls', 'href', 'id', 'is_local', 'is_playable', 'name', 'popularity', 'preview_url', 'track_number', 'type', 'uri'])"
      ]
     },
     "execution_count": 22,
     "metadata": {},
     "output_type": "execute_result"
    }
   ],
   "source": [
    "results['tracks'][\"items\"][0].keys()"
   ]
  },
  {
   "cell_type": "markdown",
   "metadata": {},
   "source": [
    "<b> more readable version"
   ]
  },
  {
   "cell_type": "code",
   "execution_count": null,
   "metadata": {
    "colab": {
     "base_uri": "https://localhost:8080/"
    },
    "executionInfo": {
     "elapsed": 371,
     "status": "ok",
     "timestamp": 1623747326810,
     "user": {
      "displayName": "Ignacio Soteras",
      "photoUrl": "",
      "userId": "02050793736257155229"
     },
     "user_tz": -120
    },
    "id": "7zpZOuf74E3B",
    "outputId": "c6ea41eb-d414-41a7-d7aa-eb33dfd29823"
   },
   "outputs": [],
   "source": [
    "import pprint\n",
    "\n",
    "pprint.pprint(results)"
   ]
  },
  {
   "cell_type": "code",
   "execution_count": null,
   "metadata": {
    "colab": {
     "base_uri": "https://localhost:8080/"
    },
    "executionInfo": {
     "elapsed": 350,
     "status": "ok",
     "timestamp": 1623747150633,
     "user": {
      "displayName": "Ignacio Soteras",
      "photoUrl": "",
      "userId": "02050793736257155229"
     },
     "user_tz": -120
    },
    "id": "K975xBBkrehs",
    "outputId": "03ba1f52-1811-4154-da75-7034362d7e44"
   },
   "outputs": [],
   "source": [
    "len(results['tracks']['items'])"
   ]
  },
  {
   "cell_type": "code",
   "execution_count": null,
   "metadata": {
    "colab": {
     "base_uri": "https://localhost:8080/"
    },
    "executionInfo": {
     "elapsed": 311,
     "status": "ok",
     "timestamp": 1623747419610,
     "user": {
      "displayName": "Ignacio Soteras",
      "photoUrl": "",
      "userId": "02050793736257155229"
     },
     "user_tz": -120
    },
    "id": "1WsGXXCvYgo9",
    "outputId": "424f7111-f212-43ca-dd36-6a054bbc0a49"
   },
   "outputs": [],
   "source": [
    "results['tracks']['items'][0].keys()"
   ]
  },
  {
   "cell_type": "markdown",
   "metadata": {},
   "source": [
    "<b> getting the track id"
   ]
  },
  {
   "cell_type": "code",
   "execution_count": null,
   "metadata": {
    "colab": {
     "base_uri": "https://localhost:8080/",
     "height": 35
    },
    "executionInfo": {
     "elapsed": 8,
     "status": "ok",
     "timestamp": 1623747420976,
     "user": {
      "displayName": "Ignacio Soteras",
      "photoUrl": "",
      "userId": "02050793736257155229"
     },
     "user_tz": -120
    },
    "id": "-s66JnDcYrQ4",
    "outputId": "0745b73d-f912-4618-e28f-b22f70c40e4d"
   },
   "outputs": [],
   "source": [
    "results['tracks']['items'][0]['id']"
   ]
  },
  {
   "cell_type": "code",
   "execution_count": null,
   "metadata": {
    "colab": {
     "base_uri": "https://localhost:8080/"
    },
    "executionInfo": {
     "elapsed": 330,
     "status": "ok",
     "timestamp": 1623747443303,
     "user": {
      "displayName": "Ignacio Soteras",
      "photoUrl": "",
      "userId": "02050793736257155229"
     },
     "user_tz": -120
    },
    "id": "Pe8hlEUPYu3a",
    "outputId": "57786b5a-1877-44a6-9249-72cec7204733"
   },
   "outputs": [],
   "source": [
    "for item in results['tracks']['items']:\n",
    "    print(\"The name of song is: '{}' and the id is: {}\".format(item['name'],item[\"id\"]))"
   ]
  },
  {
   "cell_type": "code",
   "execution_count": null,
   "metadata": {
    "colab": {
     "base_uri": "https://localhost:8080/",
     "height": 153
    },
    "executionInfo": {
     "elapsed": 343,
     "status": "ok",
     "timestamp": 1623748010778,
     "user": {
      "displayName": "Ignacio Soteras",
      "photoUrl": "",
      "userId": "02050793736257155229"
     },
     "user_tz": -120
    },
    "id": "ae3ey51ldj22",
    "outputId": "e12d9994-b937-4c19-f40c-2c594ed79c48",
    "scrolled": true
   },
   "outputs": [],
   "source": [
    "import pandas as pd\n",
    "\n",
    "song = sp.search(q=\"Bad Guy\", limit=20,market=\"GB\") \n",
    "song"
   ]
  },
  {
   "cell_type": "code",
   "execution_count": null,
   "metadata": {},
   "outputs": [],
   "source": [
    "song[\"tracks\"][\"items\"][2]"
   ]
  },
  {
   "cell_type": "code",
   "execution_count": null,
   "metadata": {},
   "outputs": [],
   "source": [
    "#pprint.pprint(song['tracks']['items'][0]['uri'])\n",
    "song[\"tracks\"][\"items\"][0][\"uri\"]"
   ]
  },
  {
   "cell_type": "markdown",
   "metadata": {
    "id": "wlYAUHZMGEPp"
   },
   "source": [
    "# Understanding the json"
   ]
  },
  {
   "cell_type": "markdown",
   "metadata": {
    "id": "PSk_-FAqDW4q"
   },
   "source": [
    "Understanding the hierachy of a JSON can make you mad. Therefore you can cosider using some online pages where you can paste your JSON file and see the \"tree\" structure of the file.\n",
    "\n",
    "https://codebeautify.org/jsonviewer\n",
    "\n",
    "So, copy the json output from the previous query and paste it on the website's left panel. On the right panel you will be able to see the hierachy of the json file."
   ]
  },
  {
   "cell_type": "markdown",
   "metadata": {
    "id": "TB8tYM3KEZSx"
   },
   "source": [
    "Let's get used to the json at hand."
   ]
  },
  {
   "cell_type": "code",
   "execution_count": null,
   "metadata": {
    "colab": {
     "base_uri": "https://localhost:8080/"
    },
    "executionInfo": {
     "elapsed": 336,
     "status": "ok",
     "timestamp": 1623748232522,
     "user": {
      "displayName": "Ignacio Soteras",
      "photoUrl": "",
      "userId": "02050793736257155229"
     },
     "user_tz": -120
    },
    "id": "gQzoV9fjEbm6",
    "outputId": "0747fac5-b2f5-44a0-a9cd-393ed3196cbf",
    "scrolled": true
   },
   "outputs": [],
   "source": [
    "print(\"The json file has the following keys: \",list(results.keys())) # We can see that we only have tracks\n",
    "print(\"The 'tracks' key has the following child keys: \",list(results[\"tracks\"].keys())) # Let's check the values\n",
    "print(\"The query we made is: \",results[\"tracks\"][\"href\"]) # Query we have searched \n",
    "print(\"The song's info is contained in: \",results[\"tracks\"][\"items\"]) #items (actual tracks)\n",
    "print(\"The limit of the query we've made is: \",results[\"tracks\"][\"limit\"]) #Limit we have chosen\n",
    "print(\"The next page if any: \",results[\"tracks\"][\"next\"]) #link to the next page (next 50 tracks)\n",
    "print(\"The starting webpage: \",results[\"tracks\"][\"offset\"]) # Actual offset (starting point)\n",
    "print(\"Starting webpage: \",results[\"tracks\"][\"previous\"]) #Previous search\n",
    "print(\"Total number of results: \",results[\"tracks\"][\"total\"]) # Number of matches"
   ]
  },
  {
   "cell_type": "markdown",
   "metadata": {
    "id": "ztXFl2wtGpBI"
   },
   "source": [
    "## Checking albums"
   ]
  },
  {
   "cell_type": "code",
   "execution_count": null,
   "metadata": {
    "colab": {
     "base_uri": "https://localhost:8080/"
    },
    "executionInfo": {
     "elapsed": 285,
     "status": "ok",
     "timestamp": 1623748499833,
     "user": {
      "displayName": "Ignacio Soteras",
      "photoUrl": "",
      "userId": "02050793736257155229"
     },
     "user_tz": -120
    },
    "id": "GHbz4J3JGrph",
    "outputId": "5a2bd5c0-4aab-43a0-b38d-c7885a2e2241"
   },
   "outputs": [],
   "source": [
    "print(results[\"tracks\"][\"items\"][0][\"album\"]) # we have more info about the album\n",
    "print(\"****************\\n\")\n",
    "print(list(results[\"tracks\"][\"items\"][0][\"album\"].keys())) # Will check artists, id, name, release date, total tracks \n",
    "print(\"****************\\n\")\n",
    "print(results[\"tracks\"][\"items\"][0][\"album\"][\"artists\"]) # List with artists and information\n",
    "print(\"****************\\n\")\n",
    "print(\"The album ID is: \",results[\"tracks\"][\"items\"][0][\"album\"][\"id\"]) # Album ID \n",
    "print(\"****************\\n\")\n",
    "print(results[\"tracks\"][\"items\"][0][\"album\"][\"name\"]) # Album name (if its a single u'll get the name of the song)"
   ]
  },
  {
   "cell_type": "markdown",
   "metadata": {
    "id": "ma33RhJ3GyyD"
   },
   "source": [
    "## Other Info"
   ]
  },
  {
   "cell_type": "code",
   "execution_count": null,
   "metadata": {
    "colab": {
     "base_uri": "https://localhost:8080/",
     "height": 35
    },
    "executionInfo": {
     "elapsed": 314,
     "status": "ok",
     "timestamp": 1623748532709,
     "user": {
      "displayName": "Ignacio Soteras",
      "photoUrl": "",
      "userId": "02050793736257155229"
     },
     "user_tz": -120
    },
    "id": "rpRcNkuhG1Ht",
    "outputId": "bb6cc417-17bd-404f-d31c-302a97bf9ffe"
   },
   "outputs": [],
   "source": [
    "results[\"tracks\"][\"items\"][0][\"artists\"] # Track artists\n",
    "results[\"tracks\"][\"items\"][0][\"id\"] # Track ID\n",
    "results[\"tracks\"][\"items\"][0][\"name\"] # Track name\n",
    "results[\"tracks\"][\"items\"][0][\"popularity\"] # Popularity index\n",
    "results[\"tracks\"][\"items\"][0][\"uri\"] # Basically ID"
   ]
  },
  {
   "cell_type": "markdown",
   "metadata": {},
   "source": [
    "# Getting the Audio feature of a song"
   ]
  },
  {
   "cell_type": "code",
   "execution_count": null,
   "metadata": {},
   "outputs": [],
   "source": [
    "results[\"tracks\"][\"items\"][0][\"id\"]"
   ]
  },
  {
   "cell_type": "code",
   "execution_count": null,
   "metadata": {},
   "outputs": [],
   "source": [
    "sp.audio_features(results[\"tracks\"][\"items\"][0][\"id\"] )"
   ]
  },
  {
   "cell_type": "code",
   "execution_count": null,
   "metadata": {},
   "outputs": [],
   "source": [
    "## example of bethoven song\n",
    "sp.audio_features('2TVxnKdb3tqe1nhQWwwZCO')"
   ]
  },
  {
   "cell_type": "code",
   "execution_count": null,
   "metadata": {},
   "outputs": [],
   "source": [
    "play_song('2TVxnKdb3tqe1nhQWwwZCO')"
   ]
  },
  {
   "cell_type": "markdown",
   "metadata": {},
   "source": [
    "## building Data frame of audio features"
   ]
  },
  {
   "cell_type": "code",
   "execution_count": null,
   "metadata": {},
   "outputs": [],
   "source": [
    "sp.audio_features(song[\"tracks\"][\"items\"][0][\"uri\"])"
   ]
  },
  {
   "cell_type": "code",
   "execution_count": null,
   "metadata": {},
   "outputs": [],
   "source": [
    "#my_dict = sp.audio_features(song[\"tracks\"][\"items\"][0][\"uri\"])[0] # you can provide a list of uri's\n",
    "\n",
    "list_of_songs=[]\n",
    "for index in range(0,len(song[\"tracks\"][\"items\"])):\n",
    "    list_of_songs.append(sp.audio_features(song[\"tracks\"][\"items\"][index][\"uri\"])[0])\n",
    "df=pd.DataFrame(list_of_songs)    \n",
    "df=df[[\"danceability\",\"energy\",\"loudness\",\"speechiness\",\"acousticness\",\n",
    "    \"instrumentalness\",\"liveness\",\"valence\",\"tempo\",\"id\",\"duration_ms\"]]\n",
    "\n",
    "df"
   ]
  },
  {
   "cell_type": "markdown",
   "metadata": {
    "id": "ZdgnthLDIDUz"
   },
   "source": [
    "## Searching a playlist"
   ]
  },
  {
   "cell_type": "code",
   "execution_count": null,
   "metadata": {},
   "outputs": [],
   "source": [
    "37i9dQZF1DZ06evO2A96G4"
   ]
  },
  {
   "cell_type": "code",
   "execution_count": null,
   "metadata": {
    "executionInfo": {
     "elapsed": 287,
     "status": "ok",
     "timestamp": 1623748573692,
     "user": {
      "displayName": "Ignacio Soteras",
      "photoUrl": "",
      "userId": "02050793736257155229"
     },
     "user_tz": -120
    },
    "id": "QFNoaLUpIAVg"
   },
   "outputs": [],
   "source": [
    "playlist = sp.user_playlist_tracks(\"spotify\", \"37i9dQZF1DZ06evO2A96G4\",market=\"GB\")"
   ]
  },
  {
   "cell_type": "code",
   "execution_count": null,
   "metadata": {},
   "outputs": [],
   "source": [
    "type(playlist)"
   ]
  },
  {
   "cell_type": "code",
   "execution_count": null,
   "metadata": {},
   "outputs": [],
   "source": [
    "playlist.keys()"
   ]
  },
  {
   "cell_type": "code",
   "execution_count": null,
   "metadata": {
    "colab": {
     "base_uri": "https://localhost:8080/"
    },
    "executionInfo": {
     "elapsed": 4,
     "status": "ok",
     "timestamp": 1623748576469,
     "user": {
      "displayName": "Ignacio Soteras",
      "photoUrl": "",
      "userId": "02050793736257155229"
     },
     "user_tz": -120
    },
    "id": "hEmemxE9oDwa",
    "outputId": "fb5cd5d8-df90-45b9-e083-0fc52307b408"
   },
   "outputs": [],
   "source": [
    "playlist[\"items\"][0]"
   ]
  },
  {
   "cell_type": "markdown",
   "metadata": {},
   "source": [
    "## extracting a song from playlist"
   ]
  },
  {
   "cell_type": "code",
   "execution_count": null,
   "metadata": {},
   "outputs": [],
   "source": [
    "pprint.pprint(playlist)"
   ]
  },
  {
   "cell_type": "code",
   "execution_count": null,
   "metadata": {},
   "outputs": [],
   "source": [
    "playlist[\"items\"][0][\"track\"][\"id\"]"
   ]
  },
  {
   "cell_type": "code",
   "execution_count": null,
   "metadata": {},
   "outputs": [],
   "source": [
    "play_song(playlist[\"items\"][0][\"track\"][\"id\"])"
   ]
  },
  {
   "cell_type": "code",
   "execution_count": null,
   "metadata": {
    "colab": {
     "base_uri": "https://localhost:8080/"
    },
    "executionInfo": {
     "elapsed": 363,
     "status": "ok",
     "timestamp": 1623748609799,
     "user": {
      "displayName": "Ignacio Soteras",
      "photoUrl": "",
      "userId": "02050793736257155229"
     },
     "user_tz": -120
    },
    "id": "wG-PfUCEIKvy",
    "outputId": "2c5135b8-7fa6-4f4f-c4d9-a35ed4f949d0"
   },
   "outputs": [],
   "source": [
    "print(list(playlist.keys())) # Let's look at items and total:\n",
    "print(\"Total number of songs in the playlist: \",playlist[\"total\"]) #  Let's check items:\n",
    "len(playlist[\"items\"]) # It is limited to 100 tracks, we will have to fix it:"
   ]
  },
  {
   "cell_type": "markdown",
   "metadata": {
    "id": "8gIIuaAAIhQi"
   },
   "source": [
    "## Extracting the songs of a playlist"
   ]
  },
  {
   "cell_type": "markdown",
   "metadata": {
    "id": "vmwZa11wjBM6"
   },
   "source": [
    "Pagination using \"next\"\n",
    "When you collect songs from a playlist using sp.playlist_tracks, you're limited by the limit parameter, which has a maximum (and default) value of 100. When the playlist has more than 100 songs, you have to collect them by navigating through the \"pages\" of the results.\n",
    "\n",
    "The parameter offset allows you to retrieve resuls starting at a certain position: if you start at position 101, you'd get the next \"page\" of results. An offset of 201 would give you the third page, and so on.\n",
    "\n",
    "The function sp.next() does the same, but in a simpler way: it can be used on the results from any request to directly retrieve the results for the next page.\n",
    "\n",
    "We can check whether there's a next page or not by accessing the key next on the results from any request."
   ]
  },
  {
   "cell_type": "code",
   "execution_count": null,
   "metadata": {},
   "outputs": [],
   "source": [
    "pprint.pprint(results)"
   ]
  },
  {
   "cell_type": "code",
   "execution_count": null,
   "metadata": {},
   "outputs": [],
   "source": [
    "results"
   ]
  },
  {
   "cell_type": "code",
   "execution_count": null,
   "metadata": {
    "colab": {
     "base_uri": "https://localhost:8080/",
     "output_embedded_package_id": "11lmL6TaP4CJpfs0sN7EJh5tcgfZk9V36"
    },
    "executionInfo": {
     "elapsed": 13594,
     "status": "ok",
     "timestamp": 1623748845508,
     "user": {
      "displayName": "Ignacio Soteras",
      "photoUrl": "",
      "userId": "02050793736257155229"
     },
     "user_tz": -120
    },
    "id": "xL2er8hRIl_S",
    "outputId": "d0450533-db51-412d-8d20-43634781280a",
    "scrolled": true
   },
   "outputs": [],
   "source": [
    "def get_playlist_tracks(username, playlist_id):\n",
    "    results = sp.user_playlist_tracks(username,playlist_id,market=\"GB\")\n",
    "    tracks = results['items']\n",
    "    while results['next']:\n",
    "        results = sp.next(results)\n",
    "        tracks.extend(results['items'])\n",
    "    return results"
   ]
  },
  {
   "cell_type": "code",
   "execution_count": null,
   "metadata": {},
   "outputs": [],
   "source": [
    "tracks=get_playlist_tracks('spotify','37i9dQZF1DZ06evO2A96G4')"
   ]
  },
  {
   "cell_type": "code",
   "execution_count": null,
   "metadata": {
    "scrolled": true
   },
   "outputs": [],
   "source": [
    "tracks=get_playlist_tracks(\"spotify\", \"4rnleEAOdmFAbRcNCgZMpY\")"
   ]
  },
  {
   "cell_type": "code",
   "execution_count": null,
   "metadata": {},
   "outputs": [],
   "source": [
    "tracks"
   ]
  },
  {
   "cell_type": "markdown",
   "metadata": {},
   "source": [
    "## extracting the songs ids from playlist"
   ]
  },
  {
   "cell_type": "code",
   "execution_count": null,
   "metadata": {},
   "outputs": [],
   "source": [
    "list_of_audio_features = []"
   ]
  },
  {
   "cell_type": "code",
   "execution_count": null,
   "metadata": {},
   "outputs": [],
   "source": [
    "list_of_audio_features.append(sp.audio_features(tracks['items'][0][\"track\"][\"id\"]))"
   ]
  },
  {
   "cell_type": "code",
   "execution_count": null,
   "metadata": {},
   "outputs": [],
   "source": [
    "sp.audio_features(tracks['items'][0][\"track\"][\"id\"])"
   ]
  },
  {
   "cell_type": "code",
   "execution_count": null,
   "metadata": {},
   "outputs": [],
   "source": [
    "sp.audio_features(tracks['items'][1][\"track\"][\"id\"])"
   ]
  },
  {
   "cell_type": "code",
   "execution_count": null,
   "metadata": {},
   "outputs": [],
   "source": [
    "list_of_audio_features=[]\n",
    "for item in range(0,10):\n",
    "    #print (tracks[item][\"track\"][\"id\"])\n",
    "    list_of_audio_features.append(sp.audio_features(tracks['items'][item][\"track\"][\"id\"])[0])"
   ]
  },
  {
   "cell_type": "code",
   "execution_count": null,
   "metadata": {},
   "outputs": [],
   "source": [
    "list_of_audio_features"
   ]
  },
  {
   "cell_type": "code",
   "execution_count": null,
   "metadata": {
    "scrolled": true
   },
   "outputs": [],
   "source": [
    "df=pd.DataFrame(list_of_audio_features)    \n",
    "df=df[[\"danceability\",\"energy\",\"loudness\",\"speechiness\",\"acousticness\",\n",
    "    \"instrumentalness\",\"liveness\",\"valence\",\"tempo\",\"id\",\"duration_ms\"]]\n",
    "\n",
    "df"
   ]
  },
  {
   "cell_type": "markdown",
   "metadata": {},
   "source": [
    "## Optional(Extra)"
   ]
  },
  {
   "cell_type": "markdown",
   "metadata": {
    "id": "0tlqOKWCJDq1"
   },
   "source": [
    "## Getting the artists of the playlist "
   ]
  },
  {
   "cell_type": "code",
   "execution_count": null,
   "metadata": {
    "executionInfo": {
     "elapsed": 410,
     "status": "ok",
     "timestamp": 1623748940470,
     "user": {
      "displayName": "Ignacio Soteras",
      "photoUrl": "",
      "userId": "02050793736257155229"
     },
     "user_tz": -120
    },
    "id": "idbmLYT7qTCG"
   },
   "outputs": [],
   "source": [
    "def get_artists_from_track(track):\n",
    "    return [artist[\"name\"] for artist in track[\"artists\"]]"
   ]
  },
  {
   "cell_type": "code",
   "execution_count": null,
   "metadata": {
    "executionInfo": {
     "elapsed": 278,
     "status": "ok",
     "timestamp": 1623748991105,
     "user": {
      "displayName": "Ignacio Soteras",
      "photoUrl": "",
      "userId": "02050793736257155229"
     },
     "user_tz": -120
    },
    "id": "VBm6PWerJH6A"
   },
   "outputs": [],
   "source": [
    "def get_artists_from_playlist(playlist_id):\n",
    "    tracks_from_playlist = get_playlist_tracks(\"spotify\", playlist_id)\n",
    "    return list(set(artist for subset in [get_artists_from_track(track[\"track\"]) for track in tracks_from_playlist] for artist in subset))"
   ]
  },
  {
   "cell_type": "code",
   "execution_count": null,
   "metadata": {
    "colab": {
     "base_uri": "https://localhost:8080/"
    },
    "executionInfo": {
     "elapsed": 8072,
     "status": "ok",
     "timestamp": 1623749004146,
     "user": {
      "displayName": "Ignacio Soteras",
      "photoUrl": "",
      "userId": "02050793736257155229"
     },
     "user_tz": -120
    },
    "id": "vMADuNRjCzYW",
    "outputId": "8ed416b0-c989-440f-a7b2-a51ea90177d9"
   },
   "outputs": [],
   "source": [
    "get_artists_from_playlist(\"4rnleEAOdmFAbRcNCgZMpY\")"
   ]
  },
  {
   "cell_type": "markdown",
   "metadata": {
    "id": "MBq_6MslLqN1"
   },
   "source": [
    "# Getting albums "
   ]
  },
  {
   "cell_type": "markdown",
   "metadata": {
    "id": "flAFNc16L7UA"
   },
   "source": [
    "In this section we will work with albums to extract information. We will start by extracting all the albums of an artist."
   ]
  },
  {
   "cell_type": "code",
   "execution_count": null,
   "metadata": {
    "executionInfo": {
     "elapsed": 338,
     "status": "ok",
     "timestamp": 1623749616116,
     "user": {
      "displayName": "Ignacio Soteras",
      "photoUrl": "",
      "userId": "02050793736257155229"
     },
     "user_tz": -120
    },
    "id": "aYMfWpqSL8cv"
   },
   "outputs": [],
   "source": [
    "def get_albums_from_artist(artist_id):\n",
    "    results = sp.artist_albums(artist_id, limit = 50,country=\"GB\")\n",
    "    tracks = results['items']\n",
    "    while results['next']:\n",
    "        results = sp.next(results)\n",
    "        tracks.extend(results['items'])\n",
    "    return tracks\n",
    "\n",
    "# Same for albums ids\n",
    "def get_album_ids_from_artist(artist_id):\n",
    "    results = sp.artist_albums(artist_id, limit = 50)\n",
    "    tracks = results['items']\n",
    "    while results['next']:\n",
    "        results = sp.next(results)\n",
    "        tracks.extend(results['items'])\n",
    "    return [track[\"id\"] for track in tracks]"
   ]
  },
  {
   "cell_type": "markdown",
   "metadata": {
    "id": "W4DVUzVGMBmY"
   },
   "source": [
    "Example: Coldplay"
   ]
  },
  {
   "cell_type": "code",
   "execution_count": null,
   "metadata": {
    "colab": {
     "base_uri": "https://localhost:8080/"
    },
    "executionInfo": {
     "elapsed": 2439,
     "status": "ok",
     "timestamp": 1623749664870,
     "user": {
      "displayName": "Ignacio Soteras",
      "photoUrl": "",
      "userId": "02050793736257155229"
     },
     "user_tz": -120
    },
    "id": "TIl4480OMDe2",
    "outputId": "7d894d55-79d9-4fa9-8773-ec4d399d2d02"
   },
   "outputs": [],
   "source": [
    "coldplay_id = \"4gzpq5DPGxSnKTe4SA8HAU\"\n",
    "coldplay_albums = get_albums_from_artist(coldplay_id)\n",
    "coldplay_album_ids = get_album_ids_from_artist(coldplay_id)\n",
    "\n",
    "# Check artists that played with coldplay\n",
    "set([artist[\"name\"] for track in coldplay_albums for artist in track[\"artists\"]])"
   ]
  },
  {
   "cell_type": "markdown",
   "metadata": {
    "id": "ljaglNRvMTL5"
   },
   "source": [
    "## Getting the songs of a given album"
   ]
  },
  {
   "cell_type": "code",
   "execution_count": null,
   "metadata": {
    "executionInfo": {
     "elapsed": 531,
     "status": "ok",
     "timestamp": 1623749740975,
     "user": {
      "displayName": "Ignacio Soteras",
      "photoUrl": "",
      "userId": "02050793736257155229"
     },
     "user_tz": -120
    },
    "id": "q3wKfrHbMWO3"
   },
   "outputs": [],
   "source": [
    "def get_track_ids_from_albums(album_ids):\n",
    "    return list(set([i[\"id\"] for j in album_ids for i in sp.album(j)[\"tracks\"][\"items\"]]))"
   ]
  },
  {
   "cell_type": "code",
   "execution_count": null,
   "metadata": {
    "colab": {
     "base_uri": "https://localhost:8080/"
    },
    "executionInfo": {
     "elapsed": 48724,
     "status": "ok",
     "timestamp": 1623749793320,
     "user": {
      "displayName": "Ignacio Soteras",
      "photoUrl": "",
      "userId": "02050793736257155229"
     },
     "user_tz": -120
    },
    "id": "WzZLGfwlMd2C",
    "outputId": "044a9334-ee0d-4a82-c8d4-577874c47d80"
   },
   "outputs": [],
   "source": [
    "coldplay_songs = get_track_ids_from_albums(coldplay_album_ids)\n",
    "\n",
    "len(coldplay_songs)"
   ]
  },
  {
   "cell_type": "code",
   "execution_count": null,
   "metadata": {},
   "outputs": [],
   "source": [
    "sp.available_markets()"
   ]
  },
  {
   "cell_type": "code",
   "execution_count": null,
   "metadata": {},
   "outputs": [],
   "source": []
  }
 ],
 "metadata": {
  "colab": {
   "authorship_tag": "ABX9TyPVWC1t3Am5oxfsHrz0cF36",
   "mount_file_id": "1f3HsS5F0GzS75tlHyrwhBGlTWbE0nG4o",
   "name": "Code_along_Spotify_structure.ipynb",
   "provenance": []
  },
  "kernelspec": {
   "display_name": "Python 3 (ipykernel)",
   "language": "python",
   "name": "python3"
  },
  "language_info": {
   "codemirror_mode": {
    "name": "ipython",
    "version": 3
   },
   "file_extension": ".py",
   "mimetype": "text/x-python",
   "name": "python",
   "nbconvert_exporter": "python",
   "pygments_lexer": "ipython3",
   "version": "3.10.9"
  },
  "toc": {
   "base_numbering": 1,
   "nav_menu": {},
   "number_sections": true,
   "sideBar": true,
   "skip_h1_title": false,
   "title_cell": "Table of Contents",
   "title_sidebar": "Contents",
   "toc_cell": false,
   "toc_position": {},
   "toc_section_display": true,
   "toc_window_display": false
  },
  "varInspector": {
   "cols": {
    "lenName": 16,
    "lenType": 16,
    "lenVar": 40
   },
   "kernels_config": {
    "python": {
     "delete_cmd_postfix": "",
     "delete_cmd_prefix": "del ",
     "library": "var_list.py",
     "varRefreshCmd": "print(var_dic_list())"
    },
    "r": {
     "delete_cmd_postfix": ") ",
     "delete_cmd_prefix": "rm(",
     "library": "var_list.r",
     "varRefreshCmd": "cat(var_dic_list()) "
    }
   },
   "types_to_exclude": [
    "module",
    "function",
    "builtin_function_or_method",
    "instance",
    "_Feature"
   ],
   "window_display": false
  }
 },
 "nbformat": 4,
 "nbformat_minor": 1
}
